{
  "nbformat": 4,
  "nbformat_minor": 0,
  "metadata": {
    "colab": {
      "provenance": [],
      "authorship_tag": "ABX9TyNTNBq6+zAD3cnfSc2je73e",
      "include_colab_link": true
    },
    "kernelspec": {
      "name": "python3",
      "display_name": "Python 3"
    },
    "language_info": {
      "name": "python"
    }
  },
  "cells": [
    {
      "cell_type": "markdown",
      "metadata": {
        "id": "view-in-github",
        "colab_type": "text"
      },
      "source": [
        "<a href=\"https://colab.research.google.com/github/Syeda-Eman/40-days-of-Python/blob/main/Day_21.ipynb\" target=\"_parent\"><img src=\"https://colab.research.google.com/assets/colab-badge.svg\" alt=\"Open In Colab\"/></a>"
      ]
    },
    {
      "cell_type": "markdown",
      "source": [
        "# **Case Studies : Hacker Statistics**"
      ],
      "metadata": {
        "id": "xbaWl8-qCkAb"
      }
    },
    {
      "cell_type": "markdown",
      "source": [
        "## **Random Numbers**"
      ],
      "metadata": {
        "id": "RH5K_K7IC1jX"
      }
    },
    {
      "cell_type": "markdown",
      "source": [
        "### **Heads or Tails**"
      ],
      "metadata": {
        "id": "VONC6sODFFWx"
      }
    },
    {
      "cell_type": "code",
      "source": [
        "import numpy as np\n",
        "\n",
        "np.random.seed(123)\n",
        "coin = np.random.randint(0,2)\n",
        "print(coin)\n",
        "if coin == 0:\n",
        "  print(\"heads\")\n",
        "else:\n",
        "  print(\"tails\")"
      ],
      "metadata": {
        "colab": {
          "base_uri": "https://localhost:8080/"
        },
        "id": "CPpawgPFF7wo",
        "outputId": "355d1ac9-c9a6-4cbd-d813-9da4ee45cbd7"
      },
      "execution_count": 2,
      "outputs": [
        {
          "output_type": "stream",
          "name": "stdout",
          "text": [
            "0\n",
            "heads\n"
          ]
        }
      ]
    },
    {
      "cell_type": "code",
      "source": [
        "import numpy as np\n",
        "\n",
        "np.random.seed(145)\n",
        "coin = np.random.randint(0,2)\n",
        "print(coin)\n",
        "if coin == 0:\n",
        "  print(\"heads\")\n",
        "else:\n",
        "  print(\"tails\")"
      ],
      "metadata": {
        "colab": {
          "base_uri": "https://localhost:8080/"
        },
        "id": "oAGQWXgVFLWg",
        "outputId": "44230e30-ec06-4c1f-d751-fd5b65e41811"
      },
      "execution_count": 3,
      "outputs": [
        {
          "output_type": "stream",
          "name": "stdout",
          "text": [
            "1\n",
            "tails\n"
          ]
        }
      ]
    },
    {
      "cell_type": "markdown",
      "source": [
        "### **Dice Simulation**"
      ],
      "metadata": {
        "id": "gY8ds1ciIODH"
      }
    },
    {
      "cell_type": "code",
      "source": [
        "import numpy as np\n",
        "\n",
        "# Starting step\n",
        "step = 50\n",
        "\n",
        "# Roll the dice\n",
        "dice=np.random.randint(1,7)\n",
        "\n",
        "# Finish the control construct\n",
        "if dice <= 2 :\n",
        "    step = step - 1\n",
        "elif dice >2 and dice <=5 :\n",
        "    step = step+1\n",
        "else :\n",
        "    step = step + np.random.randint(1,7)\n",
        "\n",
        "# Print out dice and step\n",
        "print(dice)\n",
        "print(step)"
      ],
      "metadata": {
        "colab": {
          "base_uri": "https://localhost:8080/"
        },
        "id": "Rel0snaDINhI",
        "outputId": "5a0aadd0-e6c3-49c5-a962-16c40261630d"
      },
      "execution_count": 4,
      "outputs": [
        {
          "output_type": "stream",
          "name": "stdout",
          "text": [
            "6\n",
            "53\n"
          ]
        }
      ]
    },
    {
      "cell_type": "markdown",
      "source": [
        "## **Random Walk**"
      ],
      "metadata": {
        "id": "RMYK8YfIpzCb"
      }
    },
    {
      "cell_type": "code",
      "source": [
        "import numpy as np\n",
        "np.random.seed(123)\n",
        "outcomes = []\n",
        "for x in range(10):\n",
        "  coin = np.random.randint(0,2)\n",
        "  if coin == 0:\n",
        "    outcomes.append(\"heads\")\n",
        "  else:\n",
        "    outcomes.append(\"tails\")\n",
        "print(outcomes)"
      ],
      "metadata": {
        "colab": {
          "base_uri": "https://localhost:8080/"
        },
        "id": "u45OHa1FqpQI",
        "outputId": "68888168-4dfa-4fa7-bcf1-290e168b447c"
      },
      "execution_count": 5,
      "outputs": [
        {
          "output_type": "stream",
          "name": "stdout",
          "text": [
            "['heads', 'tails', 'heads', 'heads', 'heads', 'heads', 'heads', 'tails', 'tails', 'heads']\n"
          ]
        }
      ]
    },
    {
      "cell_type": "code",
      "source": [
        "import numpy as np\n",
        "np.random.seed(123)\n",
        "tails=[0]\n",
        "for x in range (10):\n",
        "    coin = np.random.randint(0,2)\n",
        "    tails.append(tails[x] + coin)\n",
        "print(tails)"
      ],
      "metadata": {
        "colab": {
          "base_uri": "https://localhost:8080/"
        },
        "id": "9BX9VUCAp3GO",
        "outputId": "4ca39e43-4545-4c6b-e89a-4e647cc6f3ed"
      },
      "execution_count": 6,
      "outputs": [
        {
          "output_type": "stream",
          "name": "stdout",
          "text": [
            "[0, 0, 1, 1, 1, 1, 1, 1, 2, 3, 3]\n"
          ]
        }
      ]
    },
    {
      "cell_type": "markdown",
      "source": [
        "## **Distribution**"
      ],
      "metadata": {
        "id": "KqIvTzht1GuE"
      }
    },
    {
      "cell_type": "code",
      "source": [
        "import numpy as np\n",
        "\n",
        "np.random.seed(123)\n",
        "final_tails = []\n",
        "for x in range(100):\n",
        "  tails = [0]\n",
        "  for x in range(10):\n",
        "    coin = np.random.randint(0,2)\n",
        "    tails.append(tails[x]+coin)\n",
        "  final_tails.append(tails[-1])\n",
        "print(final_tails)"
      ],
      "metadata": {
        "colab": {
          "base_uri": "https://localhost:8080/"
        },
        "id": "MKFYOr-z1JMJ",
        "outputId": "60a0c212-9822-46dc-8c2d-9a7d3f918ecd"
      },
      "execution_count": 7,
      "outputs": [
        {
          "output_type": "stream",
          "name": "stdout",
          "text": [
            "[3, 6, 4, 5, 4, 5, 3, 5, 4, 6, 6, 8, 6, 4, 7, 5, 7, 4, 3, 3, 4, 5, 8, 5, 6, 5, 7, 6, 4, 5, 8, 5, 8, 4, 6, 6, 3, 4, 5, 4, 7, 8, 9, 4, 3, 4, 5, 6, 4, 2, 6, 6, 5, 7, 5, 4, 5, 5, 6, 7, 6, 6, 6, 3, 6, 3, 6, 5, 6, 5, 6, 4, 6, 6, 3, 4, 4, 2, 4, 5, 4, 6, 6, 6, 8, 4, 6, 5, 7, 4, 6, 5, 4, 6, 7, 3, 7, 4, 5, 7]\n"
          ]
        }
      ]
    },
    {
      "cell_type": "code",
      "source": [
        "import matplotlib.pyplot as plt\n",
        "import numpy as np\n",
        "\n",
        "np.random.seed(123)\n",
        "final_tails = []\n",
        "for x in range(100):\n",
        "  tails = [0]\n",
        "  for x in range(10):\n",
        "    coin = np.random.randint(0,2)\n",
        "    tails.append(tails[x]+coin)\n",
        "  final_tails.append(tails[-1])\n",
        "plt.hist(final_tails, bins = 10)\n",
        "plt.show()"
      ],
      "metadata": {
        "colab": {
          "base_uri": "https://localhost:8080/",
          "height": 430
        },
        "id": "t8uuch7f3xJ3",
        "outputId": "cde63a6d-596d-4838-9dd0-64a15e0e7703"
      },
      "execution_count": 8,
      "outputs": [
        {
          "output_type": "display_data",
          "data": {
            "text/plain": [
              "<Figure size 640x480 with 1 Axes>"
            ],
            "image/png": "[encoded data removed]"
          },
          "metadata": {}
        }
      ]
    },
    {
      "cell_type": "code",
      "source": [
        "import matplotlib.pyplot as plt\n",
        "import numpy as np\n",
        "\n",
        "np.random.seed(123)\n",
        "final_tails = []\n",
        "for x in range(1000):\n",
        "  tails = [0]\n",
        "  for x in range(10):\n",
        "    coin = np.random.randint(0,2)\n",
        "    tails.append(tails[x]+coin)\n",
        "  final_tails.append(tails[-1])\n",
        "plt.hist(final_tails, bins = 10)\n",
        "plt.show()"
      ],
      "metadata": {
        "colab": {
          "base_uri": "https://localhost:8080/",
          "height": 432
        },
        "id": "cO7AKnPD4Pp0",
        "outputId": "83c032da-0517-47d2-c447-f25c51e95904"
      },
      "execution_count": 9,
      "outputs": [
        {
          "output_type": "display_data",
          "data": {
            "text/plain": [
              "<Figure size 640x480 with 1 Axes>"
            ],
            "image/png": "[encoded data removed]"
          },
          "metadata": {}
        }
      ]
    }
  ]
}