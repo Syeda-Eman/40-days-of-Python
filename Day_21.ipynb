{
  "nbformat": 4,
  "nbformat_minor": 0,
  "metadata": {
    "colab": {
      "provenance": [],
      "authorship_tag": "ABX9TyMDxltxfoU7S7Gy5XzennRE",
      "include_colab_link": true
    },
    "kernelspec": {
      "name": "python3",
      "display_name": "Python 3"
    },
    "language_info": {
      "name": "python"
    }
  },
  "cells": [
    {
      "cell_type": "markdown",
      "metadata": {
        "id": "view-in-github",
        "colab_type": "text"
      },
      "source": [
        "<a href=\"https://colab.research.google.com/github/Syeda-Eman/40-days-of-Python/blob/main/Day_21.ipynb\" target=\"_parent\"><img src=\"https://colab.research.google.com/assets/colab-badge.svg\" alt=\"Open In Colab\"/></a>"
      ]
    },
    {
      "cell_type": "markdown",
      "source": [
        "# **Case Studies : Hacker Statistics**"
      ],
      "metadata": {
        "id": "xbaWl8-qCkAb"
      }
    },
    {
      "cell_type": "markdown",
      "source": [
        "## **Coin toss**"
      ],
      "metadata": {
        "id": "RH5K_K7IC1jX"
      }
    },
    {
      "cell_type": "markdown",
      "source": [
        "### **Explanation**"
      ],
      "metadata": {
        "id": "dIYfWCsWE_h7"
      }
    },
    {
      "cell_type": "code",
      "execution_count": 1,
      "metadata": {
        "colab": {
          "base_uri": "https://localhost:8080/"
        },
        "id": "9jprgpqrAEws",
        "outputId": "e676e747-9734-483b-a4a4-7675dfcc53f3"
      },
      "outputs": [
        {
          "output_type": "execute_result",
          "data": {
            "text/plain": [
              "0.25391215924564947"
            ]
          },
          "metadata": {},
          "execution_count": 1
        }
      ],
      "source": [
        "import numpy as np\n",
        "np.random.rand() #Pseudo-random numbers"
      ]
    },
    {
      "cell_type": "code",
      "source": [
        "np.random.seed(123) #starting from a seed\n",
        "np.random.rand()"
      ],
      "metadata": {
        "colab": {
          "base_uri": "https://localhost:8080/"
        },
        "id": "SuJdU-b0EBcd",
        "outputId": "bcc57b30-30a4-432e-df7e-0b643916fbc0"
      },
      "execution_count": 2,
      "outputs": [
        {
          "output_type": "execute_result",
          "data": {
            "text/plain": [
              "0.6964691855978616"
            ]
          },
          "metadata": {},
          "execution_count": 2
        }
      ]
    },
    {
      "cell_type": "code",
      "source": [
        "np.random.rand()"
      ],
      "metadata": {
        "colab": {
          "base_uri": "https://localhost:8080/"
        },
        "id": "LNoJZdLcEI25",
        "outputId": "9ac7e3d9-a7f4-4a64-a649-9a903c224070"
      },
      "execution_count": 3,
      "outputs": [
        {
          "output_type": "execute_result",
          "data": {
            "text/plain": [
              "0.28613933495037946"
            ]
          },
          "metadata": {},
          "execution_count": 3
        }
      ]
    },
    {
      "cell_type": "code",
      "source": [
        "np.random.rand()"
      ],
      "metadata": {
        "colab": {
          "base_uri": "https://localhost:8080/"
        },
        "id": "7GpnC24CEKmR",
        "outputId": "2910c1bf-8a81-4aaa-f7cd-c6278a6790b8"
      },
      "execution_count": 4,
      "outputs": [
        {
          "output_type": "execute_result",
          "data": {
            "text/plain": [
              "0.2268514535642031"
            ]
          },
          "metadata": {},
          "execution_count": 4
        }
      ]
    },
    {
      "cell_type": "code",
      "source": [
        "np.random.seed(123) #ensures reproducibility\n",
        "np.random.rand()"
      ],
      "metadata": {
        "colab": {
          "base_uri": "https://localhost:8080/"
        },
        "id": "TKBqUGTHENKq",
        "outputId": "367b6749-9143-4459-ad4d-b5c17cd94ef2"
      },
      "execution_count": 5,
      "outputs": [
        {
          "output_type": "execute_result",
          "data": {
            "text/plain": [
              "0.6964691855978616"
            ]
          },
          "metadata": {},
          "execution_count": 5
        }
      ]
    },
    {
      "cell_type": "markdown",
      "source": [
        "### **Heads or Tails**"
      ],
      "metadata": {
        "id": "VONC6sODFFWx"
      }
    },
    {
      "cell_type": "code",
      "source": [
        "import numpy as np\n",
        "\n",
        "np.random.seed(123)\n",
        "coin = np.random.randint(0,2)\n",
        "print(coin)\n",
        "if coin == 0:\n",
        "  print(\"heads\")\n",
        "else:\n",
        "  print(\"tails\")"
      ],
      "metadata": {
        "colab": {
          "base_uri": "https://localhost:8080/"
        },
        "id": "CPpawgPFF7wo",
        "outputId": "6f014486-cc7a-4297-ebd0-0e6bd169af98"
      },
      "execution_count": 11,
      "outputs": [
        {
          "output_type": "stream",
          "name": "stdout",
          "text": [
            "0\n",
            "heads\n"
          ]
        }
      ]
    },
    {
      "cell_type": "code",
      "source": [
        "import numpy as np\n",
        "\n",
        "np.random.seed(145)\n",
        "coin = np.random.randint(0,2)\n",
        "print(coin)\n",
        "if coin == 0:\n",
        "  print(\"heads\")\n",
        "else:\n",
        "  print(\"tails\")"
      ],
      "metadata": {
        "colab": {
          "base_uri": "https://localhost:8080/"
        },
        "id": "oAGQWXgVFLWg",
        "outputId": "23bf6cb7-e467-4990-adb5-56a089f8de07"
      },
      "execution_count": 12,
      "outputs": [
        {
          "output_type": "stream",
          "name": "stdout",
          "text": [
            "1\n",
            "tails\n"
          ]
        }
      ]
    }
  ]
}