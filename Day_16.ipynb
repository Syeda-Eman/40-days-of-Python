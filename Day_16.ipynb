{
  "nbformat": 4,
  "nbformat_minor": 0,
  "metadata": {
    "colab": {
      "provenance": [],
      "authorship_tag": "ABX9TyOO4L60xWaZ+g2KZskTygGM",
      "include_colab_link": true
    },
    "kernelspec": {
      "name": "python3",
      "display_name": "Python 3"
    },
    "language_info": {
      "name": "python"
    }
  },
  "cells": [
    {
      "cell_type": "markdown",
      "metadata": {
        "id": "view-in-github",
        "colab_type": "text"
      },
      "source": [
        "<a href=\"https://colab.research.google.com/github/Syeda-Eman/40-days-of-Python/blob/main/Day_16.ipynb\" target=\"_parent\"><img src=\"https://colab.research.google.com/assets/colab-badge.svg\" alt=\"Open In Colab\"/></a>"
      ]
    },
    {
      "cell_type": "markdown",
      "source": [
        "# **Comparison Operators**"
      ],
      "metadata": {
        "id": "wl-XMAjHh1W5"
      }
    },
    {
      "cell_type": "code",
      "execution_count": 33,
      "metadata": {
        "colab": {
          "base_uri": "https://localhost:8080/"
        },
        "id": "jlvvHLvWhwrF",
        "outputId": "bd30e1fb-620c-4a62-819b-be1c569d8bb3"
      },
      "outputs": [
        {
          "output_type": "execute_result",
          "data": {
            "text/plain": [
              "True"
            ]
          },
          "metadata": {},
          "execution_count": 33
        }
      ],
      "source": [
        "2<3"
      ]
    },
    {
      "cell_type": "code",
      "source": [
        "2==3"
      ],
      "metadata": {
        "colab": {
          "base_uri": "https://localhost:8080/"
        },
        "id": "agWaI4Zai60N",
        "outputId": "8973e486-4780-4e4b-f44b-e67f318dae69"
      },
      "execution_count": 34,
      "outputs": [
        {
          "output_type": "execute_result",
          "data": {
            "text/plain": [
              "False"
            ]
          },
          "metadata": {},
          "execution_count": 34
        }
      ]
    },
    {
      "cell_type": "code",
      "source": [
        "2<=3"
      ],
      "metadata": {
        "colab": {
          "base_uri": "https://localhost:8080/"
        },
        "id": "TGtw4U_ai9pd",
        "outputId": "f39084a0-ac1f-451f-a66b-e2edd2813820"
      },
      "execution_count": 35,
      "outputs": [
        {
          "output_type": "execute_result",
          "data": {
            "text/plain": [
              "True"
            ]
          },
          "metadata": {},
          "execution_count": 35
        }
      ]
    },
    {
      "cell_type": "code",
      "source": [
        "3<=3"
      ],
      "metadata": {
        "colab": {
          "base_uri": "https://localhost:8080/"
        },
        "id": "WdcWZo9mjCSE",
        "outputId": "01b57515-811e-4265-80e4-5965aac95fb7"
      },
      "execution_count": 36,
      "outputs": [
        {
          "output_type": "execute_result",
          "data": {
            "text/plain": [
              "True"
            ]
          },
          "metadata": {},
          "execution_count": 36
        }
      ]
    },
    {
      "cell_type": "code",
      "source": [
        "x=2\n",
        "y=3\n",
        "x<y"
      ],
      "metadata": {
        "colab": {
          "base_uri": "https://localhost:8080/"
        },
        "id": "0f8Uei1ajD_k",
        "outputId": "8f88081c-fb85-4a21-b3ca-4c8ce17d0051"
      },
      "execution_count": 37,
      "outputs": [
        {
          "output_type": "execute_result",
          "data": {
            "text/plain": [
              "True"
            ]
          },
          "metadata": {},
          "execution_count": 37
        }
      ]
    },
    {
      "cell_type": "code",
      "source": [
        "\"carl\"<\"chris\""
      ],
      "metadata": {
        "colab": {
          "base_uri": "https://localhost:8080/"
        },
        "id": "73TY_ZlCjJK8",
        "outputId": "6d470ed2-fbde-40cc-dac4-953d43b41025"
      },
      "execution_count": 38,
      "outputs": [
        {
          "output_type": "execute_result",
          "data": {
            "text/plain": [
              "True"
            ]
          },
          "metadata": {},
          "execution_count": 38
        }
      ]
    },
    {
      "cell_type": "code",
      "source": [
        "3<4.1"
      ],
      "metadata": {
        "colab": {
          "base_uri": "https://localhost:8080/"
        },
        "id": "kREuMe37jNZt",
        "outputId": "c1768932-42ac-4c4c-fcf9-159441cbea3a"
      },
      "execution_count": 39,
      "outputs": [
        {
          "output_type": "execute_result",
          "data": {
            "text/plain": [
              "True"
            ]
          },
          "metadata": {},
          "execution_count": 39
        }
      ]
    },
    {
      "cell_type": "code",
      "source": [
        "3!=5"
      ],
      "metadata": {
        "colab": {
          "base_uri": "https://localhost:8080/"
        },
        "id": "v8_DU-IcjZaj",
        "outputId": "ca47a087-fd04-4ff7-8301-2ac691aaae95"
      },
      "execution_count": 40,
      "outputs": [
        {
          "output_type": "execute_result",
          "data": {
            "text/plain": [
              "True"
            ]
          },
          "metadata": {},
          "execution_count": 40
        }
      ]
    },
    {
      "cell_type": "code",
      "source": [
        "3!=3"
      ],
      "metadata": {
        "colab": {
          "base_uri": "https://localhost:8080/"
        },
        "id": "HOgVxEnujm_i",
        "outputId": "c8d5fb06-4b9c-407e-d273-370f6462f7b8"
      },
      "execution_count": 41,
      "outputs": [
        {
          "output_type": "execute_result",
          "data": {
            "text/plain": [
              "False"
            ]
          },
          "metadata": {},
          "execution_count": 41
        }
      ]
    },
    {
      "cell_type": "markdown",
      "source": [
        "### **Use case of these operators**"
      ],
      "metadata": {
        "id": "wv_0YaOSkKzY"
      }
    },
    {
      "cell_type": "code",
      "source": [
        "import numpy as np\n",
        "np_height = np.array([1.73, 1.68, 1.71, 1.89, 1.79])\n",
        "np_weight = np.array([65.4, 59.2, 63.6, 88.4, 68.7])\n",
        "bmi= np_weight/np_height**2\n",
        "bmi"
      ],
      "metadata": {
        "colab": {
          "base_uri": "https://localhost:8080/"
        },
        "id": "XfxWgkTukHv_",
        "outputId": "4982d736-28f4-4fb5-efd4-ac3a28636870"
      },
      "execution_count": 42,
      "outputs": [
        {
          "output_type": "execute_result",
          "data": {
            "text/plain": [
              "array([21.85171573, 20.97505669, 21.75028214, 24.7473475 , 21.44127836])"
            ]
          },
          "metadata": {},
          "execution_count": 42
        }
      ]
    },
    {
      "cell_type": "code",
      "source": [
        "bmi>23"
      ],
      "metadata": {
        "colab": {
          "base_uri": "https://localhost:8080/"
        },
        "id": "OwHuHF60k_fR",
        "outputId": "995b12c0-f1ce-4aff-e497-b35a39251cea"
      },
      "execution_count": 43,
      "outputs": [
        {
          "output_type": "execute_result",
          "data": {
            "text/plain": [
              "array([False, False, False,  True, False])"
            ]
          },
          "metadata": {},
          "execution_count": 43
        }
      ]
    },
    {
      "cell_type": "markdown",
      "source": [
        "### **Comparators table**"
      ],
      "metadata": {
        "id": "cyf1zIYmlVzk"
      }
    },
    {
      "cell_type": "markdown",
      "source": [
        "| Comparator | Description | Example |\n",
        "|------------|-------------|---------|\n",
        "| == | Equality | x == y |\n",
        "| != | Inequality | x != y |\n",
        "| < | Less than | x < y |\n",
        "| > | Greater than | x > y |\n",
        "| <= | Less than or equal to | x <= y |\n",
        "| >= | Greater than or equal to | x >= y |\n",
        "| === | Strict equality (type and value) | x === y |\n",
        "| !== | Strict inequality (type and value) | x !== y |\n"
      ],
      "metadata": {
        "id": "hisSnLPCjsAh"
      }
    },
    {
      "cell_type": "markdown",
      "source": [
        "# **Boolean Operators**"
      ],
      "metadata": {
        "id": "La7IFOTtnUOE"
      }
    },
    {
      "cell_type": "markdown",
      "source": [
        "### **and**"
      ],
      "metadata": {
        "id": "JBWEbuWd_s7A"
      }
    },
    {
      "cell_type": "code",
      "source": [
        "True and True"
      ],
      "metadata": {
        "colab": {
          "base_uri": "https://localhost:8080/"
        },
        "id": "X9DAihgW_Mp6",
        "outputId": "b1b59e53-1af8-4cea-fd8e-dd7c55ebd148"
      },
      "execution_count": 44,
      "outputs": [
        {
          "output_type": "execute_result",
          "data": {
            "text/plain": [
              "True"
            ]
          },
          "metadata": {},
          "execution_count": 44
        }
      ]
    },
    {
      "cell_type": "code",
      "source": [
        "False and True"
      ],
      "metadata": {
        "colab": {
          "base_uri": "https://localhost:8080/"
        },
        "id": "LQz9TeiN_PR5",
        "outputId": "d3149dd6-ee92-4b5a-9642-96af5e8147f1"
      },
      "execution_count": 45,
      "outputs": [
        {
          "output_type": "execute_result",
          "data": {
            "text/plain": [
              "False"
            ]
          },
          "metadata": {},
          "execution_count": 45
        }
      ]
    },
    {
      "cell_type": "code",
      "source": [
        "True and False"
      ],
      "metadata": {
        "colab": {
          "base_uri": "https://localhost:8080/"
        },
        "id": "hm4X_m8O_S4q",
        "outputId": "ce223da0-399b-4f64-b33d-e5d3f40956fd"
      },
      "execution_count": 46,
      "outputs": [
        {
          "output_type": "execute_result",
          "data": {
            "text/plain": [
              "False"
            ]
          },
          "metadata": {},
          "execution_count": 46
        }
      ]
    },
    {
      "cell_type": "code",
      "source": [
        "False and False"
      ],
      "metadata": {
        "colab": {
          "base_uri": "https://localhost:8080/"
        },
        "id": "IQYFKiZ3_Vpq",
        "outputId": "c1e5e86a-0e94-4c8e-d9bd-54145ba40358"
      },
      "execution_count": 47,
      "outputs": [
        {
          "output_type": "execute_result",
          "data": {
            "text/plain": [
              "False"
            ]
          },
          "metadata": {},
          "execution_count": 47
        }
      ]
    },
    {
      "cell_type": "code",
      "source": [
        "x = 12\n",
        "x > 5 and x < 15\n",
        "#True     True"
      ],
      "metadata": {
        "colab": {
          "base_uri": "https://localhost:8080/"
        },
        "id": "FMH5hqSg_esz",
        "outputId": "e13919f1-27b4-471c-e06e-c5675e6fb04e"
      },
      "execution_count": 48,
      "outputs": [
        {
          "output_type": "execute_result",
          "data": {
            "text/plain": [
              "True"
            ]
          },
          "metadata": {},
          "execution_count": 48
        }
      ]
    },
    {
      "cell_type": "markdown",
      "source": [
        "### **or**"
      ],
      "metadata": {
        "id": "6kjrnv4bAKU6"
      }
    },
    {
      "cell_type": "code",
      "source": [
        "True or True"
      ],
      "metadata": {
        "colab": {
          "base_uri": "https://localhost:8080/"
        },
        "id": "1uX2nS33_rtZ",
        "outputId": "e9d644b0-68c7-499c-d846-12725935a170"
      },
      "execution_count": 49,
      "outputs": [
        {
          "output_type": "execute_result",
          "data": {
            "text/plain": [
              "True"
            ]
          },
          "metadata": {},
          "execution_count": 49
        }
      ]
    },
    {
      "cell_type": "code",
      "source": [
        "False or True"
      ],
      "metadata": {
        "colab": {
          "base_uri": "https://localhost:8080/"
        },
        "id": "dnGamMKlAW-O",
        "outputId": "dc03ef25-cba6-43dd-df7f-5e5e362a9767"
      },
      "execution_count": 50,
      "outputs": [
        {
          "output_type": "execute_result",
          "data": {
            "text/plain": [
              "True"
            ]
          },
          "metadata": {},
          "execution_count": 50
        }
      ]
    },
    {
      "cell_type": "code",
      "source": [
        "True or False"
      ],
      "metadata": {
        "colab": {
          "base_uri": "https://localhost:8080/"
        },
        "id": "F8fZN3aJAYvY",
        "outputId": "e15de46a-ca98-422c-ceca-b47ef19c47b7"
      },
      "execution_count": 51,
      "outputs": [
        {
          "output_type": "execute_result",
          "data": {
            "text/plain": [
              "True"
            ]
          },
          "metadata": {},
          "execution_count": 51
        }
      ]
    },
    {
      "cell_type": "code",
      "source": [
        "False or False"
      ],
      "metadata": {
        "colab": {
          "base_uri": "https://localhost:8080/"
        },
        "id": "d-SI_vvLAbIu",
        "outputId": "c6cafd5f-373f-49f3-f0c1-63bd9cc43027"
      },
      "execution_count": 52,
      "outputs": [
        {
          "output_type": "execute_result",
          "data": {
            "text/plain": [
              "False"
            ]
          },
          "metadata": {},
          "execution_count": 52
        }
      ]
    },
    {
      "cell_type": "code",
      "source": [
        "y = 5\n",
        "y < 7 or y > 13\n",
        "#True     False"
      ],
      "metadata": {
        "colab": {
          "base_uri": "https://localhost:8080/"
        },
        "id": "QFrrlw0ZAjCv",
        "outputId": "f3debe9f-e57c-47c8-f2b7-82c3f6c085b6"
      },
      "execution_count": 53,
      "outputs": [
        {
          "output_type": "execute_result",
          "data": {
            "text/plain": [
              "True"
            ]
          },
          "metadata": {},
          "execution_count": 53
        }
      ]
    },
    {
      "cell_type": "markdown",
      "source": [
        "### **not**"
      ],
      "metadata": {
        "id": "rBoAq75YAwEP"
      }
    },
    {
      "cell_type": "code",
      "source": [
        "not True"
      ],
      "metadata": {
        "colab": {
          "base_uri": "https://localhost:8080/"
        },
        "id": "gNsq2miMAudz",
        "outputId": "8bf1af48-6bf0-4c21-9651-8105b6fee69a"
      },
      "execution_count": 54,
      "outputs": [
        {
          "output_type": "execute_result",
          "data": {
            "text/plain": [
              "False"
            ]
          },
          "metadata": {},
          "execution_count": 54
        }
      ]
    },
    {
      "cell_type": "code",
      "source": [
        "not False"
      ],
      "metadata": {
        "colab": {
          "base_uri": "https://localhost:8080/"
        },
        "id": "n2VeHRGBAzwb",
        "outputId": "76851d47-64af-4234-e628-75b517fbfae6"
      },
      "execution_count": 55,
      "outputs": [
        {
          "output_type": "execute_result",
          "data": {
            "text/plain": [
              "True"
            ]
          },
          "metadata": {},
          "execution_count": 55
        }
      ]
    },
    {
      "cell_type": "code",
      "source": [
        "bmi"
      ],
      "metadata": {
        "colab": {
          "base_uri": "https://localhost:8080/"
        },
        "id": "A1WeKx9zCVyo",
        "outputId": "c6fa6a9b-c2b6-4a4f-a394-81911233d1a0"
      },
      "execution_count": 56,
      "outputs": [
        {
          "output_type": "execute_result",
          "data": {
            "text/plain": [
              "array([21.85171573, 20.97505669, 21.75028214, 24.7473475 , 21.44127836])"
            ]
          },
          "metadata": {},
          "execution_count": 56
        }
      ]
    },
    {
      "cell_type": "code",
      "source": [
        "bmi > 21"
      ],
      "metadata": {
        "colab": {
          "base_uri": "https://localhost:8080/"
        },
        "id": "keCmroE3CZ-o",
        "outputId": "20eeb374-925a-4b6a-b812-d0a6b8b48059"
      },
      "execution_count": 57,
      "outputs": [
        {
          "output_type": "execute_result",
          "data": {
            "text/plain": [
              "array([ True, False,  True,  True,  True])"
            ]
          },
          "metadata": {},
          "execution_count": 57
        }
      ]
    },
    {
      "cell_type": "code",
      "source": [
        "bmi < 22"
      ],
      "metadata": {
        "colab": {
          "base_uri": "https://localhost:8080/"
        },
        "id": "-ifx0oJ4CeCF",
        "outputId": "29a4518f-1f39-45af-8dfc-5b01575719b5"
      },
      "execution_count": 58,
      "outputs": [
        {
          "output_type": "execute_result",
          "data": {
            "text/plain": [
              "array([ True,  True,  True, False,  True])"
            ]
          },
          "metadata": {},
          "execution_count": 58
        }
      ]
    },
    {
      "cell_type": "markdown",
      "source": [
        "### **logical_and()**"
      ],
      "metadata": {
        "id": "KkmopS0XDmBL"
      }
    },
    {
      "cell_type": "code",
      "source": [
        "np.logical_and(bmi>21, bmi<22)"
      ],
      "metadata": {
        "colab": {
          "base_uri": "https://localhost:8080/"
        },
        "id": "x6MGQXogD4-8",
        "outputId": "5705a455-38f5-4e3f-bff9-a965e39953a1"
      },
      "execution_count": 62,
      "outputs": [
        {
          "output_type": "execute_result",
          "data": {
            "text/plain": [
              "array([ True, False,  True, False,  True])"
            ]
          },
          "metadata": {},
          "execution_count": 62
        }
      ]
    },
    {
      "cell_type": "code",
      "source": [
        "np.logical_and(bmi>21, bmi<22)"
      ],
      "metadata": {
        "colab": {
          "base_uri": "https://localhost:8080/"
        },
        "id": "pHn-L-pzEc7d",
        "outputId": "3fa4dbfd-c53d-4594-c105-9cfe4696ff7a"
      },
      "execution_count": 60,
      "outputs": [
        {
          "output_type": "execute_result",
          "data": {
            "text/plain": [
              "array([21.85171573, 21.75028214, 21.44127836])"
            ]
          },
          "metadata": {},
          "execution_count": 60
        }
      ]
    },
    {
      "cell_type": "markdown",
      "source": [
        "### **logical_or()**"
      ],
      "metadata": {
        "id": "JiNZilRdDrKk"
      }
    },
    {
      "cell_type": "code",
      "source": [
        "np.logical_or(bmi>21, bmi<22)"
      ],
      "metadata": {
        "colab": {
          "base_uri": "https://localhost:8080/"
        },
        "id": "7XtYe_frJEEw",
        "outputId": "35e93e09-a926-4b89-8b75-57a39f9a0c4e"
      },
      "execution_count": 63,
      "outputs": [
        {
          "output_type": "execute_result",
          "data": {
            "text/plain": [
              "array([ True,  True,  True,  True,  True])"
            ]
          },
          "metadata": {},
          "execution_count": 63
        }
      ]
    },
    {
      "cell_type": "markdown",
      "source": [
        "### **logical_not()**"
      ],
      "metadata": {
        "id": "Ew3WAE1MDvpy"
      }
    },
    {
      "cell_type": "code",
      "source": [
        "np.logical_not(bmi>21, bmi<22)"
      ],
      "metadata": {
        "colab": {
          "base_uri": "https://localhost:8080/"
        },
        "id": "hQrDmHyzJIh6",
        "outputId": "29d91e96-f24a-4c6e-9a54-4b5edca4a6e5"
      },
      "execution_count": 65,
      "outputs": [
        {
          "output_type": "execute_result",
          "data": {
            "text/plain": [
              "array([False,  True, False, False, False])"
            ]
          },
          "metadata": {},
          "execution_count": 65
        }
      ]
    }
  ]
}