{
  "nbformat": 4,
  "nbformat_minor": 0,
  "metadata": {
    "colab": {
      "provenance": [],
      "collapsed_sections": [
        "T_E1ymY0pHXx",
        "ifDDtfwrJRFG",
        "viSVHYn0JYS_"
      ],
      "authorship_tag": "ABX9TyOESga7NHN3sirJKnOAhfeY",
      "include_colab_link": true
    },
    "kernelspec": {
      "name": "python3",
      "display_name": "Python 3"
    },
    "language_info": {
      "name": "python"
    }
  },
  "cells": [
    {
      "cell_type": "markdown",
      "metadata": {
        "id": "view-in-github",
        "colab_type": "text"
      },
      "source": [
        "<a href=\"https://colab.research.google.com/github/Syeda-Eman/40_days_of_Python/blob/main/Day_2.ipynb\" target=\"_parent\"><img src=\"https://colab.research.google.com/assets/colab-badge.svg\" alt=\"Open In Colab\"/></a>"
      ]
    },
    {
      "cell_type": "markdown",
      "source": [
        "# **First Program**"
      ],
      "metadata": {
        "id": "T_E1ymY0pHXx"
      }
    },
    {
      "cell_type": "code",
      "execution_count": null,
      "metadata": {
        "id": "PY4Wvifro_HP",
        "colab": {
          "base_uri": "https://localhost:8080/"
        },
        "outputId": "589cf135-7ba4-4dbe-8634-0438af2c6bf5"
      },
      "outputs": [
        {
          "output_type": "stream",
          "name": "stdout",
          "text": [
            "5\n"
          ]
        }
      ],
      "source": [
        "print(2+3)"
      ]
    },
    {
      "cell_type": "code",
      "source": [
        "print('Hello, world')"
      ],
      "metadata": {
        "id": "wRkSdiAGpGw6",
        "colab": {
          "base_uri": "https://localhost:8080/"
        },
        "outputId": "49edf4da-7104-4115-b44c-ba44495e0217"
      },
      "execution_count": null,
      "outputs": [
        {
          "output_type": "stream",
          "name": "stdout",
          "text": [
            "Hello, world\n"
          ]
        }
      ]
    },
    {
      "cell_type": "code",
      "source": [
        "print(\"On 40 days challenge of learning python\")"
      ],
      "metadata": {
        "colab": {
          "base_uri": "https://localhost:8080/"
        },
        "id": "b3gi6fk7JEHo",
        "outputId": "8898288b-e3cd-4b87-9742-82f790cd223e"
      },
      "execution_count": null,
      "outputs": [
        {
          "output_type": "stream",
          "name": "stdout",
          "text": [
            "On 40 days challenge of learning python\n"
          ]
        }
      ]
    },
    {
      "cell_type": "markdown",
      "source": [
        "# **Operators**"
      ],
      "metadata": {
        "id": "ifDDtfwrJRFG"
      }
    },
    {
      "cell_type": "code",
      "source": [
        "#Addition\n",
        "2+2"
      ],
      "metadata": {
        "colab": {
          "base_uri": "https://localhost:8080/"
        },
        "id": "vogQkDSBJY9c",
        "outputId": "8d5fad7b-cdc4-4198-c516-bc357783fbe9"
      },
      "execution_count": null,
      "outputs": [
        {
          "output_type": "execute_result",
          "data": {
            "text/plain": [
              "4"
            ]
          },
          "metadata": {},
          "execution_count": 42
        }
      ]
    },
    {
      "cell_type": "code",
      "source": [
        "#Subtraction\n",
        "3-2"
      ],
      "metadata": {
        "colab": {
          "base_uri": "https://localhost:8080/"
        },
        "id": "ZPz5yHL5JazD",
        "outputId": "bc9a2097-2ca9-4373-c7ce-942654d61c12"
      },
      "execution_count": null,
      "outputs": [
        {
          "output_type": "execute_result",
          "data": {
            "text/plain": [
              "1"
            ]
          },
          "metadata": {},
          "execution_count": 43
        }
      ]
    },
    {
      "cell_type": "code",
      "source": [
        "#Multiplication\n",
        "9*2"
      ],
      "metadata": {
        "colab": {
          "base_uri": "https://localhost:8080/"
        },
        "id": "SqJRvHF6Jg7W",
        "outputId": "f6c8354f-7c1f-450e-99c6-aa156ae545b2"
      },
      "execution_count": null,
      "outputs": [
        {
          "output_type": "execute_result",
          "data": {
            "text/plain": [
              "18"
            ]
          },
          "metadata": {},
          "execution_count": 44
        }
      ]
    },
    {
      "cell_type": "code",
      "source": [
        "#Division\n",
        "8/2"
      ],
      "metadata": {
        "colab": {
          "base_uri": "https://localhost:8080/"
        },
        "id": "4WXKLMnsJcEf",
        "outputId": "5ae2337b-f415-4393-db04-b4575848b5e5"
      },
      "execution_count": null,
      "outputs": [
        {
          "output_type": "execute_result",
          "data": {
            "text/plain": [
              "4.0"
            ]
          },
          "metadata": {},
          "execution_count": 45
        }
      ]
    },
    {
      "cell_type": "code",
      "source": [
        "#Remainder\n",
        "9%2"
      ],
      "metadata": {
        "colab": {
          "base_uri": "https://localhost:8080/"
        },
        "id": "RsIt44vXJes4",
        "outputId": "cc96c121-c37d-4529-b791-b1d326247054"
      },
      "execution_count": null,
      "outputs": [
        {
          "output_type": "execute_result",
          "data": {
            "text/plain": [
              "1"
            ]
          },
          "metadata": {},
          "execution_count": 46
        }
      ]
    },
    {
      "cell_type": "code",
      "source": [
        "#Division (double slashes return integer while single returns float num)\n",
        "6//2"
      ],
      "metadata": {
        "colab": {
          "base_uri": "https://localhost:8080/"
        },
        "id": "PpjAaxqqKKj2",
        "outputId": "02419948-6072-4801-9aad-8bcfa7c7595a"
      },
      "execution_count": null,
      "outputs": [
        {
          "output_type": "execute_result",
          "data": {
            "text/plain": [
              "3"
            ]
          },
          "metadata": {},
          "execution_count": 47
        }
      ]
    },
    {
      "cell_type": "code",
      "source": [
        "#Power\n",
        "2**3"
      ],
      "metadata": {
        "colab": {
          "base_uri": "https://localhost:8080/"
        },
        "id": "nnbAQYZEKbzB",
        "outputId": "e10d0952-343e-4754-e4eb-1d5e56e8952c"
      },
      "execution_count": null,
      "outputs": [
        {
          "output_type": "execute_result",
          "data": {
            "text/plain": [
              "8"
            ]
          },
          "metadata": {},
          "execution_count": 48
        }
      ]
    },
    {
      "cell_type": "code",
      "source": [
        "#PEMDAS (Parenthesis/Exponents/Multiply/Division/Addition/Subtraction)\n",
        "print(3**2/2*3/3+6-4)"
      ],
      "metadata": {
        "colab": {
          "base_uri": "https://localhost:8080/"
        },
        "id": "G74gHIp3KqgT",
        "outputId": "f6720db7-0a87-4828-98bd-cb37d0af41b9"
      },
      "execution_count": null,
      "outputs": [
        {
          "output_type": "stream",
          "name": "stdout",
          "text": [
            "6.5\n"
          ]
        }
      ]
    },
    {
      "cell_type": "markdown",
      "source": [
        "# **Strings**"
      ],
      "metadata": {
        "id": "viSVHYn0JYS_"
      }
    },
    {
      "cell_type": "code",
      "source": [
        "print('Hello, world')"
      ],
      "metadata": {
        "colab": {
          "base_uri": "https://localhost:8080/"
        },
        "id": "OlpswMKgLjKm",
        "outputId": "748b052b-603a-45da-c4b4-d71689ae6d27"
      },
      "execution_count": null,
      "outputs": [
        {
          "output_type": "stream",
          "name": "stdout",
          "text": [
            "Hello, world\n"
          ]
        }
      ]
    },
    {
      "cell_type": "code",
      "source": [
        "print(\"On 40 days challenge of learning python\")"
      ],
      "metadata": {
        "colab": {
          "base_uri": "https://localhost:8080/"
        },
        "id": "cPeENx35LpFe",
        "outputId": "67dc18e4-05aa-4e0a-bbfc-a1009afaea50"
      },
      "execution_count": null,
      "outputs": [
        {
          "output_type": "stream",
          "name": "stdout",
          "text": [
            "On 40 days challenge of learning python\n"
          ]
        }
      ]
    },
    {
      "cell_type": "code",
      "source": [
        "print('''Test for tripple quotes''')"
      ],
      "metadata": {
        "colab": {
          "base_uri": "https://localhost:8080/"
        },
        "id": "VY-PWUDGLvcv",
        "outputId": "f43b3029-f956-4ef8-a35c-d6aebe4f611d"
      },
      "execution_count": null,
      "outputs": [
        {
          "output_type": "stream",
          "name": "stdout",
          "text": [
            "Test for tripple quotes\n"
          ]
        }
      ]
    },
    {
      "cell_type": "code",
      "source": [
        "#spaces will appear as it is\n",
        "print('   hello')"
      ],
      "metadata": {
        "colab": {
          "base_uri": "https://localhost:8080/"
        },
        "id": "Kk-Qsahf75rE",
        "outputId": "249406f7-b4f3-41b6-dc4f-90c982524b0a"
      },
      "execution_count": null,
      "outputs": [
        {
          "output_type": "stream",
          "name": "stdout",
          "text": [
            "   hello\n"
          ]
        }
      ]
    },
    {
      "cell_type": "code",
      "source": [
        "#avoid\n",
        "#print('What's up?')\n",
        "#instead try using double quotes\n",
        "#print(\"What's up?\")"
      ],
      "metadata": {
        "id": "zpWDRfip7ey7"
      },
      "execution_count": null,
      "outputs": []
    },
    {
      "cell_type": "code",
      "source": [
        "#real use of tripple quotes\n",
        "#triple quotes are used to span multiple lines, and they also serve as docstrings.\n",
        "\n",
        "print(''' Artificial Intelligence (AI) refers to the simulation of human intelligence in machines designed to think and act like humans.\n",
        "It encompasses various technologies, including machine learning, natural language processing, and robotics, enabling computers to perform tasks that typically require human cognition.\n",
        "AI is transforming industries by enhancing efficiency, improving decision-making, and enabling personalized experiences.\n",
        "As it continues to evolve, ethical considerations surrounding its use and impact on society are increasingly important.\n",
        "The future of AI holds immense potential for innovation and growth across multiple sectors.''')"
      ],
      "metadata": {
        "id": "SQJBHPlk8CBh",
        "colab": {
          "base_uri": "https://localhost:8080/"
        },
        "outputId": "966fa6bd-464e-43b0-d21b-399ccd7434f7"
      },
      "execution_count": null,
      "outputs": [
        {
          "output_type": "stream",
          "name": "stdout",
          "text": [
            " Artificial Intelligence (AI) refers to the simulation of human intelligence in machines designed to think and act like humans.\n",
            "It encompasses various technologies, including machine learning, natural language processing, and robotics, enabling computers to perform tasks that typically require human cognition.\n",
            "AI is transforming industries by enhancing efficiency, improving decision-making, and enabling personalized experiences.\n",
            "As it continues to evolve, ethical considerations surrounding its use and impact on society are increasingly important.\n",
            "The future of AI holds immense potential for innovation and growth across multiple sectors.\n"
          ]
        }
      ]
    },
    {
      "cell_type": "markdown",
      "source": [
        "# **Comments**"
      ],
      "metadata": {
        "id": "xNYq7Xas9o2t"
      }
    },
    {
      "cell_type": "code",
      "source": [
        "print(\"How are you?\")\n",
        "print(\"Hello world\")\n",
        "print(2+3)"
      ],
      "metadata": {
        "colab": {
          "base_uri": "https://localhost:8080/"
        },
        "id": "_V5Bdt1m9xzj",
        "outputId": "6456c4e1-bc54-4d22-fe41-033a379b867c"
      },
      "execution_count": null,
      "outputs": [
        {
          "output_type": "stream",
          "name": "stdout",
          "text": [
            "How are you?\n",
            "Hello world\n",
            "5\n"
          ]
        }
      ]
    },
    {
      "cell_type": "code",
      "source": [
        "#if you dont want to print any specefic thing then comment it out using '#' or (Ctrl + /)\n",
        "\n",
        "print(\"Hello world\")\n",
        "print(\"How are you?\")\n",
        "# print(2+3)"
      ],
      "metadata": {
        "colab": {
          "base_uri": "https://localhost:8080/"
        },
        "id": "cH_fVdzC-Kd5",
        "outputId": "911c3228-9ae3-49f7-a308-b30334a7665d"
      },
      "execution_count": null,
      "outputs": [
        {
          "output_type": "stream",
          "name": "stdout",
          "text": [
            "Hello world\n",
            "How are you?\n"
          ]
        }
      ]
    },
    {
      "cell_type": "code",
      "source": [
        "#you can comment the info which is not part of your code like this statement. If you wont then it will through errors."
      ],
      "metadata": {
        "id": "Jbvc3ecNAKS2"
      },
      "execution_count": null,
      "outputs": []
    },
    {
      "cell_type": "markdown",
      "source": [
        "# **Variables**"
      ],
      "metadata": {
        "id": "rRi3IqmLAcw8"
      }
    },
    {
      "cell_type": "code",
      "source": [
        "#variables are objects containing specefic values\n",
        "x = 5\n",
        "y = 3\n",
        "\n",
        "x+y"
      ],
      "metadata": {
        "colab": {
          "base_uri": "https://localhost:8080/"
        },
        "id": "j0IkBq9fAfgz",
        "outputId": "2ff4e36b-d806-4c6f-dc35-a05942b3bc35"
      },
      "execution_count": null,
      "outputs": [
        {
          "output_type": "execute_result",
          "data": {
            "text/plain": [
              "8"
            ]
          },
          "metadata": {},
          "execution_count": 59
        }
      ]
    },
    {
      "cell_type": "code",
      "source": [
        "print(x)"
      ],
      "metadata": {
        "colab": {
          "base_uri": "https://localhost:8080/"
        },
        "id": "CGReENZJBauc",
        "outputId": "65412b98-3d47-4d8c-e992-f3913c51c2ad"
      },
      "execution_count": null,
      "outputs": [
        {
          "output_type": "stream",
          "name": "stdout",
          "text": [
            "5\n"
          ]
        }
      ]
    },
    {
      "cell_type": "code",
      "source": [
        "AI = 'Artificial Intelligence (AI) refers to the simulation of human intelligence in machines designed to think and act like humans. It encompasses various technologies, including machine learning, natural language processing, and robotics, enabling computers to perform tasks that typically require human cognition. AI is transforming industries by enhancing efficiency, improving decision-making, and enabling personalized experiences. As it continues to evolve, ethical considerations surrounding its use and impact on society are increasingly important. The future of AI holds immense potential for innovation and growth across multiple sectors.'\n",
        "print(AI) #we will not use quotes as we dont want to print 'AI'but the thing stored in variable AI"
      ],
      "metadata": {
        "colab": {
          "base_uri": "https://localhost:8080/"
        },
        "id": "OSH7bg0DBeCM",
        "outputId": "d91413f1-b2bd-4ee1-d1eb-5586b01d2fc3"
      },
      "execution_count": null,
      "outputs": [
        {
          "output_type": "stream",
          "name": "stdout",
          "text": [
            "Artificial Intelligence (AI) refers to the simulation of human intelligence in machines designed to think and act like humans. It encompasses various technologies, including machine learning, natural language processing, and robotics, enabling computers to perform tasks that typically require human cognition. AI is transforming industries by enhancing efficiency, improving decision-making, and enabling personalized experiences. As it continues to evolve, ethical considerations surrounding its use and impact on society are increasingly important. The future of AI holds immense potential for innovation and growth across multiple sectors.\n"
          ]
        }
      ]
    },
    {
      "cell_type": "code",
      "source": [
        "#printing the type of variable\n",
        "\n",
        "type(x)\n",
        "\n",
        "print(type(x))"
      ],
      "metadata": {
        "colab": {
          "base_uri": "https://localhost:8080/"
        },
        "id": "62cwGTeQDDOH",
        "outputId": "c811d1d9-1323-44a6-fb1f-8dfe00466f3e"
      },
      "execution_count": null,
      "outputs": [
        {
          "output_type": "stream",
          "name": "stdout",
          "text": [
            "<class 'int'>\n"
          ]
        }
      ]
    },
    {
      "cell_type": "code",
      "source": [
        "type(AI)\n",
        "\n",
        "print(type(AI ))"
      ],
      "metadata": {
        "colab": {
          "base_uri": "https://localhost:8080/"
        },
        "id": "vNeQ4HwkEhoY",
        "outputId": "003a5d88-ae0f-47ce-98a1-3d8b147471ba"
      },
      "execution_count": null,
      "outputs": [
        {
          "output_type": "stream",
          "name": "stdout",
          "text": [
            "<class 'str'>\n"
          ]
        }
      ]
    },
    {
      "cell_type": "code",
      "source": [
        "fruit_basket='Mangoes, Apples, Bananas'\n",
        "print(fruit_basket)\n",
        "print(type(fruit_basket))"
      ],
      "metadata": {
        "colab": {
          "base_uri": "https://localhost:8080/"
        },
        "id": "nDPzFsupHSZE",
        "outputId": "e3285f9e-116f-484c-cb80-86389ea90c8c"
      },
      "execution_count": null,
      "outputs": [
        {
          "output_type": "stream",
          "name": "stdout",
          "text": [
            "Mangoes, Apples, Bananas\n",
            "<class 'str'>\n"
          ]
        }
      ]
    },
    {
      "cell_type": "code",
      "source": [
        "# Rules to assign a variable:\n",
        "# 1. The variable should contain letters, numbers or underscores\n",
        "# 2. Do not start the name with numbers\n",
        "# 3. Avoid spaces and dashes. Use underscore instead\n",
        "# 4. Do not use keywords like (If, False, Print)\n",
        "# 5. Name should be short and descriptive\n",
        "# 6. Case sensitive (Prefer lower case letters for your ease)"
      ],
      "metadata": {
        "id": "nQV644g7GC0K"
      },
      "execution_count": null,
      "outputs": []
    },
    {
      "cell_type": "markdown",
      "source": [
        "![funcs names in python.png](data:image/png;base64,iVBORw0KGgoAAAANSUhEUgAAATQAAACkCAMAAAAuTiJaAAABLFBMVEX/8sz/////wAD/88//89X/vQD/5Z3/4Yz/45X/7LT/7b7/6bP/8MP/5Jb/5Jj/8cr/+NH//vr/9d3/6Kz/xQAAAAD/+tLm38339/ers87/9NL//tX06MTk5OXh1raZk4G2rpaFgHLFvKHq3rzf3+Dt7e6en6KWl5rOxajYza+Qinmmp6qro43lrADNzc7Exce2t7mJio3ytgDTnwCGZQCHgnNua2L/3Xtpa2+Ki42ysrS+jwDbpQCsgQCUbwD/0AB3eX14dGlSUlBgXlhQPAB1WACBYQBcRQApHwAhGQBFNAD/3YNGR0lgYmdSVFrnkHkwJACkfAC3iQBYQgAWEAAcFQA5OjxJRz9NZqWPnMWxuNIlKDEbHyoAASD3yaneYlPvrZLedmP1zKzgf2sgk99MAAARc0lEQVR4nO2dC2PbtrXHCWuN47a2uUbm5UKK7zcpkpIsRpIdhZRsJ3Uktc7tvO1my7rt+3+HC1K244gAKCFKndX8p4leOAfAT3iw5jkGs1NrYzEP3YD/RtXQKFRDo1ANjUI1NAp9Cq2JK9b89PNms7nyyaPSPWin7Z2TLrJQs3vWzuG0f+wuGfVOesX7vW776BFS+witef5y/HqnDTl0d05Pu932zunOaQ8+7+2cnly22xBT96TbPj2FRY9Ozo/bO93Tn8e9I8h6p9drwgJo4r9D3YN2cf7zN+2zk7Ori/aPr0/Gr9tvTl6/fN07etm7fPlj7+jdabN9dHp08uYUQmtfXV62L44vIbSTo+7x1fm7i/Ors8cy6O5De/2mOb4cH7Uvj8fvxhdnL8/P3zV/PHnzajzuXvYuL7rN9p9Pj16dvWs2j84v2+Px0c7ZSfvo1Zury27v7GLcfTQz9f70hKPl5H9fvWqeHZ1+c3R+/Evv4qr9c++XV1fn7V963fFxMdKaly8htNMmfHHWLKD9+eVl++XFxfGjhPaut3PcfXk8bp5c7uyMe+1xt3l83O6Om83jq6s2ZLbTHXePm1e9neYYrmM7kN7pce8YvmgfH796dwJLPlw/flPd2z2b+X/wYqJ5fpw/Fq+by7ebxRvF5zvLR7grHHVvPinKLZ88DqEubtvrbYOnjwbSqur/I6BQDY1CNTQK1dAoxHxTa2Mxb7+jEJXRVt1sowVPnlDWzew/b2ys508ONzdCuDlgaE2ZA4pmr2pvj8rs+T6z32BWxbJs6b1P1Dg4JBdYT0g3FVXf6PCg3OxN/TT2nlU5QdvtM09Lhqwmy1L+mLmYmqugsZ6zTt9Rblivr7h3L1Q3k5CmldB0rbIFBGhE2wZqpLFTqRhtsMkcHHOIcUeGxrKc7LA3lqRRi3LDJYzjcst6ObbvqhLHNMouqqEp0JxcBAGtcdPiqcAUT7jiv9VCSGiJzjUUr8+qUuApTN+TS2ZEaKqnyK7uJZKrevAFftAh3DS0a1nRNFWVWcVTGQjNURktKLmohCZ5YuahR+ldXSVoDSfxmH4/cK49CVaraVmgqJ63WgoFjUtUT3f1qd534ZhTZH2mr1ZHgMYqsiDKjugqkJ0oTKXNRpqQiIqiyI1EzFvguaqewX9LxaqhZXqik4daGRqrqYLi6VMpEfSEge0I4EthtmqHG2lM4kwgNEZRA9lxxFUzIrRAYGRXkQNPgCuSKJfGKdENW0BTBFWfupMcmuSoKsX0lDJB75PXNRQ0mVP6sL9TQUxYRVMUDvZmutJKzJoGR9ZUnuiqK/flw0SWS9WRpqc49QIIDQ5XDU5RL8O3HD3SDvPGCn0xCf4iwlkicX/RuFKxNaBJsHZiETQ0Me+vlzFZlmhBDo2brtqhds9i7+BYrtgMqDaCQhxbLKuE5Rjhhv1TWX/92582X9OYvPnkEoiNIDdZ9pnJN6Pls7U2gmp9ues0BLS//fX/aKCtUT39ddrXBY35H6RKxWpoFKqhUaiGRqEHhobYPavNHju0eqRtbFdDo7Dbp/whJPVPDz9x87A/hHy+t0fl5Pk+8+IphaiMtupmGy3YfUtZN/MdoNC3NEZlUdX92aZ3+uEHyrqZZ1Rmf6Srbmtu/rgVaH+gs3v2lUILQ7IlBprB339hFg+mgXOyTWjhnOdTslk1NNMEaauqENaNkZpkSwy09D4gOyoeQhvnBAutouEoaNFsBBbQEpryLX75ZEXo3pqtWysTWBYf8nz+jgl4vvioLCy00ZC/8YQpgIHWMQCsG1ZbNCGGredbkYWpHQvNnJvQhZk3HSkkNCs15iAdDX3jfTTnY+vmK7snZG9j2zZs37Zb76NBq9NpDcw0tS0jBX5kdEao7xsLzU5btt+JjdmIRxfAQWuNotTw5/4iHpj+wE/51E8tc+R3UKVx0MJFZLyPYxvM0LUjoflhOuAHwBwYHfjdzW17sVoE2Vs4HaEVPzdTYBtxDFITfvFzCG0UprZ9jWgAFlrk554GIbKvubAjzbQHsR+BAfBDKwRpOACGBfxyD3LhoMHFqZUuO4IUeqSB9BrM4MKSQ2uhlhdkbzshbyz4fIBBaKMYDApo8FUnstGLMR6axS+A0TE2htZ6D6wRhDbPoVlgAKeMb1kRP0OVxkIb5NCAP8PsRihoRgRaHRAObbM1ArHJd4brTU/T7gADWpk+iFrwSx7xoxawQD7NgT30ERb4jSACYWfIw/oxwkAbmeHQCiMDwCYYkd8JQTT0I3Noo2rHbwRxpwUN+L9jPv5aLzmq9Ftcp0W4bbeGhlcLswnV0GhUQ6NQDY1CNTQK1dAoVEOjUA2NQjU0Cj1j9mjMttHkz3PzkND2mIM/UOjJcxqrspsHMb3Tt9/R2R0wu3sUojLaqptttODJE8q6mf3nm98ufX5wWHWb9ebzBqkcxk2DaLQscnhQ2exPvSB85skXZFv0x+jkiwZbkX7xZe+wr5OC8FvcYS/HQN7YoQJgGpocyMQY32po4jS3Z6UpKQsD7YYNstVo8rLWgDa974XVvHIQLBYaGwQsIyrMNfJTTCyHOBWZZdYBOnuiClqDO0yKsNvAKccYV7pJ7rI2WA435pHQboJki2Bflsl09qMfTisHmSOhFaG6QqAIrBgwk9xbudkYaInIqZnmSWKfkT1v3d7efexk6lQIvL44IQZYI900tGvPSWSx76mMp2ay10eZoqCxstoPhKCfSU4CG53pmqpqrOcFkpw5znrQxESQNVFVkr58qDITVlOz1XwAErSJJGSSmDmZnpSmWAU0dqrDsTrVVS2gmeUJo3j5dy1rmSslQoKarEhofY2Z6Rnnwq9bSKRMnzGw7bKg65KirgmN7et92Q0UWZhKCTMRp65SymIgQJvCwVZAK+deVEJLRDHRp9CQamlMRCXgZE0ItEyS+gJyhUNDc5kpNJAyLRBUCG3CiomWp4IEwbrQGo4XBJmkKHDEFNA0pzRX8GsaNxFZZeplIpwgG0NTkmwqqJ5MBQ1WrsicPvEyLpEkdYORprrMRMjURNLkvM+6nGUKO/UCJVOzNaEx7D9cbcIFARyqU3HGBmo5xwgXPsrmK+JyYS1noa2RughX3tskBoKwlxy5WZ79kbeBQW4lmI0AFuZuUkaYYv0vNgL4yCEy+dC7JyzJLT0VfxG5I3UkJI1dDY3CroZGYVdDo7CroVHY1ckXFHb1SKOwq6FR2D1uaNgfQpLt9pndw+8319NvKYwQbh7E9E7PnlGZHe4yu99/u7EgtG3o+116W5pmr+rZMyqz73frW3iba6++Wby5qu+wtzaKZb+TVYQ3RzGxEM7NMqo6ug31tcphzl8cmvGxHSWtAQ0VYV0NbVjkO8TYSGOim2UA++jWuFOOsl4TmokMUL4VCdqAjwyADKTHQisCtUedOI/WpoFmWQPTHNo8BTR/ODQXIOzYIO4M8wb4YLgptNAfRsDodIA1swjFkNCMCIx4I4xb84ExHw1RSSsYaCGI/TCFpK9BhBqjFdBGFpibA7OVRhtDC20wAIvWAER23AGpEYKBuTE0fwjmrTkIUxObiJALPdKgpeEbc94PwcIwUL3HQBulg1Hog5SfA2S9FdDsENjmzLbjzUdaOLdssIDo+EEcQ0cda0YBLYa4U+iiRUyMQ0PrxLE9AEtoAJn+gYGWJ0aFFpzYaZxSjDQjja5NexS1RsQ1BQmtMwrBDBLrhPF8lPKLcGZuvKZZeboM7EPEz0kpkGho0cxMLbDg46E52wgab5h8njuXP0HN6qo1rZXnsBm5E2IxhJt4ZKZ5Ip3RArxpwCYYJjDLXsjQzGXTW6RkT4DdCMylPTD4PKEPUeCrC+oLO0NsfuY9feXXaUjVF7cUqqFRqIZGoRoahWpoFKqhUaiGRqEaGoUeO7T6FzRtrD3mxRMKvaUxKouq7s82vdPuLmXd9ckXGwudfFF9u3Sdu7zs3T+0bghxlL/JHfb8U0QTvmAADKvATusyKY+C6Aa2lhAb/mWhLb8tXWswrFPuACksIbdERKoWZpXQGgw3k6aMSvw97SQ3h1NdCfBgqqFVQ0VDy8N9VY1lGw0345j8DI+SHR6aqLnwr4OurmpeuVoeHu5IE/psIUdUy2Hld6qCxkqay0pu+fSH+9UjocFeS67OORrjZoLrIA7uwENjFVd1ZQU9UqpC4l0PfksTPZEmxANqiG4SyZPpoUmqlLmZR0yyQofETxgtkB0l0DxJ1RNnWj6chwDNlaeKlKBHShU0OZMnIoQmJvhuV7nJdFK6SwU0VlEERckIR5UwOGiK0tdlJ5G9xFG1QNhoenLvWS/ghBmy15XJF4HAcTMIbUoPLdEDhRpaQ+sLnrPxyRfFu9OM8xzP5QQ3c/uHiDRCwu4peYqreOiTo6rWNEGRA0FpaPAPqW9EN5roEvpcNT05xdM4jfiV4TaCTOMcSZA9RdRgP7RNd09srmzVSPvpwz8//PPXf/30079+/bBxvuetE+I1XuXuySLO+VitHp2xAifX7aEh6FOvvkwkJPvv/8A/P3349dcP/6EeaWR9wes08vBkvlj4KPtRn+OGoDrmlkI1NArVyRcUqkcahWpoFKqhUeihoT3e40K+oz8uZJdCVEZbdbONFryldFIfF0JTd33fc3N9sZvFiJBPGjc4/RdAKwWeVve2fPADQmU3MdKsHPj61UHLo4uLv8sH+LhYbXUFNGhlRbc+CCq7yYOL+aUVD27rb81LlmRot6YVLdgitNAfhFE64ge+GaadqHVtRzN/pWoytI6fmlZoQ26DETGQv+xmFPtzazBcmNbCnwNrOIjCa380K6UjkKDBFi9asTUwfDs2Bz7+lJktQuNHQyvqGHwaQ27+Is/ZKH3TZGjX8dD2Q8tuhYN4QZqmSGj5sRVR5IegOC1kEVr5SRSrIkJLQeSDOI3zXgwI6R9bhDZv5YfILHgQ2bBSkENb74yVO83gtMin5yBKyfMTCS2G1cWR74OFkR/bEdrA3Gx6wtns58fTQFxzExDyP7YILRoO43hotYZ2i0+HkWnBVd3eaHpCD2Zs+MNRnh1GolZ2E4VxCDogDP10GIO4A5+O8vpXy5GhDYcg6tjhaOi3him+AV/dJcfnuqnYfYnQyrMZrd8dNIN8RBkJGl9xJNydfnfQKvTVXaetoRoahWpoFKqhUaiGRqEaGoUeO7T6J7cba495cbC/sQ5ePN3caKtuntI0e1W7u8+o9PYx343a2/uBSk8Q9z1XI302/43K695AfPD7nswhhRpPy9DYYOWNYNPf3V0qjnv/waFtLQCGmzHLDIIiuIxtMFNxg1+tz94kqhQnQNxEFGq42glupi4xuI0ErbGseumB4GSbYQncRFEY3VEaTqCzeuCyU3E1bYPQW2jr6qLDKgonKhonOYokzcpjtcoN64quq9CFxDuapAcO54rFv4GEHejbhPbeCWQNkvL0hFHERE+U1YB+bG9Z1XE8KcskWdOkTAq0QJUSCRdlTYDGZVIWaKXzE+5EgCbOnMO82ao00UVJZbAR5tsdaayeH4MgZ3Kiy/JESt6vrkrY3nITz1OFfiJkOidOZDUItPw4BUyzSdCglSSq2BNaSNAShlW8idSXtL4W5J3AFNwqtL87iqwEnCYfilIiTiX4Z92RxiWSyLj9zJU1V0p0kQ1UPdEzTLZNxUiTxIwKGlyDr5mppEqinjjeIXaObxNaw4HrkiQxnBYonKZoosas5hjheysqgeuI0EQJWDEI9EAOJFaiWNMcEbrBJwkRoB060DrQRBe2ReKcYPVi4GP12wwfbdzsOI2bA4TKnom75+3JScUBGLKSDxZM30mXHEUWAF3GSuNjFgCDzgS4KVcH9VFUX0OjqL6GRlF9DY2i+hoaRfV18gVF9fVIo6i+hkZRfQ2Novo6+YKi+s9Ivth/+on213i6/2L5xoppWWRnt25KBdZwdtfsyvZine3vvl3txVrO9l/8P852Vw+CLs3+AAAAAElFTkSuQmCC)"
      ],
      "metadata": {
        "id": "uvn7usi9aq58"
      }
    },
    {
      "cell_type": "markdown",
      "source": [
        "# **Input variables**"
      ],
      "metadata": {
        "id": "7dTEgoP3KYCX"
      }
    },
    {
      "cell_type": "code",
      "source": [
        "toy_basket = \"Cars\"\n",
        "print(toy_basket)"
      ],
      "metadata": {
        "colab": {
          "base_uri": "https://localhost:8080/"
        },
        "id": "xr-ZMm40Khpm",
        "outputId": "161f0921-dc59-46c3-ad92-f80a737061d6"
      },
      "execution_count": null,
      "outputs": [
        {
          "output_type": "stream",
          "name": "stdout",
          "text": [
            "Cars\n"
          ]
        }
      ]
    },
    {
      "cell_type": "code",
      "source": [
        "#input function\n",
        "toy_basket = input(\"What is your favourite toy? \")\n",
        "print(toy_basket)"
      ],
      "metadata": {
        "colab": {
          "base_uri": "https://localhost:8080/"
        },
        "id": "RzkwBSZQLt5b",
        "outputId": "cf87f3f6-c2e2-456d-ae06-ffb97f09d91e"
      },
      "execution_count": null,
      "outputs": [
        {
          "output_type": "stream",
          "name": "stdout",
          "text": [
            "What is your favourite toy? car\n",
            "car\n"
          ]
        }
      ]
    },
    {
      "cell_type": "code",
      "source": [
        "#program from input function\n",
        "name = input('What is your name? ')\n",
        "greetings = 'Hello!'\n",
        "\n",
        "print(greetings, name)"
      ],
      "metadata": {
        "colab": {
          "base_uri": "https://localhost:8080/"
        },
        "id": "JoyUKUlsML55",
        "outputId": "784b02f0-bdcb-45ee-e58a-b9317bca64f3"
      },
      "execution_count": null,
      "outputs": [
        {
          "output_type": "stream",
          "name": "stdout",
          "text": [
            "What is your name? Eman\n",
            "Hello! Eman\n"
          ]
        }
      ]
    },
    {
      "cell_type": "code",
      "source": [
        "#another way to do the same thing\n",
        "name = input('What is your name? ')\n",
        "\n",
        "print('Hello!', name)"
      ],
      "metadata": {
        "colab": {
          "base_uri": "https://localhost:8080/"
        },
        "id": "EIxWNi6FMoMV",
        "outputId": "a0c14f07-b98a-4af6-de75-7f2e455f7936"
      },
      "execution_count": null,
      "outputs": [
        {
          "output_type": "stream",
          "name": "stdout",
          "text": [
            "What is your name? Eman\n",
            "Hello! Eman\n"
          ]
        }
      ]
    },
    {
      "cell_type": "code",
      "source": [
        "#another program from input function\n",
        "name = input('What is your name? ')\n",
        "age = input('What is your age?')\n",
        "greetings = 'Hello!'\n",
        "\n",
        "print(greetings, name, \", You are still young\")"
      ],
      "metadata": {
        "colab": {
          "base_uri": "https://localhost:8080/"
        },
        "id": "GEiAjUt3Mzx-",
        "outputId": "f4f77d6a-db67-4141-9615-99034690fb3f"
      },
      "execution_count": null,
      "outputs": [
        {
          "output_type": "stream",
          "name": "stdout",
          "text": [
            "What is your name? Eman\n",
            "What is your age?15\n",
            "Hello! Eman , You are still young\n"
          ]
        }
      ]
    },
    {
      "cell_type": "markdown",
      "source": [
        "# **Conditional Logics**"
      ],
      "metadata": {
        "id": "htY_fVsJ6QLb"
      }
    },
    {
      "cell_type": "code",
      "source": [
        "# Logical operators are either \"True or False\", \"Yes or No\", \"0 or 1\"\n",
        "# equal to ==\n",
        "# not equal to !=\n",
        "# less than <\n",
        "# greater than >\n",
        "# less than and equal to <=\n",
        "# greater than and equal to >="
      ],
      "metadata": {
        "id": "XNUXuDNB68pZ"
      },
      "execution_count": null,
      "outputs": []
    },
    {
      "cell_type": "code",
      "source": [
        "print(4==4)"
      ],
      "metadata": {
        "id": "rMUrJlxc9VWS",
        "outputId": "8275fd9c-ac7e-4252-c211-5b151e864206",
        "colab": {
          "base_uri": "https://localhost:8080/"
        }
      },
      "execution_count": null,
      "outputs": [
        {
          "output_type": "stream",
          "name": "stdout",
          "text": [
            "True\n"
          ]
        }
      ]
    },
    {
      "cell_type": "code",
      "source": [
        "print(4!=4)"
      ],
      "metadata": {
        "id": "z2okxNnt9ikM",
        "outputId": "5f3252fa-b8ef-4a8d-8968-2bfd2d3f59e6",
        "colab": {
          "base_uri": "https://localhost:8080/"
        }
      },
      "execution_count": null,
      "outputs": [
        {
          "output_type": "stream",
          "name": "stdout",
          "text": [
            "False\n"
          ]
        }
      ]
    },
    {
      "cell_type": "code",
      "source": [
        "print(4>3)"
      ],
      "metadata": {
        "id": "rRDZlshp9mcC",
        "outputId": "36499f0a-0823-47c3-f130-c8d324e34a73",
        "colab": {
          "base_uri": "https://localhost:8080/"
        }
      },
      "execution_count": null,
      "outputs": [
        {
          "output_type": "stream",
          "name": "stdout",
          "text": [
            "True\n"
          ]
        }
      ]
    },
    {
      "cell_type": "code",
      "source": [
        "print(3<6)"
      ],
      "metadata": {
        "id": "PO9OWDkJ9qY9",
        "outputId": "9c093fd1-19bc-4b42-ae5e-5c457b384e21",
        "colab": {
          "base_uri": "https://localhost:8080/"
        }
      },
      "execution_count": null,
      "outputs": [
        {
          "output_type": "stream",
          "name": "stdout",
          "text": [
            "True\n"
          ]
        }
      ]
    },
    {
      "cell_type": "code",
      "source": [
        "print(3>=5)"
      ],
      "metadata": {
        "id": "E7yuzVeR9s_c",
        "outputId": "45c0d02a-64b7-4995-920a-9d427cbd72b4",
        "colab": {
          "base_uri": "https://localhost:8080/"
        }
      },
      "execution_count": null,
      "outputs": [
        {
          "output_type": "stream",
          "name": "stdout",
          "text": [
            "False\n"
          ]
        }
      ]
    },
    {
      "cell_type": "code",
      "source": [
        "print(3<=5)"
      ],
      "metadata": {
        "id": "WsPZMxmr9xdJ",
        "outputId": "96cb542c-77c6-44c4-9d2b-3125c8f03cd3",
        "colab": {
          "base_uri": "https://localhost:8080/"
        }
      },
      "execution_count": null,
      "outputs": [
        {
          "output_type": "stream",
          "name": "stdout",
          "text": [
            "True\n"
          ]
        }
      ]
    },
    {
      "cell_type": "code",
      "source": [
        "# Application of logical operators\n",
        "my_age = 4\n",
        "age_at_school = 5\n",
        "print(my_age == age_at_school)"
      ],
      "metadata": {
        "id": "7H7Enntm99EG",
        "outputId": "7c8231af-e447-413d-837f-73eefff46137",
        "colab": {
          "base_uri": "https://localhost:8080/"
        }
      },
      "execution_count": null,
      "outputs": [
        {
          "output_type": "stream",
          "name": "stdout",
          "text": [
            "False\n"
          ]
        }
      ]
    },
    {
      "cell_type": "code",
      "source": [
        "#another application of input operator with logicals\n",
        "age_at_school=5\n",
        "eman_age=input(\"How old is eman?\") #input function\n",
        "print(eman_age==age_at_school) #logical operator\n",
        "\n",
        "#this will give error by giving answer as false only."
      ],
      "metadata": {
        "id": "UO34RvuiA7Bb",
        "outputId": "0cd20bec-01e3-42a9-b079-48e23d921eea",
        "colab": {
          "base_uri": "https://localhost:8080/"
        }
      },
      "execution_count": null,
      "outputs": [
        {
          "output_type": "stream",
          "name": "stdout",
          "text": [
            "How old is eman?5\n",
            "False\n"
          ]
        }
      ]
    },
    {
      "cell_type": "code",
      "source": [
        "#Solution to solve this error\n",
        "age_at_school=5\n",
        "eman_age=input(\"How old is eman?\") #input function\n",
        "eman_age=int(eman_age) #changing to integer\n",
        "print(type(eman_age))\n",
        "print(eman_age==age_at_school) #logical operator"
      ],
      "metadata": {
        "id": "n-uu1TuMBpZD",
        "outputId": "31f3ddea-ff53-48e7-c2a2-59a94d37fa4d",
        "colab": {
          "base_uri": "https://localhost:8080/"
        }
      },
      "execution_count": null,
      "outputs": [
        {
          "output_type": "stream",
          "name": "stdout",
          "text": [
            "How old is eman?5\n",
            "<class 'int'>\n",
            "True\n"
          ]
        }
      ]
    },
    {
      "cell_type": "markdown",
      "source": [
        "# **Type Conversion**"
      ],
      "metadata": {
        "id": "xtVCgP1kODMH"
      }
    },
    {
      "cell_type": "code",
      "source": [
        "x = 10 #integer\n",
        "y = 10.2 #float\n",
        "z = \"Hello\" #string\n"
      ],
      "metadata": {
        "id": "-bQCv-prOLuS"
      },
      "execution_count": null,
      "outputs": []
    },
    {
      "cell_type": "code",
      "source": [
        "print(type(x))\n",
        "print(type(y))\n",
        "print(type(z))"
      ],
      "metadata": {
        "id": "JqcrPWOdSlsy",
        "outputId": "2c6c67f2-ae0a-4af7-c971-9270feea083f",
        "colab": {
          "base_uri": "https://localhost:8080/"
        }
      },
      "execution_count": null,
      "outputs": [
        {
          "output_type": "stream",
          "name": "stdout",
          "text": [
            "<class 'int'>\n",
            "<class 'float'>\n",
            "<class 'str'>\n"
          ]
        }
      ]
    },
    {
      "cell_type": "code",
      "source": [
        "#implicit type conversion\n",
        "x=x+y\n",
        "print(x, \"Type of x is:\", type(x))\n"
      ],
      "metadata": {
        "id": "0ahWeUtxTeBX",
        "outputId": "44e94072-c8ce-4526-83aa-290f16cd8a0d",
        "colab": {
          "base_uri": "https://localhost:8080/"
        }
      },
      "execution_count": null,
      "outputs": [
        {
          "output_type": "stream",
          "name": "stdout",
          "text": [
            "20.2 Type of x is: <class 'float'>\n"
          ]
        }
      ]
    },
    {
      "cell_type": "code",
      "source": [
        "#explicit type conversion\n",
        "age=input(\"What is your age? \")\n",
        "age=int(age)\n",
        "print(type(age))"
      ],
      "metadata": {
        "id": "HAicTTnxY94U",
        "outputId": "04ee74c0-e6d7-4606-cdb5-86671f64f465",
        "colab": {
          "base_uri": "https://localhost:8080/"
        }
      },
      "execution_count": null,
      "outputs": [
        {
          "output_type": "stream",
          "name": "stdout",
          "text": [
            "What is your age? 15\n",
            "<class 'int'>\n"
          ]
        }
      ]
    },
    {
      "cell_type": "code",
      "source": [
        "#explicit type conversion\n",
        "age=input(\"What is your age? \")\n",
        "#age=int(age) not changing it to int will make it a string\n",
        "print(type(age))"
      ],
      "metadata": {
        "id": "deE9xy6xaPl8",
        "outputId": "d52fe996-ed14-4790-d3e7-cd7eb05cf126",
        "colab": {
          "base_uri": "https://localhost:8080/"
        }
      },
      "execution_count": null,
      "outputs": [
        {
          "output_type": "stream",
          "name": "stdout",
          "text": [
            "What is your age? 15\n",
            "<class 'str'>\n"
          ]
        }
      ]
    },
    {
      "cell_type": "code",
      "source": [
        "#explicit type conversion\n",
        "#another way of changing type in the print function\n",
        "age=input(\"What is your age? \")\n",
        "print(age, type(int(age)))"
      ],
      "metadata": {
        "id": "ipLOul3ea2Cc",
        "outputId": "bf314787-6883-4393-d2a2-afdc24dce926",
        "colab": {
          "base_uri": "https://localhost:8080/"
        }
      },
      "execution_count": null,
      "outputs": [
        {
          "output_type": "stream",
          "name": "stdout",
          "text": [
            "What is your age? 15\n",
            "15 <class 'int'>\n"
          ]
        }
      ]
    },
    {
      "cell_type": "markdown",
      "source": [
        "# **If, Else, and Elif**"
      ],
      "metadata": {
        "id": "StDdrUdkiJpC"
      }
    },
    {
      "cell_type": "code",
      "source": [
        "required_age_at_school = 5\n",
        "eman_age = 4"
      ],
      "metadata": {
        "id": "WB4XFUgebHpf"
      },
      "execution_count": null,
      "outputs": []
    },
    {
      "cell_type": "code",
      "source": [
        "# Can eman go to school?"
      ],
      "metadata": {
        "id": "ljTaUASkicE4"
      },
      "execution_count": null,
      "outputs": []
    },
    {
      "cell_type": "code",
      "source": [
        "if eman_age==required_age_at_school:\n",
        "    print(\"Eman can go to school\")"
      ],
      "metadata": {
        "id": "Z6Z3E0FrifHB"
      },
      "execution_count": null,
      "outputs": []
    },
    {
      "cell_type": "code",
      "source": [
        "required_age_at_school = 5\n",
        "eman_age = 5"
      ],
      "metadata": {
        "id": "Nc7YvYRbjMN5"
      },
      "execution_count": null,
      "outputs": []
    },
    {
      "cell_type": "code",
      "source": [
        "# Can eman go to school now?"
      ],
      "metadata": {
        "id": "ikmhAPxejPFY"
      },
      "execution_count": null,
      "outputs": []
    },
    {
      "cell_type": "code",
      "source": [
        "if eman_age==required_age_at_school:\n",
        "    print(\"Eman can go to school\")"
      ],
      "metadata": {
        "id": "FXUUthMIin7K",
        "outputId": "68d6f0eb-6f71-47fe-c69a-9a1768c2deb4",
        "colab": {
          "base_uri": "https://localhost:8080/"
        }
      },
      "execution_count": null,
      "outputs": [
        {
          "output_type": "stream",
          "name": "stdout",
          "text": [
            "Eman can go to school\n"
          ]
        }
      ]
    },
    {
      "cell_type": "code",
      "source": [
        "required_age_at_school = 5\n",
        "eman_age = 4\n",
        "#using if and else\n",
        "if eman_age==required_age_at_school:\n",
        "    print(\"Eman can go to school\")\n",
        "else:\n",
        "    print(\"Eman can not go to school\")"
      ],
      "metadata": {
        "id": "XJbdy885jlTg",
        "outputId": "988d5247-2f69-4b83-f39c-defb1791a09b",
        "colab": {
          "base_uri": "https://localhost:8080/"
        }
      },
      "execution_count": null,
      "outputs": [
        {
          "output_type": "stream",
          "name": "stdout",
          "text": [
            "Eman can not go to school\n"
          ]
        }
      ]
    },
    {
      "cell_type": "code",
      "source": [
        "required_age_at_school = 5\n",
        "eman_age = 8\n",
        "#using if, else, and elif\n",
        "if eman_age==required_age_at_school:\n",
        "    print(\"Eman can go to school\")\n",
        "elif eman_age > required_age_at_school:\n",
        "    print(\"She should join Higher secondary school\")\n",
        "else:\n",
        "    print(\"Eman can not go to school\")\n"
      ],
      "metadata": {
        "id": "5qTrLPxmkFM6",
        "outputId": "1682c6ca-6a0b-4c57-9ee2-f0f227840bc8",
        "colab": {
          "base_uri": "https://localhost:8080/"
        }
      },
      "execution_count": null,
      "outputs": [
        {
          "output_type": "stream",
          "name": "stdout",
          "text": [
            "She should join Higher secondary school\n"
          ]
        }
      ]
    },
    {
      "cell_type": "code",
      "source": [
        "required_age_at_school = 5\n",
        "eman_age = 3\n",
        "\n",
        "#using if, else, and 2 times elif\n",
        "if eman_age==required_age_at_school:\n",
        "    print(\"Eman can go to school\")\n",
        "elif eman_age > required_age_at_school:\n",
        "    print(\"She should join Higher secondary school\")\n",
        "elif eman_age < required_age_at_school:\n",
        "    print(\"She is still a baby.\")\n",
        "else:\n",
        "    print(\"Eman can not go to school\")\n"
      ],
      "metadata": {
        "id": "YIot6Fj2kx1M",
        "outputId": "10837de6-bf49-4159-9b6e-284bd55ab52d",
        "colab": {
          "base_uri": "https://localhost:8080/"
        }
      },
      "execution_count": null,
      "outputs": [
        {
          "output_type": "stream",
          "name": "stdout",
          "text": [
            "She is still a baby.\n"
          ]
        }
      ]
    },
    {
      "cell_type": "markdown",
      "source": [
        "# **Functions**"
      ],
      "metadata": {
        "id": "KUjm37OVNrKk"
      }
    },
    {
      "cell_type": "code",
      "source": [
        "#printing 5 times\n",
        "print('My name is Eman')\n",
        "print('My name is Eman')\n",
        "print('My name is Eman')\n",
        "print('My name is Eman')\n",
        "print('My name is Eman')"
      ],
      "metadata": {
        "colab": {
          "base_uri": "https://localhost:8080/"
        },
        "id": "_3qGXdjoN1Fl",
        "outputId": "92ba969b-239f-449c-82ae-338132e1900e"
      },
      "execution_count": null,
      "outputs": [
        {
          "output_type": "stream",
          "name": "stdout",
          "text": [
            "My name is Eman\n",
            "My name is Eman\n",
            "My name is Eman\n",
            "My name is Eman\n",
            "My name is Eman\n"
          ]
        }
      ]
    },
    {
      "cell_type": "code",
      "source": [
        "#defining a function\n",
        "def printing():\n",
        "  print('My name is Eman')\n",
        "  print('My name is Eman')\n",
        "  print('My name is Eman')\n",
        "printing()"
      ],
      "metadata": {
        "colab": {
          "base_uri": "https://localhost:8080/"
        },
        "id": "--kerrSgOBlv",
        "outputId": "2a90ea38-814f-45d9-f3db-6665362f7c05"
      },
      "execution_count": null,
      "outputs": [
        {
          "output_type": "stream",
          "name": "stdout",
          "text": [
            "My name is Eman\n",
            "My name is Eman\n",
            "My name is Eman\n"
          ]
        }
      ]
    },
    {
      "cell_type": "code",
      "source": [
        "#another way of doing the same thing\n",
        "def printing():\n",
        "  text = \"My name is Eman\"\n",
        "  print(text)\n",
        "  print(text)\n",
        "  print(text)\n",
        "\n",
        "printing()"
      ],
      "metadata": {
        "colab": {
          "base_uri": "https://localhost:8080/"
        },
        "id": "tniyNexEO_10",
        "outputId": "4c9b098a-6ef5-4162-cee5-d27369f48323"
      },
      "execution_count": null,
      "outputs": [
        {
          "output_type": "stream",
          "name": "stdout",
          "text": [
            "My name is Eman\n",
            "My name is Eman\n",
            "My name is Eman\n"
          ]
        }
      ]
    },
    {
      "cell_type": "code",
      "source": [
        "#another way of doing the same thing\n",
        "def printing(text):\n",
        "  print(text)\n",
        "  print(text)\n",
        "  print(text)\n",
        "\n",
        "printing(\"My name is Eman\")"
      ],
      "metadata": {
        "colab": {
          "base_uri": "https://localhost:8080/"
        },
        "id": "W7Wx9k-BP4aP",
        "outputId": "d535db6f-036e-4502-8eae-5e167484f7fa"
      },
      "execution_count": null,
      "outputs": [
        {
          "output_type": "stream",
          "name": "stdout",
          "text": [
            "My name is Eman\n",
            "My name is Eman\n",
            "My name is Eman\n"
          ]
        }
      ]
    },
    {
      "cell_type": "code",
      "source": [
        "#defining a function with if, elif, and else statement\n",
        "def school_calculator(age):\n",
        "    if age==5:\n",
        "        print(\"Eman can go to school\")\n",
        "    elif age > 5:\n",
        "        print(\"She should join Higher secondary school\")\n",
        "    elif age < 5:\n",
        "        print(\"She is still a baby.\")\n",
        "    else:\n",
        "        print(\"Eman can not go to school\")\n",
        "school_calculator(2)"
      ],
      "metadata": {
        "colab": {
          "base_uri": "https://localhost:8080/"
        },
        "id": "ezTXgwNYQKRv",
        "outputId": "6743a384-fd50-44ef-e810-aa5b7ced4917"
      },
      "execution_count": null,
      "outputs": [
        {
          "output_type": "stream",
          "name": "stdout",
          "text": [
            "She is still a baby.\n"
          ]
        }
      ]
    },
    {
      "cell_type": "code",
      "source": [
        "#defining a function for future\n",
        "\n",
        "def future_age(age):\n",
        "  new_age=age+20\n",
        "  return new_age\n",
        "  print(new_age)\n",
        "\n",
        "future_age(15)"
      ],
      "metadata": {
        "colab": {
          "base_uri": "https://localhost:8080/"
        },
        "id": "X18Z7Ac1Rixx",
        "outputId": "df6e638c-b78c-4638-936f-7bd373846184"
      },
      "execution_count": null,
      "outputs": [
        {
          "output_type": "execute_result",
          "data": {
            "text/plain": [
              "35"
            ]
          },
          "metadata": {},
          "execution_count": 101
        }
      ]
    },
    {
      "cell_type": "markdown",
      "source": [
        "# **Loops**"
      ],
      "metadata": {
        "id": "Fhk2cDt8SVcq"
      }
    },
    {
      "cell_type": "code",
      "source": [
        "#While loop\n",
        "\n",
        "x=0\n",
        "while (x<5):\n",
        "  print(x)\n",
        "  x=x+1"
      ],
      "metadata": {
        "colab": {
          "base_uri": "https://localhost:8080/"
        },
        "id": "ev_HXfhVSbby",
        "outputId": "5ed4a270-ec72-4057-a6fd-69ffb8d27151"
      },
      "execution_count": null,
      "outputs": [
        {
          "output_type": "stream",
          "name": "stdout",
          "text": [
            "0\n",
            "1\n",
            "2\n",
            "3\n",
            "4\n"
          ]
        }
      ]
    },
    {
      "cell_type": "code",
      "source": [
        "#Infinite loop\n",
        "\n",
        "x=0\n",
        "while (x<5):\n",
        "  print(x)"
      ],
      "metadata": {
        "id": "8sGtGEBQaBrr"
      },
      "execution_count": null,
      "outputs": []
    },
    {
      "cell_type": "code",
      "source": [
        "#for loop\n",
        "for x in range(5,10):\n",
        "  print(x)"
      ],
      "metadata": {
        "colab": {
          "base_uri": "https://localhost:8080/"
        },
        "id": "aQh0TICATVS4",
        "outputId": "24a32805-954f-43dd-8f41-997a9c9e053b"
      },
      "execution_count": null,
      "outputs": [
        {
          "output_type": "stream",
          "name": "stdout",
          "text": [
            "5\n",
            "6\n",
            "7\n",
            "8\n",
            "9\n"
          ]
        }
      ]
    },
    {
      "cell_type": "code",
      "source": [
        "#usage of loops\n",
        "days = [\"Mon\", \"Tue\", \"Wed\",\"Thu\",\"Fri\",\"Sat\", \"Sun\"]\n",
        "for d in days:\n",
        "  if (d==\"Fri\"):break #loop stops\n",
        "  print(d)"
      ],
      "metadata": {
        "colab": {
          "base_uri": "https://localhost:8080/"
        },
        "id": "nEH-J0rjTon4",
        "outputId": "f872da53-6c75-4735-90b0-ff5648d8f341"
      },
      "execution_count": null,
      "outputs": [
        {
          "output_type": "stream",
          "name": "stdout",
          "text": [
            "Mon\n",
            "Tue\n",
            "Wed\n",
            "Thu\n"
          ]
        }
      ]
    },
    {
      "cell_type": "code",
      "source": [
        "#usage of loops\n",
        "days = [\"Mon\", \"Tue\", \"Wed\",\"Thu\",\"Fri\",\"Sat\", \"Sun\"]\n",
        "for d in days:\n",
        "  if (d==\"Fri\"):continue #skips d\n",
        "  print(d)"
      ],
      "metadata": {
        "colab": {
          "base_uri": "https://localhost:8080/"
        },
        "id": "WA3zujyaUil4",
        "outputId": "5488be51-58a4-4ed1-f41a-3814331dd903"
      },
      "execution_count": null,
      "outputs": [
        {
          "output_type": "stream",
          "name": "stdout",
          "text": [
            "Mon\n",
            "Tue\n",
            "Wed\n",
            "Thu\n",
            "Sat\n",
            "Sun\n"
          ]
        }
      ]
    },
    {
      "cell_type": "markdown",
      "source": [
        "# **Libraries**"
      ],
      "metadata": {
        "id": "nksEDJFSUrXq"
      }
    },
    {
      "cell_type": "code",
      "source": [
        "#print the value of pi\n",
        "\n",
        "import math #importing math library\n",
        "print(\"The value od pi is\", math.pi)"
      ],
      "metadata": {
        "colab": {
          "base_uri": "https://localhost:8080/"
        },
        "id": "M9xdRuwmUumR",
        "outputId": "0278347e-9d5f-4f7a-e9d9-f69f40fb4c52"
      },
      "execution_count": null,
      "outputs": [
        {
          "output_type": "stream",
          "name": "stdout",
          "text": [
            "The value od pi is 3.141592653589793\n"
          ]
        }
      ]
    },
    {
      "cell_type": "code",
      "source": [
        "import statistics\n",
        "x = [120, 450, 340, 80]\n",
        "print(statistics.mean(x))"
      ],
      "metadata": {
        "colab": {
          "base_uri": "https://localhost:8080/"
        },
        "id": "6B9faS4kWbyw",
        "outputId": "72b6f943-7894-48d5-b59e-cff7c61813eb"
      },
      "execution_count": null,
      "outputs": [
        {
          "output_type": "stream",
          "name": "stdout",
          "text": [
            "247.5\n"
          ]
        }
      ]
    },
    {
      "cell_type": "code",
      "source": [
        "#Note: There are many other useful libraries that we will be discussing in the future"
      ],
      "metadata": {
        "id": "VcHrTkrBW5F2"
      },
      "execution_count": null,
      "outputs": []
    },
    {
      "cell_type": "markdown",
      "source": [
        "# **Trouble shooting**"
      ],
      "metadata": {
        "id": "v6JrfDYCXEsT"
      }
    },
    {
      "cell_type": "code",
      "source": [
        "print(I am Eman)"
      ],
      "metadata": {
        "colab": {
          "base_uri": "https://localhost:8080/",
          "height": 110
        },
        "id": "LdkmqOCQXLN6",
        "outputId": "9d70b4e3-afa3-455a-fb52-216dd22cfc57"
      },
      "execution_count": null,
      "outputs": [
        {
          "output_type": "error",
          "ename": "SyntaxError",
          "evalue": "invalid syntax. Perhaps you forgot a comma? (<ipython-input-128-93795b488542>, line 1)",
          "traceback": [
            "\u001b[0;36m  File \u001b[0;32m\"<ipython-input-128-93795b488542>\"\u001b[0;36m, line \u001b[0;32m1\u001b[0m\n\u001b[0;31m    print(I am Eman)\u001b[0m\n\u001b[0m          ^\u001b[0m\n\u001b[0;31mSyntaxError\u001b[0m\u001b[0;31m:\u001b[0m invalid syntax. Perhaps you forgot a comma?\n"
          ]
        }
      ]
    },
    {
      "cell_type": "code",
      "source": [
        "#fixing syntax error\n",
        "print(\"I am Eman\")"
      ],
      "metadata": {
        "colab": {
          "base_uri": "https://localhost:8080/"
        },
        "id": "85p56VhlXa2D",
        "outputId": "f402168e-0b72-43a1-dab4-515082473729"
      },
      "execution_count": null,
      "outputs": [
        {
          "output_type": "stream",
          "name": "stdout",
          "text": [
            "I am Eman\n"
          ]
        }
      ]
    },
    {
      "cell_type": "code",
      "source": [
        "print(25/0)"
      ],
      "metadata": {
        "colab": {
          "base_uri": "https://localhost:8080/",
          "height": 147
        },
        "id": "ixhdEpmvXoAB",
        "outputId": "4107c322-3d44-4084-f4c9-e14e60b8ba77"
      },
      "execution_count": null,
      "outputs": [
        {
          "output_type": "error",
          "ename": "ZeroDivisionError",
          "evalue": "division by zero",
          "traceback": [
            "\u001b[0;31m---------------------------------------------------------------------------\u001b[0m",
            "\u001b[0;31mZeroDivisionError\u001b[0m                         Traceback (most recent call last)",
            "\u001b[0;32m<ipython-input-130-a08611be9ae0>\u001b[0m in \u001b[0;36m<cell line: 1>\u001b[0;34m()\u001b[0m\n\u001b[0;32m----> 1\u001b[0;31m \u001b[0mprint\u001b[0m\u001b[0;34m(\u001b[0m\u001b[0;36m25\u001b[0m\u001b[0;34m/\u001b[0m\u001b[0;36m0\u001b[0m\u001b[0;34m)\u001b[0m\u001b[0;34m\u001b[0m\u001b[0;34m\u001b[0m\u001b[0m\n\u001b[0m",
            "\u001b[0;31mZeroDivisionError\u001b[0m: division by zero"
          ]
        }
      ]
    },
    {
      "cell_type": "code",
      "source": [
        "#resolving runtime or zero division error\n",
        "print(25/5)"
      ],
      "metadata": {
        "colab": {
          "base_uri": "https://localhost:8080/"
        },
        "id": "GwK4sFj7X63p",
        "outputId": "d08ae98c-85ec-4a84-e9e1-edb783a90e53"
      },
      "execution_count": null,
      "outputs": [
        {
          "output_type": "stream",
          "name": "stdout",
          "text": [
            "5.0\n"
          ]
        }
      ]
    },
    {
      "cell_type": "code",
      "source": [
        "name = 'Eman'\n",
        "print(\"Hello name\")\n"
      ],
      "metadata": {
        "colab": {
          "base_uri": "https://localhost:8080/"
        },
        "id": "cnK8nJ7QYFl_",
        "outputId": "df6bdde7-2d3a-4810-dee0-ab3e3db064c4"
      },
      "execution_count": null,
      "outputs": [
        {
          "output_type": "stream",
          "name": "stdout",
          "text": [
            "Hello name\n"
          ]
        }
      ]
    },
    {
      "cell_type": "code",
      "source": [
        "#solving semantic error which is caused by a human mistake\n",
        "name = \"Eman\"\n",
        "print(\"Hello\", name)\n",
        "print(\"Hello\"+ name) #the + instead of , will remove the spaces"
      ],
      "metadata": {
        "colab": {
          "base_uri": "https://localhost:8080/"
        },
        "id": "XcL-1WlaYeBJ",
        "outputId": "820c049c-153d-4573-9563-dd2b05c950b8"
      },
      "execution_count": null,
      "outputs": [
        {
          "output_type": "stream",
          "name": "stdout",
          "text": [
            "Hello Eman\n",
            "HelloEman\n"
          ]
        }
      ]
    },
    {
      "cell_type": "code",
      "source": [
        "print(grade)"
      ],
      "metadata": {
        "id": "eIu4QrNlbMkB",
        "outputId": "094f705b-90f1-4084-e308-89afd0b2296a",
        "colab": {
          "base_uri": "https://localhost:8080/"
        }
      },
      "execution_count": null,
      "outputs": [
        {
          "output_type": "stream",
          "name": "stdout",
          "text": [
            "5\n"
          ]
        }
      ]
    },
    {
      "cell_type": "code",
      "source": [
        "#solving not defined error\n",
        "grade = 5\n",
        "print(grade)"
      ],
      "metadata": {
        "id": "zNZfuwxDbhp4",
        "outputId": "0e45cd3b-8752-436c-f2a4-b902161446ac",
        "colab": {
          "base_uri": "https://localhost:8080/"
        }
      },
      "execution_count": null,
      "outputs": [
        {
          "output_type": "stream",
          "name": "stdout",
          "text": [
            "5\n"
          ]
        }
      ]
    },
    {
      "cell_type": "code",
      "source": [
        "result = \"5\" + 5"
      ],
      "metadata": {
        "id": "7LVQJIEKbsM_",
        "outputId": "de5de239-626e-4ecf-fd3c-7ab50882156d",
        "colab": {
          "base_uri": "https://localhost:8080/",
          "height": 147
        }
      },
      "execution_count": null,
      "outputs": [
        {
          "output_type": "error",
          "ename": "TypeError",
          "evalue": "can only concatenate str (not \"int\") to str",
          "traceback": [
            "\u001b[0;31m---------------------------------------------------------------------------\u001b[0m",
            "\u001b[0;31mTypeError\u001b[0m                                 Traceback (most recent call last)",
            "\u001b[0;32m<ipython-input-136-bf373242ed61>\u001b[0m in \u001b[0;36m<cell line: 1>\u001b[0;34m()\u001b[0m\n\u001b[0;32m----> 1\u001b[0;31m \u001b[0mresult\u001b[0m \u001b[0;34m=\u001b[0m \u001b[0;34m\"5\"\u001b[0m \u001b[0;34m+\u001b[0m \u001b[0;36m5\u001b[0m\u001b[0;34m\u001b[0m\u001b[0;34m\u001b[0m\u001b[0m\n\u001b[0m",
            "\u001b[0;31mTypeError\u001b[0m: can only concatenate str (not \"int\") to str"
          ]
        }
      ]
    },
    {
      "cell_type": "code",
      "source": [
        "#solving type error\n",
        "result = int(\"5\") + 5\n",
        "print(result)"
      ],
      "metadata": {
        "id": "yJvfeSNDb2b_",
        "outputId": "638a52e9-d9e2-493a-988f-b1181e9ea223",
        "colab": {
          "base_uri": "https://localhost:8080/"
        }
      },
      "execution_count": null,
      "outputs": [
        {
          "output_type": "stream",
          "name": "stdout",
          "text": [
            "10\n"
          ]
        }
      ]
    },
    {
      "cell_type": "code",
      "source": [
        "num = int(\"abc\")"
      ],
      "metadata": {
        "id": "KjiptPuxcWo8",
        "outputId": "e569a6dd-6998-4567-b96e-2035e8215329",
        "colab": {
          "base_uri": "https://localhost:8080/",
          "height": 147
        }
      },
      "execution_count": null,
      "outputs": [
        {
          "output_type": "error",
          "ename": "ValueError",
          "evalue": "invalid literal for int() with base 10: 'abc'",
          "traceback": [
            "\u001b[0;31m---------------------------------------------------------------------------\u001b[0m",
            "\u001b[0;31mValueError\u001b[0m                                Traceback (most recent call last)",
            "\u001b[0;32m<ipython-input-138-9fb74b25f018>\u001b[0m in \u001b[0;36m<cell line: 1>\u001b[0;34m()\u001b[0m\n\u001b[0;32m----> 1\u001b[0;31m \u001b[0mnum\u001b[0m \u001b[0;34m=\u001b[0m \u001b[0mint\u001b[0m\u001b[0;34m(\u001b[0m\u001b[0;34m\"abc\"\u001b[0m\u001b[0;34m)\u001b[0m\u001b[0;34m\u001b[0m\u001b[0;34m\u001b[0m\u001b[0m\n\u001b[0m",
            "\u001b[0;31mValueError\u001b[0m: invalid literal for int() with base 10: 'abc'"
          ]
        }
      ]
    },
    {
      "cell_type": "code",
      "source": [
        "#solving value error\n",
        "num = int(\"123\")\n",
        "print(num)"
      ],
      "metadata": {
        "id": "1rDcq4bUcbgz",
        "outputId": "9a363c82-b9b3-46ec-9485-649bcfeb8e3d",
        "colab": {
          "base_uri": "https://localhost:8080/"
        }
      },
      "execution_count": null,
      "outputs": [
        {
          "output_type": "stream",
          "name": "stdout",
          "text": [
            "123\n"
          ]
        }
      ]
    },
    {
      "cell_type": "code",
      "source": [
        "my_list = [1, 2, 3]\n",
        "print(my_list[3])"
      ],
      "metadata": {
        "id": "gZ-qIqFhci4y",
        "outputId": "151684ca-05fc-493e-f1ed-09063ff434cc",
        "colab": {
          "base_uri": "https://localhost:8080/",
          "height": 165
        }
      },
      "execution_count": null,
      "outputs": [
        {
          "output_type": "error",
          "ename": "IndexError",
          "evalue": "list index out of range",
          "traceback": [
            "\u001b[0;31m---------------------------------------------------------------------------\u001b[0m",
            "\u001b[0;31mIndexError\u001b[0m                                Traceback (most recent call last)",
            "\u001b[0;32m<ipython-input-140-d54d0dfa12f9>\u001b[0m in \u001b[0;36m<cell line: 2>\u001b[0;34m()\u001b[0m\n\u001b[1;32m      1\u001b[0m \u001b[0mmy_list\u001b[0m \u001b[0;34m=\u001b[0m \u001b[0;34m[\u001b[0m\u001b[0;36m1\u001b[0m\u001b[0;34m,\u001b[0m \u001b[0;36m2\u001b[0m\u001b[0;34m,\u001b[0m \u001b[0;36m3\u001b[0m\u001b[0;34m]\u001b[0m\u001b[0;34m\u001b[0m\u001b[0;34m\u001b[0m\u001b[0m\n\u001b[0;32m----> 2\u001b[0;31m \u001b[0mprint\u001b[0m\u001b[0;34m(\u001b[0m\u001b[0mmy_list\u001b[0m\u001b[0;34m[\u001b[0m\u001b[0;36m3\u001b[0m\u001b[0;34m]\u001b[0m\u001b[0;34m)\u001b[0m\u001b[0;34m\u001b[0m\u001b[0;34m\u001b[0m\u001b[0m\n\u001b[0m",
            "\u001b[0;31mIndexError\u001b[0m: list index out of range"
          ]
        }
      ]
    },
    {
      "cell_type": "code",
      "source": [
        "#solving index error\n",
        "my_list = [1, 2, 3]\n",
        "print(my_list[2]) #the count starts from 0 not 1"
      ],
      "metadata": {
        "id": "f6nO-CY3cp3K",
        "outputId": "ddfb8c33-cfac-451b-d994-31a867541ca3",
        "colab": {
          "base_uri": "https://localhost:8080/"
        }
      },
      "execution_count": null,
      "outputs": [
        {
          "output_type": "stream",
          "name": "stdout",
          "text": [
            "3\n"
          ]
        }
      ]
    },
    {
      "cell_type": "code",
      "source": [
        "#-------------The End----------------"
      ],
      "metadata": {
        "id": "7qfpX9xqY15C"
      },
      "execution_count": null,
      "outputs": []
    },
    {
      "cell_type": "markdown",
      "source": [
        "# **BMI Calculator**"
      ],
      "metadata": {
        "id": "aCT2C49KGeO1"
      }
    },
    {
      "cell_type": "code",
      "source": [
        "#body mass index (BMI)\n",
        "#weight\n",
        "#height"
      ],
      "metadata": {
        "id": "qkbD0X_OGrbB"
      },
      "execution_count": null,
      "outputs": []
    },
    {
      "cell_type": "code",
      "source": [
        "#weight in kg\n",
        "#height in m square"
      ],
      "metadata": {
        "id": "P_2pgbKLLqE7"
      },
      "execution_count": null,
      "outputs": []
    },
    {
      "cell_type": "code",
      "source": [
        "height = input('What is your height?')"
      ],
      "metadata": {
        "id": "U3pTeAjgNBep",
        "outputId": "c1b56bb8-b333-4803-a9ed-b422dd1b48bf",
        "colab": {
          "base_uri": "https://localhost:8080/"
        }
      },
      "execution_count": 7,
      "outputs": [
        {
          "name": "stdout",
          "output_type": "stream",
          "text": [
            "What is your height?5\n"
          ]
        }
      ]
    },
    {
      "cell_type": "code",
      "source": [
        "height = float(height)"
      ],
      "metadata": {
        "id": "cVIJjoBoRHTJ"
      },
      "execution_count": 8,
      "outputs": []
    },
    {
      "cell_type": "code",
      "source": [
        "weight = input('What is your weight?')"
      ],
      "metadata": {
        "id": "jFb5Fks5NTLb",
        "outputId": "c4dc4f97-8a9d-4438-ea77-0c106d6b54b8",
        "colab": {
          "base_uri": "https://localhost:8080/"
        }
      },
      "execution_count": 9,
      "outputs": [
        {
          "name": "stdout",
          "output_type": "stream",
          "text": [
            "What is your weight?50\n"
          ]
        }
      ]
    },
    {
      "cell_type": "code",
      "source": [
        "weight = float(weight)"
      ],
      "metadata": {
        "id": "FTRdZ598RLnp"
      },
      "execution_count": 10,
      "outputs": []
    },
    {
      "cell_type": "code",
      "source": [
        "name = input('What is your name?')"
      ],
      "metadata": {
        "id": "d0Ha50TQOAuJ",
        "outputId": "a4ce75d3-dcb0-4209-d1e9-4aaa71799528",
        "colab": {
          "base_uri": "https://localhost:8080/"
        }
      },
      "execution_count": 11,
      "outputs": [
        {
          "name": "stdout",
          "output_type": "stream",
          "text": [
            "What is your name?Eman\n"
          ]
        }
      ]
    },
    {
      "cell_type": "code",
      "source": [
        "BMI = weight/height**2\n",
        "BMI"
      ],
      "metadata": {
        "id": "yuJZGYN5PgQp",
        "outputId": "3a217528-c901-4953-d5ea-a2a1a08a526b",
        "colab": {
          "base_uri": "https://localhost:8080/"
        }
      },
      "execution_count": 12,
      "outputs": [
        {
          "output_type": "execute_result",
          "data": {
            "text/plain": [
              "2.0"
            ]
          },
          "metadata": {},
          "execution_count": 12
        }
      ]
    },
    {
      "cell_type": "code",
      "source": [
        "print(\"My name is\", name, \"and my BMI is\", BMI)"
      ],
      "metadata": {
        "id": "E8h-50GLP6uU",
        "outputId": "64ebba10-5ec7-4a95-859f-b5fc98fc8708",
        "colab": {
          "base_uri": "https://localhost:8080/"
        }
      },
      "execution_count": 15,
      "outputs": [
        {
          "output_type": "stream",
          "name": "stdout",
          "text": [
            "My name is Eman and my BMI is 2.0\n"
          ]
        }
      ]
    }
  ]
}
