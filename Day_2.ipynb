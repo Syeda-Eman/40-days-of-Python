{
  "nbformat": 4,
  "nbformat_minor": 0,
  "metadata": {
    "colab": {
      "provenance": [],
      "collapsed_sections": [
        "T_E1ymY0pHXx",
        "ifDDtfwrJRFG",
        "viSVHYn0JYS_"
      ],
      "authorship_tag": "ABX9TyOsJV7hB4fReCoeS06cigkZ",
      "include_colab_link": true
    },
    "kernelspec": {
      "name": "python3",
      "display_name": "Python 3"
    },
    "language_info": {
      "name": "python"
    }
  },
  "cells": [
    {
      "cell_type": "markdown",
      "metadata": {
        "id": "view-in-github",
        "colab_type": "text"
      },
      "source": [
        "<a href=\"https://colab.research.google.com/github/Syeda-Eman/Python-ka-chilla/blob/main/Day_2.ipynb\" target=\"_parent\"><img src=\"https://colab.research.google.com/assets/colab-badge.svg\" alt=\"Open In Colab\"/></a>"
      ]
    },
    {
      "cell_type": "markdown",
      "source": [
        "# **First Program**"
      ],
      "metadata": {
        "id": "T_E1ymY0pHXx"
      }
    },
    {
      "cell_type": "code",
      "execution_count": null,
      "metadata": {
        "id": "PY4Wvifro_HP",
        "colab": {
          "base_uri": "https://localhost:8080/"
        },
        "outputId": "a4e3b0a9-c312-49e3-fce8-ea7157142eca"
      },
      "outputs": [
        {
          "output_type": "stream",
          "name": "stdout",
          "text": [
            "5\n"
          ]
        }
      ],
      "source": [
        "print(2+3)"
      ]
    },
    {
      "cell_type": "code",
      "source": [
        "print('Hello, world')"
      ],
      "metadata": {
        "id": "wRkSdiAGpGw6",
        "colab": {
          "base_uri": "https://localhost:8080/"
        },
        "outputId": "1f797e28-6049-48eb-d6ad-ff72b6c9ea97"
      },
      "execution_count": null,
      "outputs": [
        {
          "output_type": "stream",
          "name": "stdout",
          "text": [
            "Hello, world\n"
          ]
        }
      ]
    },
    {
      "cell_type": "code",
      "source": [
        "print(\"On 40 days challenge of learning python\")"
      ],
      "metadata": {
        "colab": {
          "base_uri": "https://localhost:8080/"
        },
        "id": "b3gi6fk7JEHo",
        "outputId": "0084a8ad-90a2-4af5-9442-ca242fd6361a"
      },
      "execution_count": null,
      "outputs": [
        {
          "output_type": "stream",
          "name": "stdout",
          "text": [
            "On 40 days challenge of learning python\n"
          ]
        }
      ]
    },
    {
      "cell_type": "markdown",
      "source": [
        "# **Operators**"
      ],
      "metadata": {
        "id": "ifDDtfwrJRFG"
      }
    },
    {
      "cell_type": "code",
      "source": [
        "#Addition\n",
        "2+2"
      ],
      "metadata": {
        "colab": {
          "base_uri": "https://localhost:8080/"
        },
        "id": "vogQkDSBJY9c",
        "outputId": "6191f507-cc81-4e3e-d194-c3c66159405c"
      },
      "execution_count": null,
      "outputs": [
        {
          "output_type": "execute_result",
          "data": {
            "text/plain": [
              "4"
            ]
          },
          "metadata": {},
          "execution_count": 6
        }
      ]
    },
    {
      "cell_type": "code",
      "source": [
        "#Subtraction\n",
        "3-2"
      ],
      "metadata": {
        "colab": {
          "base_uri": "https://localhost:8080/"
        },
        "id": "ZPz5yHL5JazD",
        "outputId": "d45858dc-ebb2-43e2-cf0e-68a6988a358b"
      },
      "execution_count": null,
      "outputs": [
        {
          "output_type": "execute_result",
          "data": {
            "text/plain": [
              "1"
            ]
          },
          "metadata": {},
          "execution_count": 7
        }
      ]
    },
    {
      "cell_type": "code",
      "source": [
        "#Multiplication\n",
        "9*2"
      ],
      "metadata": {
        "colab": {
          "base_uri": "https://localhost:8080/"
        },
        "id": "SqJRvHF6Jg7W",
        "outputId": "4ffcef4a-8dca-404f-a310-3c0b72ea98b1"
      },
      "execution_count": null,
      "outputs": [
        {
          "output_type": "execute_result",
          "data": {
            "text/plain": [
              "18"
            ]
          },
          "metadata": {},
          "execution_count": 8
        }
      ]
    },
    {
      "cell_type": "code",
      "source": [
        "#Division\n",
        "8/2"
      ],
      "metadata": {
        "colab": {
          "base_uri": "https://localhost:8080/"
        },
        "id": "4WXKLMnsJcEf",
        "outputId": "b28a8b4e-58ee-4c43-e8b5-c9aef03a9f0b"
      },
      "execution_count": null,
      "outputs": [
        {
          "output_type": "execute_result",
          "data": {
            "text/plain": [
              "4.0"
            ]
          },
          "metadata": {},
          "execution_count": 9
        }
      ]
    },
    {
      "cell_type": "code",
      "source": [
        "#Remainder\n",
        "9%2"
      ],
      "metadata": {
        "colab": {
          "base_uri": "https://localhost:8080/"
        },
        "id": "RsIt44vXJes4",
        "outputId": "e32fbabb-6415-4f1a-b584-f868989220f0"
      },
      "execution_count": null,
      "outputs": [
        {
          "output_type": "execute_result",
          "data": {
            "text/plain": [
              "1"
            ]
          },
          "metadata": {},
          "execution_count": 10
        }
      ]
    },
    {
      "cell_type": "code",
      "source": [
        "#Division (double slashes return integer while single returns float num)\n",
        "6//2"
      ],
      "metadata": {
        "colab": {
          "base_uri": "https://localhost:8080/"
        },
        "id": "PpjAaxqqKKj2",
        "outputId": "80abe1c5-87e8-4180-bf41-25b850605d6e"
      },
      "execution_count": null,
      "outputs": [
        {
          "output_type": "execute_result",
          "data": {
            "text/plain": [
              "3"
            ]
          },
          "metadata": {},
          "execution_count": 11
        }
      ]
    },
    {
      "cell_type": "code",
      "source": [
        "#Power\n",
        "2**3"
      ],
      "metadata": {
        "colab": {
          "base_uri": "https://localhost:8080/"
        },
        "id": "nnbAQYZEKbzB",
        "outputId": "411f758f-9dff-4a5d-edb1-fe7128cf4b1f"
      },
      "execution_count": null,
      "outputs": [
        {
          "output_type": "execute_result",
          "data": {
            "text/plain": [
              "8"
            ]
          },
          "metadata": {},
          "execution_count": 13
        }
      ]
    },
    {
      "cell_type": "code",
      "source": [
        "#PEMDAS (Parenthesis/Exponents/Multiply/Division/Addition/Subtraction)\n",
        "print(3**2/2*3/3+6-4)"
      ],
      "metadata": {
        "colab": {
          "base_uri": "https://localhost:8080/"
        },
        "id": "G74gHIp3KqgT",
        "outputId": "370168d6-735d-4f2d-954b-3c600fd0f425"
      },
      "execution_count": null,
      "outputs": [
        {
          "output_type": "stream",
          "name": "stdout",
          "text": [
            "6.5\n"
          ]
        }
      ]
    },
    {
      "cell_type": "markdown",
      "source": [
        "# **Strings**"
      ],
      "metadata": {
        "id": "viSVHYn0JYS_"
      }
    },
    {
      "cell_type": "code",
      "source": [
        "print('Hello, world')"
      ],
      "metadata": {
        "colab": {
          "base_uri": "https://localhost:8080/"
        },
        "id": "OlpswMKgLjKm",
        "outputId": "2a35d650-f993-45b9-d18a-a8b96ffd0c07"
      },
      "execution_count": null,
      "outputs": [
        {
          "output_type": "stream",
          "name": "stdout",
          "text": [
            "Hello, world\n"
          ]
        }
      ]
    },
    {
      "cell_type": "code",
      "source": [
        "print(\"On 40 days challenge of learning python\")"
      ],
      "metadata": {
        "colab": {
          "base_uri": "https://localhost:8080/"
        },
        "id": "cPeENx35LpFe",
        "outputId": "8cc386c7-ce2f-4269-905b-713923f78f07"
      },
      "execution_count": null,
      "outputs": [
        {
          "output_type": "stream",
          "name": "stdout",
          "text": [
            "On 40 days challenge of learning python\n"
          ]
        }
      ]
    },
    {
      "cell_type": "code",
      "source": [
        "print('''Test for tripple quotes''')"
      ],
      "metadata": {
        "colab": {
          "base_uri": "https://localhost:8080/"
        },
        "id": "VY-PWUDGLvcv",
        "outputId": "ec19ec01-0eaf-4509-d24d-38eb99368e88"
      },
      "execution_count": null,
      "outputs": [
        {
          "output_type": "stream",
          "name": "stdout",
          "text": [
            "Test for tripple quotes\n"
          ]
        }
      ]
    },
    {
      "cell_type": "code",
      "source": [
        "#spaces will appear as it is\n",
        "print('   hello')"
      ],
      "metadata": {
        "colab": {
          "base_uri": "https://localhost:8080/"
        },
        "id": "Kk-Qsahf75rE",
        "outputId": "46f97b2e-a6ba-44ff-c383-36e72ab6b611"
      },
      "execution_count": null,
      "outputs": [
        {
          "output_type": "stream",
          "name": "stdout",
          "text": [
            "   hello\n"
          ]
        }
      ]
    },
    {
      "cell_type": "code",
      "source": [
        "#avoid\n",
        "#print('What's up?')\n",
        "#instead try using double quotes\n",
        "#print(\"What's up?\")"
      ],
      "metadata": {
        "id": "zpWDRfip7ey7"
      },
      "execution_count": null,
      "outputs": []
    },
    {
      "cell_type": "code",
      "source": [
        "#real use of tripple quotes\n",
        "#triple quotes are used to span multiple lines, and they also serve as docstrings.\n",
        "\n",
        "print(''' Artificial Intelligence (AI) refers to the simulation of human intelligence in machines designed to think and act like humans.\n",
        "It encompasses various technologies, including machine learning, natural language processing, and robotics, enabling computers to perform tasks that typically require human cognition.\n",
        "AI is transforming industries by enhancing efficiency, improving decision-making, and enabling personalized experiences.\n",
        "As it continues to evolve, ethical considerations surrounding its use and impact on society are increasingly important.\n",
        "The future of AI holds immense potential for innovation and growth across multiple sectors.''')"
      ],
      "metadata": {
        "id": "SQJBHPlk8CBh"
      },
      "execution_count": null,
      "outputs": []
    },
    {
      "cell_type": "markdown",
      "source": [
        "# **Comments**"
      ],
      "metadata": {
        "id": "xNYq7Xas9o2t"
      }
    },
    {
      "cell_type": "code",
      "source": [
        "print(\"How are you?\")\n",
        "print(\"Hello world\")\n",
        "print(2+3)"
      ],
      "metadata": {
        "colab": {
          "base_uri": "https://localhost:8080/"
        },
        "id": "_V5Bdt1m9xzj",
        "outputId": "697f3d4c-b69c-4771-829b-6b517d79317e"
      },
      "execution_count": null,
      "outputs": [
        {
          "output_type": "stream",
          "name": "stdout",
          "text": [
            "How are you?\n",
            "Hello world\n",
            "5\n"
          ]
        }
      ]
    },
    {
      "cell_type": "code",
      "source": [
        "#if you dont want to print any specefic thing then comment it out using '#' or (Ctrl + /)\n",
        "\n",
        "print(\"Hello world\")\n",
        "print(\"How are you?\")\n",
        "# print(2+3)"
      ],
      "metadata": {
        "colab": {
          "base_uri": "https://localhost:8080/"
        },
        "id": "cH_fVdzC-Kd5",
        "outputId": "81b0ec63-923e-476d-e5e1-75b81646d9d0"
      },
      "execution_count": null,
      "outputs": [
        {
          "output_type": "stream",
          "name": "stdout",
          "text": [
            "Hello world\n",
            "How are you?\n"
          ]
        }
      ]
    },
    {
      "cell_type": "code",
      "source": [
        "#you can comment the info which is not part of your code like this statement. If you wont then it will through errors."
      ],
      "metadata": {
        "id": "Jbvc3ecNAKS2"
      },
      "execution_count": null,
      "outputs": []
    },
    {
      "cell_type": "markdown",
      "source": [
        "# **Variables**"
      ],
      "metadata": {
        "id": "rRi3IqmLAcw8"
      }
    },
    {
      "cell_type": "code",
      "source": [
        "#variables are objects containing specefic values\n",
        "x = 5\n",
        "y = 3\n",
        "\n",
        "x+y"
      ],
      "metadata": {
        "colab": {
          "base_uri": "https://localhost:8080/"
        },
        "id": "j0IkBq9fAfgz",
        "outputId": "3462d267-b3ae-4f31-a052-f265479564c9"
      },
      "execution_count": null,
      "outputs": [
        {
          "output_type": "execute_result",
          "data": {
            "text/plain": [
              "8"
            ]
          },
          "metadata": {},
          "execution_count": 6
        }
      ]
    },
    {
      "cell_type": "code",
      "source": [
        "print(x)"
      ],
      "metadata": {
        "colab": {
          "base_uri": "https://localhost:8080/"
        },
        "id": "CGReENZJBauc",
        "outputId": "65f5e39a-767e-47bf-c846-f7389782a8d9"
      },
      "execution_count": null,
      "outputs": [
        {
          "output_type": "stream",
          "name": "stdout",
          "text": [
            "5\n"
          ]
        }
      ]
    },
    {
      "cell_type": "code",
      "source": [
        "AI = 'Artificial Intelligence (AI) refers to the simulation of human intelligence in machines designed to think and act like humans. It encompasses various technologies, including machine learning, natural language processing, and robotics, enabling computers to perform tasks that typically require human cognition. AI is transforming industries by enhancing efficiency, improving decision-making, and enabling personalized experiences. As it continues to evolve, ethical considerations surrounding its use and impact on society are increasingly important. The future of AI holds immense potential for innovation and growth across multiple sectors.'\n",
        "print(AI) #we will not use quotes as we dont want to print 'AI'but the thing stored in variable AI"
      ],
      "metadata": {
        "colab": {
          "base_uri": "https://localhost:8080/"
        },
        "id": "OSH7bg0DBeCM",
        "outputId": "b0c68b8f-5c29-4101-9236-0bb45d85520f"
      },
      "execution_count": null,
      "outputs": [
        {
          "output_type": "stream",
          "name": "stdout",
          "text": [
            "Artificial Intelligence (AI) refers to the simulation of human intelligence in machines designed to think and act like humans. It encompasses various technologies, including machine learning, natural language processing, and robotics, enabling computers to perform tasks that typically require human cognition. AI is transforming industries by enhancing efficiency, improving decision-making, and enabling personalized experiences. As it continues to evolve, ethical considerations surrounding its use and impact on society are increasingly important. The future of AI holds immense potential for innovation and growth across multiple sectors.\n"
          ]
        }
      ]
    },
    {
      "cell_type": "code",
      "source": [
        "#printing the type of variable\n",
        "\n",
        "type(x)\n",
        "\n",
        "print(type(x))"
      ],
      "metadata": {
        "colab": {
          "base_uri": "https://localhost:8080/"
        },
        "id": "62cwGTeQDDOH",
        "outputId": "ed076bdf-1ea5-44c2-84fd-d223491e2cea"
      },
      "execution_count": null,
      "outputs": [
        {
          "output_type": "stream",
          "name": "stdout",
          "text": [
            "<class 'int'>\n"
          ]
        }
      ]
    },
    {
      "cell_type": "code",
      "source": [
        "type(AI)\n",
        "\n",
        "print(type(AI ))"
      ],
      "metadata": {
        "colab": {
          "base_uri": "https://localhost:8080/"
        },
        "id": "vNeQ4HwkEhoY",
        "outputId": "81e1ef1d-a5a7-4a22-b43a-fb9b62759409"
      },
      "execution_count": null,
      "outputs": [
        {
          "output_type": "stream",
          "name": "stdout",
          "text": [
            "<class 'str'>\n"
          ]
        }
      ]
    },
    {
      "cell_type": "code",
      "source": [
        "# Rules to assign a variable:\n",
        "# 1. The variable should contain letters, numbers or underscores\n",
        "# 2. Do not start the name with numbers\n",
        "# 3. Avoid spaces and dashes. Use underscore instead\n",
        "# 4. Do not use keywords like (If, False, Print)\n",
        "# 5. Name should be short and descriptive\n",
        "# 6. Case sensitive (Prefer lower case letters for your ease)"
      ],
      "metadata": {
        "id": "nQV644g7GC0K"
      },
      "execution_count": null,
      "outputs": []
    },
    {
      "cell_type": "code",
      "source": [
        "fruit_basket='Mangoes, Apples, Bananas'\n",
        "print(fruit_basket)\n",
        "print(type(fruit_basket))"
      ],
      "metadata": {
        "colab": {
          "base_uri": "https://localhost:8080/"
        },
        "id": "nDPzFsupHSZE",
        "outputId": "b6d4f863-f5f5-4552-848e-aaf4926eeead"
      },
      "execution_count": null,
      "outputs": [
        {
          "output_type": "stream",
          "name": "stdout",
          "text": [
            "Mangoes, Apples, Bananas\n",
            "<class 'str'>\n"
          ]
        }
      ]
    },
    {
      "cell_type": "markdown",
      "source": [
        "# **Input variables**"
      ],
      "metadata": {
        "id": "7dTEgoP3KYCX"
      }
    },
    {
      "cell_type": "code",
      "source": [
        "toy_basket = \"Cars\"\n",
        "print(toy_basket)"
      ],
      "metadata": {
        "colab": {
          "base_uri": "https://localhost:8080/"
        },
        "id": "xr-ZMm40Khpm",
        "outputId": "ec5454a3-abac-4aa9-a2a5-74ede8bb56e6"
      },
      "execution_count": null,
      "outputs": [
        {
          "output_type": "stream",
          "name": "stdout",
          "text": [
            "Cars\n"
          ]
        }
      ]
    },
    {
      "cell_type": "code",
      "source": [
        "#input function\n",
        "toy_basket = input(\"What is your favourite toy? \")\n",
        "print(toy_basket)"
      ],
      "metadata": {
        "colab": {
          "base_uri": "https://localhost:8080/"
        },
        "id": "RzkwBSZQLt5b",
        "outputId": "eca71f69-40b9-4999-b69a-f7474237991e"
      },
      "execution_count": null,
      "outputs": [
        {
          "output_type": "stream",
          "name": "stdout",
          "text": [
            "What is your favourite toy? Car\n",
            "Car\n"
          ]
        }
      ]
    },
    {
      "cell_type": "code",
      "source": [
        "#program from input function\n",
        "name = input('What is your name? ')\n",
        "greetings = 'Hello!'\n",
        "\n",
        "print(greetings, name)"
      ],
      "metadata": {
        "colab": {
          "base_uri": "https://localhost:8080/"
        },
        "id": "JoyUKUlsML55",
        "outputId": "8adfc60f-1d52-4371-de93-5c7bc5c00de4"
      },
      "execution_count": null,
      "outputs": [
        {
          "output_type": "stream",
          "name": "stdout",
          "text": [
            "What is your name? Eman\n",
            "Hello! Eman\n"
          ]
        }
      ]
    },
    {
      "cell_type": "code",
      "source": [
        "#another way to do the same thing\n",
        "name = input('What is your name? ')\n",
        "\n",
        "print('Hello!', name)"
      ],
      "metadata": {
        "colab": {
          "base_uri": "https://localhost:8080/"
        },
        "id": "EIxWNi6FMoMV",
        "outputId": "ff8de834-47bd-4e64-84c1-7d0f7e13f648"
      },
      "execution_count": null,
      "outputs": [
        {
          "output_type": "stream",
          "name": "stdout",
          "text": [
            "What is your name? Eman\n",
            "Hello! Eman\n"
          ]
        }
      ]
    },
    {
      "cell_type": "code",
      "source": [
        "#another program from input function\n",
        "name = input('What is your name? ')\n",
        "age = input('What is your age?')\n",
        "greetings = 'Hello!'\n",
        "\n",
        "print(greetings, name, \", You are still young\")"
      ],
      "metadata": {
        "colab": {
          "base_uri": "https://localhost:8080/"
        },
        "id": "GEiAjUt3Mzx-",
        "outputId": "0d61f95e-000e-40e5-ba21-8cedc90c2982"
      },
      "execution_count": null,
      "outputs": [
        {
          "output_type": "stream",
          "name": "stdout",
          "text": [
            "What is your name? Eman\n",
            "What is your age?15\n",
            "Hello! Eman , You are still young\n"
          ]
        }
      ]
    },
    {
      "cell_type": "markdown",
      "source": [
        "# **Conditional Logics**"
      ],
      "metadata": {
        "id": "htY_fVsJ6QLb"
      }
    },
    {
      "cell_type": "code",
      "source": [
        "# Logical operators are either \"True or False\", \"Yes or No\", \"0 or 1\"\n",
        "# equal to ==\n",
        "# not equal to !=\n",
        "# less than <\n",
        "# greater than >\n",
        "# less than and equal to <=\n",
        "# greater than and equal to >="
      ],
      "metadata": {
        "id": "XNUXuDNB68pZ"
      },
      "execution_count": null,
      "outputs": []
    },
    {
      "cell_type": "code",
      "source": [
        "print(4==4)"
      ],
      "metadata": {
        "id": "rMUrJlxc9VWS",
        "outputId": "f8ed2112-0ee3-4e64-ce4e-de14b8b0fab9",
        "colab": {
          "base_uri": "https://localhost:8080/"
        }
      },
      "execution_count": 1,
      "outputs": [
        {
          "output_type": "stream",
          "name": "stdout",
          "text": [
            "True\n"
          ]
        }
      ]
    },
    {
      "cell_type": "code",
      "source": [
        "print(4!=4)"
      ],
      "metadata": {
        "id": "z2okxNnt9ikM",
        "outputId": "e7162d9c-2073-4a01-84cf-953cf23f1f50",
        "colab": {
          "base_uri": "https://localhost:8080/"
        }
      },
      "execution_count": 2,
      "outputs": [
        {
          "output_type": "stream",
          "name": "stdout",
          "text": [
            "False\n"
          ]
        }
      ]
    },
    {
      "cell_type": "code",
      "source": [
        "print(4>3)"
      ],
      "metadata": {
        "id": "rRDZlshp9mcC",
        "outputId": "1618385f-d2ac-43da-fd16-46d1eacaa8a4",
        "colab": {
          "base_uri": "https://localhost:8080/"
        }
      },
      "execution_count": 3,
      "outputs": [
        {
          "output_type": "stream",
          "name": "stdout",
          "text": [
            "True\n"
          ]
        }
      ]
    },
    {
      "cell_type": "code",
      "source": [
        "print(3<6)"
      ],
      "metadata": {
        "id": "PO9OWDkJ9qY9",
        "outputId": "a97ff2d9-8224-436f-ad66-f2ac6ffbea68",
        "colab": {
          "base_uri": "https://localhost:8080/"
        }
      },
      "execution_count": 4,
      "outputs": [
        {
          "output_type": "stream",
          "name": "stdout",
          "text": [
            "True\n"
          ]
        }
      ]
    },
    {
      "cell_type": "code",
      "source": [
        "print(3>=5)"
      ],
      "metadata": {
        "id": "E7yuzVeR9s_c",
        "outputId": "9dd6f5c7-81ce-4ab5-b312-0e4657018e4b",
        "colab": {
          "base_uri": "https://localhost:8080/"
        }
      },
      "execution_count": 5,
      "outputs": [
        {
          "output_type": "stream",
          "name": "stdout",
          "text": [
            "False\n"
          ]
        }
      ]
    },
    {
      "cell_type": "code",
      "source": [
        "print(3<=5)"
      ],
      "metadata": {
        "id": "WsPZMxmr9xdJ",
        "outputId": "15ade1aa-b3d0-46b3-fe1d-04b11e6cbbef",
        "colab": {
          "base_uri": "https://localhost:8080/"
        }
      },
      "execution_count": 6,
      "outputs": [
        {
          "output_type": "stream",
          "name": "stdout",
          "text": [
            "True\n"
          ]
        }
      ]
    },
    {
      "cell_type": "code",
      "source": [
        "# Application of logical operators\n",
        "my_age = 4\n",
        "age_at_school = 5\n",
        "print(my_age == age_at_school)"
      ],
      "metadata": {
        "id": "7H7Enntm99EG",
        "outputId": "6a185ab6-7ea4-477f-c307-1da036e64666",
        "colab": {
          "base_uri": "https://localhost:8080/"
        }
      },
      "execution_count": 7,
      "outputs": [
        {
          "output_type": "stream",
          "name": "stdout",
          "text": [
            "False\n"
          ]
        }
      ]
    },
    {
      "cell_type": "code",
      "source": [
        "#another application of input operator with logicals\n",
        "age_at_school=5\n",
        "eman_age=input(\"How old is eman?\") #input function\n",
        "print(eman_age==age_at_school) #logical operator\n",
        "\n",
        "#this will give error by giving answer as false only."
      ],
      "metadata": {
        "id": "UO34RvuiA7Bb",
        "outputId": "f3144f93-a3d1-4260-f946-503e14acdbae",
        "colab": {
          "base_uri": "https://localhost:8080/"
        }
      },
      "execution_count": 13,
      "outputs": [
        {
          "output_type": "stream",
          "name": "stdout",
          "text": [
            "How old is eman?5\n",
            "False\n"
          ]
        }
      ]
    },
    {
      "cell_type": "code",
      "source": [
        "#Solution to solve this error\n",
        "age_at_school=5\n",
        "eman_age=input(\"How old is eman?\") #input function\n",
        "eman_age=int(eman_age) #changing to integer\n",
        "print(type(eman_age))\n",
        "print(eman_age==age_at_school) #logical operator"
      ],
      "metadata": {
        "id": "n-uu1TuMBpZD",
        "outputId": "50f1740c-99ba-4845-e02b-ff390c124bfa",
        "colab": {
          "base_uri": "https://localhost:8080/"
        }
      },
      "execution_count": 12,
      "outputs": [
        {
          "output_type": "stream",
          "name": "stdout",
          "text": [
            "How old is eman?5\n",
            "<class 'int'>\n",
            "True\n"
          ]
        }
      ]
    },
    {
      "cell_type": "markdown",
      "source": [
        "# **Type Conversion**"
      ],
      "metadata": {
        "id": "xtVCgP1kODMH"
      }
    },
    {
      "cell_type": "code",
      "source": [
        "x = 10 #integer\n",
        "y = 10.2 #float\n",
        "z = \"Hello\" #string\n"
      ],
      "metadata": {
        "id": "-bQCv-prOLuS"
      },
      "execution_count": 14,
      "outputs": []
    },
    {
      "cell_type": "code",
      "source": [
        "print(type(x))\n",
        "print(type(y))\n",
        "print(type(z))"
      ],
      "metadata": {
        "id": "JqcrPWOdSlsy",
        "outputId": "8c8aaef0-5ae4-4043-c7a3-c3722df2720b",
        "colab": {
          "base_uri": "https://localhost:8080/"
        }
      },
      "execution_count": 15,
      "outputs": [
        {
          "output_type": "stream",
          "name": "stdout",
          "text": [
            "<class 'int'>\n",
            "<class 'float'>\n",
            "<class 'str'>\n"
          ]
        }
      ]
    },
    {
      "cell_type": "code",
      "source": [
        "#implicit type conversion\n",
        "x=x+y\n",
        "print(x, \"Type of x is:\", type(x))\n"
      ],
      "metadata": {
        "id": "0ahWeUtxTeBX",
        "outputId": "53b45e35-9e93-4681-c819-1bcafe9941b8",
        "colab": {
          "base_uri": "https://localhost:8080/"
        }
      },
      "execution_count": 16,
      "outputs": [
        {
          "output_type": "stream",
          "name": "stdout",
          "text": [
            "20.2 Type of x is: <class 'float'>\n"
          ]
        }
      ]
    },
    {
      "cell_type": "code",
      "source": [
        "#explicit type conversion\n",
        "age=input(\"What is your age? \")\n",
        "age=int(age)\n",
        "print(type(age))"
      ],
      "metadata": {
        "id": "HAicTTnxY94U",
        "outputId": "dd5c25a0-71f7-4a21-9791-99bbd9190313",
        "colab": {
          "base_uri": "https://localhost:8080/"
        }
      },
      "execution_count": 19,
      "outputs": [
        {
          "output_type": "stream",
          "name": "stdout",
          "text": [
            "What is your age? 15\n",
            "<class 'int'>\n"
          ]
        }
      ]
    },
    {
      "cell_type": "code",
      "source": [
        "#explicit type conversion\n",
        "age=input(\"What is your age? \")\n",
        "#age=int(age) not changing it to int will make it a string\n",
        "print(type(age))"
      ],
      "metadata": {
        "id": "deE9xy6xaPl8",
        "outputId": "10174851-d3a0-46b1-dcb6-b3e9cb36ed34",
        "colab": {
          "base_uri": "https://localhost:8080/"
        }
      },
      "execution_count": 20,
      "outputs": [
        {
          "output_type": "stream",
          "name": "stdout",
          "text": [
            "What is your age? 15\n",
            "<class 'str'>\n"
          ]
        }
      ]
    },
    {
      "cell_type": "code",
      "source": [
        "#explicit type conversion\n",
        "#another way of changing type in the print function\n",
        "age=input(\"What is your age? \")\n",
        "print(age, type(int(age)))"
      ],
      "metadata": {
        "id": "ipLOul3ea2Cc",
        "outputId": "859454ff-1195-4056-936b-306232cc960e",
        "colab": {
          "base_uri": "https://localhost:8080/"
        }
      },
      "execution_count": 21,
      "outputs": [
        {
          "output_type": "stream",
          "name": "stdout",
          "text": [
            "What is your age? 15\n",
            "15 <class 'int'>\n"
          ]
        }
      ]
    },
    {
      "cell_type": "markdown",
      "source": [
        "# **If, Else, and Elif**"
      ],
      "metadata": {
        "id": "StDdrUdkiJpC"
      }
    },
    {
      "cell_type": "code",
      "source": [
        "required_age_at_school = 5\n",
        "eman_age = 4"
      ],
      "metadata": {
        "id": "WB4XFUgebHpf"
      },
      "execution_count": 24,
      "outputs": []
    },
    {
      "cell_type": "code",
      "source": [
        "# Can eman go to school?"
      ],
      "metadata": {
        "id": "ljTaUASkicE4"
      },
      "execution_count": 23,
      "outputs": []
    },
    {
      "cell_type": "code",
      "source": [
        "if eman_age==required_age_at_school:\n",
        "    print(\"Eman can go to school\")"
      ],
      "metadata": {
        "id": "Z6Z3E0FrifHB"
      },
      "execution_count": 26,
      "outputs": []
    },
    {
      "cell_type": "code",
      "source": [
        "required_age_at_school = 5\n",
        "eman_age = 5"
      ],
      "metadata": {
        "id": "Nc7YvYRbjMN5"
      },
      "execution_count": 27,
      "outputs": []
    },
    {
      "cell_type": "code",
      "source": [
        "# Can eman go to school now?"
      ],
      "metadata": {
        "id": "ikmhAPxejPFY"
      },
      "execution_count": null,
      "outputs": []
    },
    {
      "cell_type": "code",
      "source": [
        "if eman_age==required_age_at_school:\n",
        "    print(\"Eman can go to school\")"
      ],
      "metadata": {
        "id": "FXUUthMIin7K",
        "outputId": "6727af4b-09e1-4ce0-c294-152095abfaeb",
        "colab": {
          "base_uri": "https://localhost:8080/"
        }
      },
      "execution_count": 28,
      "outputs": [
        {
          "output_type": "stream",
          "name": "stdout",
          "text": [
            "Eman can go to school\n"
          ]
        }
      ]
    },
    {
      "cell_type": "code",
      "source": [
        "required_age_at_school = 5\n",
        "eman_age = 4\n",
        "#using if and else\n",
        "if eman_age==required_age_at_school:\n",
        "    print(\"Eman can go to school\")\n",
        "else:\n",
        "    print(\"Eman can not go to school\")"
      ],
      "metadata": {
        "id": "XJbdy885jlTg",
        "outputId": "1e42f139-8b9d-42bd-d29a-d28ebeae4a9b",
        "colab": {
          "base_uri": "https://localhost:8080/"
        }
      },
      "execution_count": 34,
      "outputs": [
        {
          "output_type": "stream",
          "name": "stdout",
          "text": [
            "Eman can not go to school\n"
          ]
        }
      ]
    },
    {
      "cell_type": "code",
      "source": [
        "required_age_at_school = 5\n",
        "eman_age = 8\n",
        "#using if, else, and elif\n",
        "if eman_age==required_age_at_school:\n",
        "    print(\"Eman can go to school\")\n",
        "elif eman_age > required_age_at_school:\n",
        "    print(\"She should join Higher secondary school\")\n",
        "else:\n",
        "    print(\"Eman can not go to school\")\n"
      ],
      "metadata": {
        "id": "5qTrLPxmkFM6",
        "outputId": "25a6835b-6d85-42cc-a2a8-91875e88e3e4",
        "colab": {
          "base_uri": "https://localhost:8080/"
        }
      },
      "execution_count": 35,
      "outputs": [
        {
          "output_type": "stream",
          "name": "stdout",
          "text": [
            "She should join Higher secondary school\n"
          ]
        }
      ]
    },
    {
      "cell_type": "code",
      "source": [
        "required_age_at_school = 5\n",
        "eman_age = 3\n",
        "\n",
        "#using if, else, and 2 times elif\n",
        "if eman_age==required_age_at_school:\n",
        "    print(\"Eman can go to school\")\n",
        "elif eman_age > required_age_at_school:\n",
        "    print(\"She should join Higher secondary school\")\n",
        "elif eman_age < required_age_at_school:\n",
        "    print(\"She is still a baby.\")\n",
        "else:\n",
        "    print(\"Eman can not go to school\")\n"
      ],
      "metadata": {
        "id": "YIot6Fj2kx1M",
        "outputId": "3d826d27-7bf4-41ac-837c-3a7f0bcc9ba1",
        "colab": {
          "base_uri": "https://localhost:8080/"
        }
      },
      "execution_count": 36,
      "outputs": [
        {
          "output_type": "stream",
          "name": "stdout",
          "text": [
            "She is still a baby.\n"
          ]
        }
      ]
    }
  ]
}