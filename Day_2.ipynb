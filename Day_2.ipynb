{
  "nbformat": 4,
  "nbformat_minor": 0,
  "metadata": {
    "colab": {
      "provenance": [],
      "collapsed_sections": [
        "T_E1ymY0pHXx",
        "ifDDtfwrJRFG",
        "viSVHYn0JYS_"
      ],
      "authorship_tag": "ABX9TyNjguslBUMGwybd9hOJq1/M",
      "include_colab_link": true
    },
    "kernelspec": {
      "name": "python3",
      "display_name": "Python 3"
    },
    "language_info": {
      "name": "python"
    }
  },
  "cells": [
    {
      "cell_type": "markdown",
      "metadata": {
        "id": "view-in-github",
        "colab_type": "text"
      },
      "source": [
        "<a href=\"https://colab.research.google.com/github/Syeda-Eman/Python-ka-chilla/blob/main/Day_2.ipynb\" target=\"_parent\"><img src=\"https://colab.research.google.com/assets/colab-badge.svg\" alt=\"Open In Colab\"/></a>"
      ]
    },
    {
      "cell_type": "markdown",
      "source": [
        "# **First Program**"
      ],
      "metadata": {
        "id": "T_E1ymY0pHXx"
      }
    },
    {
      "cell_type": "code",
      "execution_count": null,
      "metadata": {
        "id": "PY4Wvifro_HP",
        "colab": {
          "base_uri": "https://localhost:8080/"
        },
        "outputId": "a4e3b0a9-c312-49e3-fce8-ea7157142eca"
      },
      "outputs": [
        {
          "output_type": "stream",
          "name": "stdout",
          "text": [
            "5\n"
          ]
        }
      ],
      "source": [
        "print(2+3)"
      ]
    },
    {
      "cell_type": "code",
      "source": [
        "print('Hello, world')"
      ],
      "metadata": {
        "id": "wRkSdiAGpGw6",
        "colab": {
          "base_uri": "https://localhost:8080/"
        },
        "outputId": "1f797e28-6049-48eb-d6ad-ff72b6c9ea97"
      },
      "execution_count": null,
      "outputs": [
        {
          "output_type": "stream",
          "name": "stdout",
          "text": [
            "Hello, world\n"
          ]
        }
      ]
    },
    {
      "cell_type": "code",
      "source": [
        "print(\"On 40 days challenge of learning python\")"
      ],
      "metadata": {
        "colab": {
          "base_uri": "https://localhost:8080/"
        },
        "id": "b3gi6fk7JEHo",
        "outputId": "0084a8ad-90a2-4af5-9442-ca242fd6361a"
      },
      "execution_count": null,
      "outputs": [
        {
          "output_type": "stream",
          "name": "stdout",
          "text": [
            "On 40 days challenge of learning python\n"
          ]
        }
      ]
    },
    {
      "cell_type": "markdown",
      "source": [
        "# **Operators**"
      ],
      "metadata": {
        "id": "ifDDtfwrJRFG"
      }
    },
    {
      "cell_type": "code",
      "source": [
        "#Addition\n",
        "2+2"
      ],
      "metadata": {
        "colab": {
          "base_uri": "https://localhost:8080/"
        },
        "id": "vogQkDSBJY9c",
        "outputId": "6191f507-cc81-4e3e-d194-c3c66159405c"
      },
      "execution_count": null,
      "outputs": [
        {
          "output_type": "execute_result",
          "data": {
            "text/plain": [
              "4"
            ]
          },
          "metadata": {},
          "execution_count": 6
        }
      ]
    },
    {
      "cell_type": "code",
      "source": [
        "#Subtraction\n",
        "3-2"
      ],
      "metadata": {
        "colab": {
          "base_uri": "https://localhost:8080/"
        },
        "id": "ZPz5yHL5JazD",
        "outputId": "d45858dc-ebb2-43e2-cf0e-68a6988a358b"
      },
      "execution_count": null,
      "outputs": [
        {
          "output_type": "execute_result",
          "data": {
            "text/plain": [
              "1"
            ]
          },
          "metadata": {},
          "execution_count": 7
        }
      ]
    },
    {
      "cell_type": "code",
      "source": [
        "#Multiplication\n",
        "9*2"
      ],
      "metadata": {
        "colab": {
          "base_uri": "https://localhost:8080/"
        },
        "id": "SqJRvHF6Jg7W",
        "outputId": "4ffcef4a-8dca-404f-a310-3c0b72ea98b1"
      },
      "execution_count": null,
      "outputs": [
        {
          "output_type": "execute_result",
          "data": {
            "text/plain": [
              "18"
            ]
          },
          "metadata": {},
          "execution_count": 8
        }
      ]
    },
    {
      "cell_type": "code",
      "source": [
        "#Division\n",
        "8/2"
      ],
      "metadata": {
        "colab": {
          "base_uri": "https://localhost:8080/"
        },
        "id": "4WXKLMnsJcEf",
        "outputId": "b28a8b4e-58ee-4c43-e8b5-c9aef03a9f0b"
      },
      "execution_count": null,
      "outputs": [
        {
          "output_type": "execute_result",
          "data": {
            "text/plain": [
              "4.0"
            ]
          },
          "metadata": {},
          "execution_count": 9
        }
      ]
    },
    {
      "cell_type": "code",
      "source": [
        "#Remainder\n",
        "9%2"
      ],
      "metadata": {
        "colab": {
          "base_uri": "https://localhost:8080/"
        },
        "id": "RsIt44vXJes4",
        "outputId": "e32fbabb-6415-4f1a-b584-f868989220f0"
      },
      "execution_count": null,
      "outputs": [
        {
          "output_type": "execute_result",
          "data": {
            "text/plain": [
              "1"
            ]
          },
          "metadata": {},
          "execution_count": 10
        }
      ]
    },
    {
      "cell_type": "code",
      "source": [
        "#Division (double slashes return integer while single returns float num)\n",
        "6//2"
      ],
      "metadata": {
        "colab": {
          "base_uri": "https://localhost:8080/"
        },
        "id": "PpjAaxqqKKj2",
        "outputId": "80abe1c5-87e8-4180-bf41-25b850605d6e"
      },
      "execution_count": null,
      "outputs": [
        {
          "output_type": "execute_result",
          "data": {
            "text/plain": [
              "3"
            ]
          },
          "metadata": {},
          "execution_count": 11
        }
      ]
    },
    {
      "cell_type": "code",
      "source": [
        "#Power\n",
        "2**3"
      ],
      "metadata": {
        "colab": {
          "base_uri": "https://localhost:8080/"
        },
        "id": "nnbAQYZEKbzB",
        "outputId": "411f758f-9dff-4a5d-edb1-fe7128cf4b1f"
      },
      "execution_count": null,
      "outputs": [
        {
          "output_type": "execute_result",
          "data": {
            "text/plain": [
              "8"
            ]
          },
          "metadata": {},
          "execution_count": 13
        }
      ]
    },
    {
      "cell_type": "code",
      "source": [
        "#PEMDAS (Parenthesis/Exponents/Multiply/Division/Addition/Subtraction)\n",
        "print(3**2/2*3/3+6-4)"
      ],
      "metadata": {
        "colab": {
          "base_uri": "https://localhost:8080/"
        },
        "id": "G74gHIp3KqgT",
        "outputId": "370168d6-735d-4f2d-954b-3c600fd0f425"
      },
      "execution_count": null,
      "outputs": [
        {
          "output_type": "stream",
          "name": "stdout",
          "text": [
            "6.5\n"
          ]
        }
      ]
    },
    {
      "cell_type": "markdown",
      "source": [
        "# **Strings**"
      ],
      "metadata": {
        "id": "viSVHYn0JYS_"
      }
    },
    {
      "cell_type": "code",
      "source": [
        "print('Hello, world')"
      ],
      "metadata": {
        "colab": {
          "base_uri": "https://localhost:8080/"
        },
        "id": "OlpswMKgLjKm",
        "outputId": "2a35d650-f993-45b9-d18a-a8b96ffd0c07"
      },
      "execution_count": null,
      "outputs": [
        {
          "output_type": "stream",
          "name": "stdout",
          "text": [
            "Hello, world\n"
          ]
        }
      ]
    },
    {
      "cell_type": "code",
      "source": [
        "print(\"On 40 days challenge of learning python\")"
      ],
      "metadata": {
        "colab": {
          "base_uri": "https://localhost:8080/"
        },
        "id": "cPeENx35LpFe",
        "outputId": "8cc386c7-ce2f-4269-905b-713923f78f07"
      },
      "execution_count": null,
      "outputs": [
        {
          "output_type": "stream",
          "name": "stdout",
          "text": [
            "On 40 days challenge of learning python\n"
          ]
        }
      ]
    },
    {
      "cell_type": "code",
      "source": [
        "print('''Test for tripple quotes''')"
      ],
      "metadata": {
        "colab": {
          "base_uri": "https://localhost:8080/"
        },
        "id": "VY-PWUDGLvcv",
        "outputId": "ec19ec01-0eaf-4509-d24d-38eb99368e88"
      },
      "execution_count": null,
      "outputs": [
        {
          "output_type": "stream",
          "name": "stdout",
          "text": [
            "Test for tripple quotes\n"
          ]
        }
      ]
    },
    {
      "cell_type": "code",
      "source": [
        "#spaces will appear as it is\n",
        "print('   hello')"
      ],
      "metadata": {
        "colab": {
          "base_uri": "https://localhost:8080/"
        },
        "id": "Kk-Qsahf75rE",
        "outputId": "46f97b2e-a6ba-44ff-c383-36e72ab6b611"
      },
      "execution_count": null,
      "outputs": [
        {
          "output_type": "stream",
          "name": "stdout",
          "text": [
            "   hello\n"
          ]
        }
      ]
    },
    {
      "cell_type": "code",
      "source": [
        "#avoid\n",
        "#print('What's up?')\n",
        "#instead try using double quotes\n",
        "#print(\"What's up?\")"
      ],
      "metadata": {
        "id": "zpWDRfip7ey7"
      },
      "execution_count": null,
      "outputs": []
    },
    {
      "cell_type": "code",
      "source": [
        "#real use of tripple quotes\n",
        "#triple quotes are used to span multiple lines, and they also serve as docstrings.\n",
        "\n",
        "print(''' Artificial Intelligence (AI) refers to the simulation of human intelligence in machines designed to think and act like humans.\n",
        "It encompasses various technologies, including machine learning, natural language processing, and robotics, enabling computers to perform tasks that typically require human cognition.\n",
        "AI is transforming industries by enhancing efficiency, improving decision-making, and enabling personalized experiences.\n",
        "As it continues to evolve, ethical considerations surrounding its use and impact on society are increasingly important.\n",
        "The future of AI holds immense potential for innovation and growth across multiple sectors.''')"
      ],
      "metadata": {
        "id": "SQJBHPlk8CBh"
      },
      "execution_count": null,
      "outputs": []
    },
    {
      "cell_type": "markdown",
      "source": [
        "# **Comments**"
      ],
      "metadata": {
        "id": "xNYq7Xas9o2t"
      }
    },
    {
      "cell_type": "code",
      "source": [
        "print(\"How are you?\")\n",
        "print(\"Hello world\")\n",
        "print(2+3)"
      ],
      "metadata": {
        "colab": {
          "base_uri": "https://localhost:8080/"
        },
        "id": "_V5Bdt1m9xzj",
        "outputId": "697f3d4c-b69c-4771-829b-6b517d79317e"
      },
      "execution_count": null,
      "outputs": [
        {
          "output_type": "stream",
          "name": "stdout",
          "text": [
            "How are you?\n",
            "Hello world\n",
            "5\n"
          ]
        }
      ]
    },
    {
      "cell_type": "code",
      "source": [
        "#if you dont want to print any specefic thing then comment it out using '#' or (Ctrl + /)\n",
        "\n",
        "print(\"Hello world\")\n",
        "print(\"How are you?\")\n",
        "# print(2+3)"
      ],
      "metadata": {
        "colab": {
          "base_uri": "https://localhost:8080/"
        },
        "id": "cH_fVdzC-Kd5",
        "outputId": "81b0ec63-923e-476d-e5e1-75b81646d9d0"
      },
      "execution_count": null,
      "outputs": [
        {
          "output_type": "stream",
          "name": "stdout",
          "text": [
            "Hello world\n",
            "How are you?\n"
          ]
        }
      ]
    },
    {
      "cell_type": "code",
      "source": [
        "#you can comment the info which is not part of your code like this statement. If you wont then it will through errors."
      ],
      "metadata": {
        "id": "Jbvc3ecNAKS2"
      },
      "execution_count": null,
      "outputs": []
    },
    {
      "cell_type": "markdown",
      "source": [
        "# **Variables**"
      ],
      "metadata": {
        "id": "rRi3IqmLAcw8"
      }
    },
    {
      "cell_type": "code",
      "source": [
        "#variables are objects containing specefic values\n",
        "x = 5\n",
        "y = 3\n",
        "\n",
        "x+y"
      ],
      "metadata": {
        "colab": {
          "base_uri": "https://localhost:8080/"
        },
        "id": "j0IkBq9fAfgz",
        "outputId": "3462d267-b3ae-4f31-a052-f265479564c9"
      },
      "execution_count": null,
      "outputs": [
        {
          "output_type": "execute_result",
          "data": {
            "text/plain": [
              "8"
            ]
          },
          "metadata": {},
          "execution_count": 6
        }
      ]
    },
    {
      "cell_type": "code",
      "source": [
        "print(x)"
      ],
      "metadata": {
        "colab": {
          "base_uri": "https://localhost:8080/"
        },
        "id": "CGReENZJBauc",
        "outputId": "65f5e39a-767e-47bf-c846-f7389782a8d9"
      },
      "execution_count": null,
      "outputs": [
        {
          "output_type": "stream",
          "name": "stdout",
          "text": [
            "5\n"
          ]
        }
      ]
    },
    {
      "cell_type": "code",
      "source": [
        "AI = 'Artificial Intelligence (AI) refers to the simulation of human intelligence in machines designed to think and act like humans. It encompasses various technologies, including machine learning, natural language processing, and robotics, enabling computers to perform tasks that typically require human cognition. AI is transforming industries by enhancing efficiency, improving decision-making, and enabling personalized experiences. As it continues to evolve, ethical considerations surrounding its use and impact on society are increasingly important. The future of AI holds immense potential for innovation and growth across multiple sectors.'\n",
        "print(AI) #we will not use quotes as we dont want to print 'AI'but the thing stored in variable AI"
      ],
      "metadata": {
        "colab": {
          "base_uri": "https://localhost:8080/"
        },
        "id": "OSH7bg0DBeCM",
        "outputId": "b0c68b8f-5c29-4101-9236-0bb45d85520f"
      },
      "execution_count": null,
      "outputs": [
        {
          "output_type": "stream",
          "name": "stdout",
          "text": [
            "Artificial Intelligence (AI) refers to the simulation of human intelligence in machines designed to think and act like humans. It encompasses various technologies, including machine learning, natural language processing, and robotics, enabling computers to perform tasks that typically require human cognition. AI is transforming industries by enhancing efficiency, improving decision-making, and enabling personalized experiences. As it continues to evolve, ethical considerations surrounding its use and impact on society are increasingly important. The future of AI holds immense potential for innovation and growth across multiple sectors.\n"
          ]
        }
      ]
    },
    {
      "cell_type": "code",
      "source": [
        "#printing the type of variable\n",
        "\n",
        "type(x)\n",
        "\n",
        "print(type(x))"
      ],
      "metadata": {
        "colab": {
          "base_uri": "https://localhost:8080/"
        },
        "id": "62cwGTeQDDOH",
        "outputId": "ed076bdf-1ea5-44c2-84fd-d223491e2cea"
      },
      "execution_count": null,
      "outputs": [
        {
          "output_type": "stream",
          "name": "stdout",
          "text": [
            "<class 'int'>\n"
          ]
        }
      ]
    },
    {
      "cell_type": "code",
      "source": [
        "type(AI)\n",
        "\n",
        "print(type(AI ))"
      ],
      "metadata": {
        "colab": {
          "base_uri": "https://localhost:8080/"
        },
        "id": "vNeQ4HwkEhoY",
        "outputId": "81e1ef1d-a5a7-4a22-b43a-fb9b62759409"
      },
      "execution_count": null,
      "outputs": [
        {
          "output_type": "stream",
          "name": "stdout",
          "text": [
            "<class 'str'>\n"
          ]
        }
      ]
    },
    {
      "cell_type": "code",
      "source": [
        "# Rules to assign a variable:\n",
        "# 1. The variable should contain letters, numbers or underscores\n",
        "# 2. Do not start the name with numbers\n",
        "# 3. Avoid spaces and dashes. Use underscore instead\n",
        "# 4. Do not use keywords like (If, False, Print)\n",
        "# 5. Name should be short and descriptive\n",
        "# 6. Case sensitive (Prefer lower case letters for your ease)"
      ],
      "metadata": {
        "id": "nQV644g7GC0K"
      },
      "execution_count": null,
      "outputs": []
    },
    {
      "cell_type": "code",
      "source": [
        "fruit_basket='Mangoes, Apples, Bananas'\n",
        "print(fruit_basket)\n",
        "print(type(fruit_basket))"
      ],
      "metadata": {
        "colab": {
          "base_uri": "https://localhost:8080/"
        },
        "id": "nDPzFsupHSZE",
        "outputId": "b6d4f863-f5f5-4552-848e-aaf4926eeead"
      },
      "execution_count": null,
      "outputs": [
        {
          "output_type": "stream",
          "name": "stdout",
          "text": [
            "Mangoes, Apples, Bananas\n",
            "<class 'str'>\n"
          ]
        }
      ]
    },
    {
      "cell_type": "markdown",
      "source": [
        "# **Input variables**"
      ],
      "metadata": {
        "id": "7dTEgoP3KYCX"
      }
    },
    {
      "cell_type": "code",
      "source": [
        "toy_basket = \"Cars\"\n",
        "print(toy_basket)"
      ],
      "metadata": {
        "colab": {
          "base_uri": "https://localhost:8080/"
        },
        "id": "xr-ZMm40Khpm",
        "outputId": "ec5454a3-abac-4aa9-a2a5-74ede8bb56e6"
      },
      "execution_count": null,
      "outputs": [
        {
          "output_type": "stream",
          "name": "stdout",
          "text": [
            "Cars\n"
          ]
        }
      ]
    },
    {
      "cell_type": "code",
      "source": [
        "#input function\n",
        "toy_basket = input(\"What is your favourite toy? \")\n",
        "print(toy_basket)"
      ],
      "metadata": {
        "colab": {
          "base_uri": "https://localhost:8080/"
        },
        "id": "RzkwBSZQLt5b",
        "outputId": "eca71f69-40b9-4999-b69a-f7474237991e"
      },
      "execution_count": null,
      "outputs": [
        {
          "output_type": "stream",
          "name": "stdout",
          "text": [
            "What is your favourite toy? Car\n",
            "Car\n"
          ]
        }
      ]
    },
    {
      "cell_type": "code",
      "source": [
        "#program from input function\n",
        "name = input('What is your name? ')\n",
        "greetings = 'Hello!'\n",
        "\n",
        "print(greetings, name)"
      ],
      "metadata": {
        "colab": {
          "base_uri": "https://localhost:8080/"
        },
        "id": "JoyUKUlsML55",
        "outputId": "8adfc60f-1d52-4371-de93-5c7bc5c00de4"
      },
      "execution_count": null,
      "outputs": [
        {
          "output_type": "stream",
          "name": "stdout",
          "text": [
            "What is your name? Eman\n",
            "Hello! Eman\n"
          ]
        }
      ]
    },
    {
      "cell_type": "code",
      "source": [
        "#another way to do the same thing\n",
        "name = input('What is your name? ')\n",
        "\n",
        "print('Hello!', name)"
      ],
      "metadata": {
        "colab": {
          "base_uri": "https://localhost:8080/"
        },
        "id": "EIxWNi6FMoMV",
        "outputId": "ff8de834-47bd-4e64-84c1-7d0f7e13f648"
      },
      "execution_count": null,
      "outputs": [
        {
          "output_type": "stream",
          "name": "stdout",
          "text": [
            "What is your name? Eman\n",
            "Hello! Eman\n"
          ]
        }
      ]
    },
    {
      "cell_type": "code",
      "source": [
        "#another program from input function\n",
        "name = input('What is your name? ')\n",
        "age = input('What is your age?')\n",
        "greetings = 'Hello!'\n",
        "\n",
        "print(greetings, name, \", You are still young\")"
      ],
      "metadata": {
        "colab": {
          "base_uri": "https://localhost:8080/"
        },
        "id": "GEiAjUt3Mzx-",
        "outputId": "0d61f95e-000e-40e5-ba21-8cedc90c2982"
      },
      "execution_count": null,
      "outputs": [
        {
          "output_type": "stream",
          "name": "stdout",
          "text": [
            "What is your name? Eman\n",
            "What is your age?15\n",
            "Hello! Eman , You are still young\n"
          ]
        }
      ]
    },
    {
      "cell_type": "markdown",
      "source": [
        "# **Conditional Logics**"
      ],
      "metadata": {
        "id": "htY_fVsJ6QLb"
      }
    }
  ]
}