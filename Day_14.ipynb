{
  "nbformat": 4,
  "nbformat_minor": 0,
  "metadata": {
    "colab": {
      "provenance": [],
      "authorship_tag": "ABX9TyOX3mByUhAt67pMPJ/eUEkw",
      "include_colab_link": true
    },
    "kernelspec": {
      "name": "python3",
      "display_name": "Python 3"
    },
    "language_info": {
      "name": "python"
    }
  },
  "cells": [
    {
      "cell_type": "markdown",
      "metadata": {
        "id": "view-in-github",
        "colab_type": "text"
      },
      "source": [
        "<a href=\"https://colab.research.google.com/github/Syeda-Eman/40-days-of-Python/blob/main/Day_14.ipynb\" target=\"_parent\"><img src=\"https://colab.research.google.com/assets/colab-badge.svg\" alt=\"Open In Colab\"/></a>"
      ]
    },
    {
      "cell_type": "markdown",
      "source": [
        "# **Dictionaries**"
      ],
      "metadata": {
        "id": "VRWF7B2Z1Bgn"
      }
    },
    {
      "cell_type": "code",
      "execution_count": 4,
      "metadata": {
        "id": "9Wk5PpY7Shn3",
        "colab": {
          "base_uri": "https://localhost:8080/"
        },
        "outputId": "c6b85873-f79c-4ef0-d914-c64f1684525f"
      },
      "outputs": [
        {
          "output_type": "stream",
          "name": "stdout",
          "text": [
            "[30.55, 2.77, 39.21] ['afghanistan', 'albania', 'algeria']\n"
          ]
        }
      ],
      "source": [
        "#A List\n",
        "pop = [30.55,2.77,39.21]\n",
        "countries = [\"afghanistan\",\"albania\",\"algeria\"]\n",
        "print(pop,countries)\n",
        "#Not convenient\n",
        "#Not intuitive"
      ]
    },
    {
      "cell_type": "code",
      "source": [
        "#A Dictionary\n",
        "world = {\"afghanistan\":30.55, \"albania\":2.77,\"algeria\":39.21}\n",
        "world[\"albania\"]"
      ],
      "metadata": {
        "colab": {
          "base_uri": "https://localhost:8080/"
        },
        "id": "9RkAZY_P2G39",
        "outputId": "30b22402-42fc-400a-de3d-3668e7c28928"
      },
      "execution_count": 3,
      "outputs": [
        {
          "output_type": "execute_result",
          "data": {
            "text/plain": [
              "2.77"
            ]
          },
          "metadata": {},
          "execution_count": 3
        }
      ]
    },
    {
      "cell_type": "code",
      "source": [
        "#Duplicates in dictionaries\n",
        "world = {\"afghanistan\":30.55, \"albania\":2.77,\"algeria\":39.21, \"albania\":2.75}\n",
        "world"
      ],
      "metadata": {
        "colab": {
          "base_uri": "https://localhost:8080/"
        },
        "id": "gCkDsaZy4-ZT",
        "outputId": "41e157d7-c48c-4ab5-da02-8e3728bf6807"
      },
      "execution_count": 7,
      "outputs": [
        {
          "output_type": "execute_result",
          "data": {
            "text/plain": [
              "{'afghanistan': 30.55, 'albania': 2.75, 'algeria': 39.21}"
            ]
          },
          "metadata": {},
          "execution_count": 7
        }
      ]
    },
    {
      "cell_type": "code",
      "source": [
        "#Mutable objects\n"
      ],
      "metadata": {
        "id": "44BzdNKS5-ec"
      },
      "execution_count": null,
      "outputs": []
    }
  ]
}