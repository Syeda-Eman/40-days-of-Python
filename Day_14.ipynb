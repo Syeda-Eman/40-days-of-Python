{
  "nbformat": 4,
  "nbformat_minor": 0,
  "metadata": {
    "colab": {
      "provenance": [],
      "authorship_tag": "ABX9TyPk0XVgN4PewwErbO/gRZui",
      "include_colab_link": true
    },
    "kernelspec": {
      "name": "python3",
      "display_name": "Python 3"
    },
    "language_info": {
      "name": "python"
    }
  },
  "cells": [
    {
      "cell_type": "markdown",
      "metadata": {
        "id": "view-in-github",
        "colab_type": "text"
      },
      "source": [
        "<a href=\"https://colab.research.google.com/github/Syeda-Eman/40-days-of-Python/blob/main/Day_14.ipynb\" target=\"_parent\"><img src=\"https://colab.research.google.com/assets/colab-badge.svg\" alt=\"Open In Colab\"/></a>"
      ]
    },
    {
      "cell_type": "markdown",
      "source": [
        "# **Dictionaries**"
      ],
      "metadata": {
        "id": "VRWF7B2Z1Bgn"
      }
    },
    {
      "cell_type": "code",
      "execution_count": 4,
      "metadata": {
        "id": "9Wk5PpY7Shn3",
        "colab": {
          "base_uri": "https://localhost:8080/"
        },
        "outputId": "c6b85873-f79c-4ef0-d914-c64f1684525f"
      },
      "outputs": [
        {
          "output_type": "stream",
          "name": "stdout",
          "text": [
            "[30.55, 2.77, 39.21] ['afghanistan', 'albania', 'algeria']\n"
          ]
        }
      ],
      "source": [
        "#A List\n",
        "pop = [30.55,2.77,39.21]\n",
        "countries = [\"afghanistan\",\"albania\",\"algeria\"]\n",
        "print(pop,countries)\n",
        "#Not convenient\n",
        "#Not intuitive"
      ]
    },
    {
      "cell_type": "code",
      "source": [
        "#A Dictionary\n",
        "world = {\"afghanistan\":30.55, \"albania\":2.77,\"algeria\":39.21}\n",
        "world[\"albania\"]"
      ],
      "metadata": {
        "colab": {
          "base_uri": "https://localhost:8080/"
        },
        "id": "9RkAZY_P2G39",
        "outputId": "30b22402-42fc-400a-de3d-3668e7c28928"
      },
      "execution_count": 3,
      "outputs": [
        {
          "output_type": "execute_result",
          "data": {
            "text/plain": [
              "2.77"
            ]
          },
          "metadata": {},
          "execution_count": 3
        }
      ]
    },
    {
      "cell_type": "code",
      "source": [
        "#Duplicates in dictionaries\n",
        "world = {\"afghanistan\":30.55, \"albania\":2.77,\"algeria\":39.21, \"albania\":2.75}\n",
        "world"
      ],
      "metadata": {
        "colab": {
          "base_uri": "https://localhost:8080/"
        },
        "id": "gCkDsaZy4-ZT",
        "outputId": "41e157d7-c48c-4ab5-da02-8e3728bf6807"
      },
      "execution_count": 7,
      "outputs": [
        {
          "output_type": "execute_result",
          "data": {
            "text/plain": [
              "{'afghanistan': 30.55, 'albania': 2.75, 'algeria': 39.21}"
            ]
          },
          "metadata": {},
          "execution_count": 7
        }
      ]
    },
    {
      "cell_type": "code",
      "source": [
        "#Immutable objects\n",
        "{0:\"hello\", True:\"dear\",\"two\":\"world\"}\n",
        "\n",
        "#Mutable objects\n",
        "#{[\"just\",\"to\",\"check\"]:\"value\"}\n",
        "#This will cause error\n",
        "#TypeError: unhashable type: 'list'"
      ],
      "metadata": {
        "colab": {
          "base_uri": "https://localhost:8080/"
        },
        "id": "44BzdNKS5-ec",
        "outputId": "e5e28082-abfd-482d-fc35-4b4fe74cc810"
      },
      "execution_count": 9,
      "outputs": [
        {
          "output_type": "execute_result",
          "data": {
            "text/plain": [
              "{0: 'hello', True: 'dear', 'two': 'world'}"
            ]
          },
          "metadata": {},
          "execution_count": 9
        }
      ]
    },
    {
      "cell_type": "code",
      "source": [
        "#Adding a pair\n",
        "world[\"sealand\"] = 0.000027\n",
        "world"
      ],
      "metadata": {
        "colab": {
          "base_uri": "https://localhost:8080/"
        },
        "id": "axylIWzG8BK5",
        "outputId": "13dd0bc1-2972-461e-91e1-5bf1aa9a1185"
      },
      "execution_count": 10,
      "outputs": [
        {
          "output_type": "execute_result",
          "data": {
            "text/plain": [
              "{'afghanistan': 30.55, 'albania': 2.75, 'algeria': 39.21, 'sealand': 2.7e-05}"
            ]
          },
          "metadata": {},
          "execution_count": 10
        }
      ]
    },
    {
      "cell_type": "code",
      "source": [
        "#Updating the pair\n",
        "world[\"sealand\"] = 0.000028\n",
        "world"
      ],
      "metadata": {
        "colab": {
          "base_uri": "https://localhost:8080/"
        },
        "id": "3qy2AA7g8ONP",
        "outputId": "7d5c5bfb-20de-4f2c-e7fd-4e9df696ee43"
      },
      "execution_count": 11,
      "outputs": [
        {
          "output_type": "execute_result",
          "data": {
            "text/plain": [
              "{'afghanistan': 30.55, 'albania': 2.75, 'algeria': 39.21, 'sealand': 2.8e-05}"
            ]
          },
          "metadata": {},
          "execution_count": 11
        }
      ]
    },
    {
      "cell_type": "code",
      "source": [
        "#Deleting the pair\n",
        "del(world['sealand'])\n",
        "world"
      ],
      "metadata": {
        "colab": {
          "base_uri": "https://localhost:8080/"
        },
        "id": "Z-SFHoxG8Wj1",
        "outputId": "da02cb4a-624c-491b-bea1-602124f407be"
      },
      "execution_count": 12,
      "outputs": [
        {
          "output_type": "execute_result",
          "data": {
            "text/plain": [
              "{'afghanistan': 30.55, 'albania': 2.75, 'algeria': 39.21}"
            ]
          },
          "metadata": {},
          "execution_count": 12
        }
      ]
    },
    {
      "cell_type": "markdown",
      "source": [
        "| List | Dictionary |\n",
        "|------|------------|\n",
        "| Select, update, and remove with [] | Select, update, and remove with [] |\n",
        "| Indexed by range of numbers | Indexed by unique keys |\n",
        "| Collection of values order matters, for selecting entire subsets | Lookup table with unique keys |\n",
        "\n"
      ],
      "metadata": {
        "id": "VjOsf4NI86oF"
      }
    }
  ]
}