{
  "nbformat": 4,
  "nbformat_minor": 0,
  "metadata": {
    "colab": {
      "provenance": [],
      "authorship_tag": "ABX9TyNVCn/zJBlTHh67s1sJ3+HP",
      "include_colab_link": true
    },
    "kernelspec": {
      "name": "python3",
      "display_name": "Python 3"
    },
    "language_info": {
      "name": "python"
    }
  },
  "cells": [
    {
      "cell_type": "markdown",
      "metadata": {
        "id": "view-in-github",
        "colab_type": "text"
      },
      "source": [
        "<a href=\"https://colab.research.google.com/github/Syeda-Eman/40-days-of-Python/blob/main/Day_17.ipynb\" target=\"_parent\"><img src=\"https://colab.research.google.com/assets/colab-badge.svg\" alt=\"Open In Colab\"/></a>"
      ]
    },
    {
      "cell_type": "markdown",
      "source": [
        "# **if, elif, else**"
      ],
      "metadata": {
        "id": "crIHpiLDYmnC"
      }
    },
    {
      "cell_type": "code",
      "source": [
        "#if\n",
        "z=4\n",
        "if z % 2 == 0:\n",
        "  print(\"checking \"+str(z))\n",
        "  print(\"z is even\")"
      ],
      "metadata": {
        "colab": {
          "base_uri": "https://localhost:8080/"
        },
        "id": "LeaMMJ1yZ759",
        "outputId": "40eb8f3e-54a8-4095-8a26-8d79ab39b822"
      },
      "execution_count": 4,
      "outputs": [
        {
          "output_type": "stream",
          "name": "stdout",
          "text": [
            "checking 4\n",
            "z is even\n"
          ]
        }
      ]
    },
    {
      "cell_type": "code",
      "source": [
        "#else\n",
        "z = 5\n",
        "if z % 2 == 0:\n",
        "  print(\"z is even\")\n",
        "else:\n",
        "  print(\"z is odd\")"
      ],
      "metadata": {
        "colab": {
          "base_uri": "https://localhost:8080/"
        },
        "id": "G6MWdLvPczda",
        "outputId": "5037e97d-9491-438f-9e1d-21380f164cbf"
      },
      "execution_count": 5,
      "outputs": [
        {
          "output_type": "stream",
          "name": "stdout",
          "text": [
            "z is odd\n"
          ]
        }
      ]
    },
    {
      "cell_type": "code",
      "source": [
        "#elif\n",
        "z = 3\n",
        "if z%2 == 0:\n",
        "  print(\"z is divisible by 2\")\n",
        "elif z % 3 == 0:\n",
        "  print(\"z is divisible by 3\")"
      ],
      "metadata": {
        "colab": {
          "base_uri": "https://localhost:8080/"
        },
        "id": "BCDRFUU_eGcI",
        "outputId": "81b095e1-6d87-4486-b0d9-1b2937f3cbd9"
      },
      "execution_count": 6,
      "outputs": [
        {
          "output_type": "stream",
          "name": "stdout",
          "text": [
            "z is divisible by 3\n"
          ]
        }
      ]
    },
    {
      "cell_type": "markdown",
      "source": [
        "### **Example**"
      ],
      "metadata": {
        "id": "eqJge8YRjhR3"
      }
    },
    {
      "cell_type": "code",
      "source": [
        "age = 11"
      ],
      "metadata": {
        "id": "0co3iq7aj0Vd"
      },
      "execution_count": 14,
      "outputs": []
    },
    {
      "cell_type": "code",
      "source": [
        "if age < 5:\n",
        "  print(\"You are too young for school\")\n",
        "elif age <= 10:\n",
        "  print(\"You are perfect to start school\")\n",
        "else:\n",
        "  print(\"You should join high school\")"
      ],
      "metadata": {
        "colab": {
          "base_uri": "https://localhost:8080/"
        },
        "id": "Kr5Ajh31jgth",
        "outputId": "b95497ea-703e-44c2-bcb5-a4a454a72bc2"
      },
      "execution_count": 16,
      "outputs": [
        {
          "output_type": "stream",
          "name": "stdout",
          "text": [
            "You should join high school\n"
          ]
        }
      ]
    }
  ]
}