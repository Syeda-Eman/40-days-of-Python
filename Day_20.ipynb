{
  "nbformat": 4,
  "nbformat_minor": 0,
  "metadata": {
    "colab": {
      "provenance": [],
      "authorship_tag": "ABX9TyNVxGdaNwsg+in89vYD/JGI",
      "include_colab_link": true
    },
    "kernelspec": {
      "name": "python3",
      "display_name": "Python 3"
    },
    "language_info": {
      "name": "python"
    }
  },
  "cells": [
    {
      "cell_type": "markdown",
      "metadata": {
        "id": "view-in-github",
        "colab_type": "text"
      },
      "source": [
        "<a href=\"https://colab.research.google.com/github/Syeda-Eman/40-days-of-Python/blob/main/Day_20.ipynb\" target=\"_parent\"><img src=\"https://colab.research.google.com/assets/colab-badge.svg\" alt=\"Open In Colab\"/></a>"
      ]
    },
    {
      "cell_type": "markdown",
      "source": [
        "# **Loop Data Structures**"
      ],
      "metadata": {
        "id": "KhH_ii-ybBab"
      }
    },
    {
      "cell_type": "markdown",
      "source": [
        "### **Numpy**"
      ],
      "metadata": {
        "id": "HYy8rDyeojZa"
      }
    },
    {
      "cell_type": "code",
      "execution_count": 17,
      "metadata": {
        "id": "0mL18hLfRR8w"
      },
      "outputs": [],
      "source": [
        "#creating a dictionary\n",
        "world = {\"afghanistan\":30.55,\n",
        "         \"albania\":2.77,\n",
        "         \"algeria\":39.2}"
      ]
    },
    {
      "cell_type": "code",
      "source": [
        "#printing each element of dictionary\n",
        "for key, value in world.items():\n",
        "    print(key + \" -- \" + str(value))\n"
      ],
      "metadata": {
        "colab": {
          "base_uri": "https://localhost:8080/"
        },
        "id": "bH-7d_BSdWRm",
        "outputId": "3b7af83f-a82e-457b-d188-5779473f16c3"
      },
      "execution_count": 18,
      "outputs": [
        {
          "output_type": "stream",
          "name": "stdout",
          "text": [
            "afghanistan -- 30.55\n",
            "albania -- 2.77\n",
            "algeria -- 39.2\n"
          ]
        }
      ]
    },
    {
      "cell_type": "code",
      "source": [
        "#doing the same thing here\n",
        "for k, v in world.items():\n",
        "    print(k + \" -- \" + str(v))"
      ],
      "metadata": {
        "colab": {
          "base_uri": "https://localhost:8080/"
        },
        "id": "ygNXAbrIdLY9",
        "outputId": "dfa4da30-dc17-4680-e36f-9f8fef87608a"
      },
      "execution_count": 19,
      "outputs": [
        {
          "output_type": "stream",
          "name": "stdout",
          "text": [
            "afghanistan -- 30.55\n",
            "albania -- 2.77\n",
            "algeria -- 39.2\n"
          ]
        }
      ]
    },
    {
      "cell_type": "code",
      "source": [
        "#creating 1d arrays\n",
        "import numpy as np\n",
        "np_height = np.array([1.73, 1.68, 1.71, 1.89, 1.79])\n",
        "np_weight = np.array([65.4, 59.2, 63.6, 88.4, 68.7])"
      ],
      "metadata": {
        "id": "uTKCjIp1dDhl"
      },
      "execution_count": 20,
      "outputs": []
    },
    {
      "cell_type": "code",
      "source": [
        "#creating a bmi calculator\n",
        "bmi = np_weight/np_height ** 2\n",
        "for val in bmi:\n",
        "    print(val)"
      ],
      "metadata": {
        "colab": {
          "base_uri": "https://localhost:8080/"
        },
        "id": "N6p2E3emc1hA",
        "outputId": "1e49938e-77cf-4a43-fd78-77e2d4d63615"
      },
      "execution_count": 21,
      "outputs": [
        {
          "output_type": "stream",
          "name": "stdout",
          "text": [
            "21.85171572722109\n",
            "20.97505668934241\n",
            "21.750282138093777\n",
            "24.74734749867025\n",
            "21.44127836209856\n"
          ]
        }
      ]
    },
    {
      "cell_type": "code",
      "source": [
        "#printing array using for loop\n",
        "meas = np.array([np_height, np_weight])\n",
        "for val in meas:\n",
        "  print(val)"
      ],
      "metadata": {
        "colab": {
          "base_uri": "https://localhost:8080/"
        },
        "id": "Pu5Bkne-gXfY",
        "outputId": "d51f364c-0838-4092-a643-6e6e6ea67788"
      },
      "execution_count": 22,
      "outputs": [
        {
          "output_type": "stream",
          "name": "stdout",
          "text": [
            "[1.73 1.68 1.71 1.89 1.79]\n",
            "[65.4 59.2 63.6 88.4 68.7]\n"
          ]
        }
      ]
    },
    {
      "cell_type": "code",
      "source": [
        "#using .nditer function\n",
        "meas = np.array([np_height, np_weight])\n",
        "for val in np.nditer(meas):\n",
        "    print(val)"
      ],
      "metadata": {
        "colab": {
          "base_uri": "https://localhost:8080/"
        },
        "id": "MtSsdD8ZbAPP",
        "outputId": "d53192fd-129b-4727-c2af-83f0091330a9"
      },
      "execution_count": 23,
      "outputs": [
        {
          "output_type": "stream",
          "name": "stdout",
          "text": [
            "1.73\n",
            "1.68\n",
            "1.71\n",
            "1.89\n",
            "1.79\n",
            "65.4\n",
            "59.2\n",
            "63.6\n",
            "88.4\n",
            "68.7\n"
          ]
        }
      ]
    },
    {
      "cell_type": "markdown",
      "source": [
        "### **Pandas**"
      ],
      "metadata": {
        "id": "WlfmbBvkolgn"
      }
    },
    {
      "cell_type": "code",
      "source": [
        "#loading data\n",
        "import pandas as pd\n",
        "brics = pd.read_csv(\"brics.csv\", index_col=0)"
      ],
      "metadata": {
        "id": "_F9TgLUypnAd"
      },
      "execution_count": 24,
      "outputs": []
    },
    {
      "cell_type": "code",
      "source": [
        "#printing elements in the brics dataset (but it will only print the column_names)\n",
        "for val in brics:\n",
        "  print(val)"
      ],
      "metadata": {
        "colab": {
          "base_uri": "https://localhost:8080/"
        },
        "id": "a-lhCb5oxZFt",
        "outputId": "e0fd7cb3-5d06-4166-e35a-b5c41408289d"
      },
      "execution_count": 25,
      "outputs": [
        {
          "output_type": "stream",
          "name": "stdout",
          "text": [
            "country\n",
            "capital\n",
            "area\n",
            "population\n"
          ]
        }
      ]
    },
    {
      "cell_type": "code",
      "source": [
        "#printing all the elements in brics dataset using .iterrows() function\n",
        "for lab, row in brics.iterrows():\n",
        "    print(lab)\n",
        "    print(row)"
      ],
      "metadata": {
        "colab": {
          "base_uri": "https://localhost:8080/"
        },
        "id": "YYTeMvo0yNrT",
        "outputId": "6bf52519-e128-47be-f7ee-00cd5dfab2c3"
      },
      "execution_count": 26,
      "outputs": [
        {
          "output_type": "stream",
          "name": "stdout",
          "text": [
            "BR\n",
            "country         Brazil\n",
            "capital       Brasilia\n",
            "area             8.516\n",
            "population       200.4\n",
            "Name: BR, dtype: object\n",
            "RU\n",
            "country       Russia\n",
            "capital       Moscow\n",
            "area            17.1\n",
            "population     143.5\n",
            "Name: RU, dtype: object\n",
            "IN\n",
            "country           India\n",
            "capital       New Delhi\n",
            "area              3.286\n",
            "population       1252.0\n",
            "Name: IN, dtype: object\n",
            "CH\n",
            "country         China\n",
            "capital       Beijing\n",
            "area            9.597\n",
            "population     1357.0\n",
            "Name: CH, dtype: object\n",
            "SA\n",
            "country       South Africa\n",
            "capital           Pretoria\n",
            "area                 1.221\n",
            "population           52.98\n",
            "Name: SA, dtype: object\n"
          ]
        }
      ]
    },
    {
      "cell_type": "code",
      "source": [
        "#making a new column named name_length and as data, giving the length of the country names\n",
        "for lab, row in brics.iterrows():\n",
        "  brics.loc[lab, \"name_length\"] = len(row[\"country\"])\n",
        "print(brics)"
      ],
      "metadata": {
        "colab": {
          "base_uri": "https://localhost:8080/"
        },
        "id": "7Att-mMxyv0A",
        "outputId": "edb5a767-11cc-4dc2-85d4-6970f8056351"
      },
      "execution_count": 27,
      "outputs": [
        {
          "output_type": "stream",
          "name": "stdout",
          "text": [
            "         country    capital    area  population  name_length\n",
            "BR        Brazil   Brasilia   8.516      200.40          6.0\n",
            "RU        Russia     Moscow  17.100      143.50          6.0\n",
            "IN         India  New Delhi   3.286     1252.00          5.0\n",
            "CH         China    Beijing   9.597     1357.00          5.0\n",
            "SA  South Africa   Pretoria   1.221       52.98         12.0\n"
          ]
        }
      ]
    },
    {
      "cell_type": "code",
      "source": [
        "#using .apply func to do the same thing we did before using for loop\n",
        "brics[\"name_length\"]=brics[\"country\"].apply(len)\n",
        "print(brics)"
      ],
      "metadata": {
        "colab": {
          "base_uri": "https://localhost:8080/"
        },
        "id": "jcHclZMt1ZuO",
        "outputId": "7be9d3bc-fc86-467d-9578-79b67d67de0b"
      },
      "execution_count": 28,
      "outputs": [
        {
          "output_type": "stream",
          "name": "stdout",
          "text": [
            "         country    capital    area  population  name_length\n",
            "BR        Brazil   Brasilia   8.516      200.40            6\n",
            "RU        Russia     Moscow  17.100      143.50            6\n",
            "IN         India  New Delhi   3.286     1252.00            5\n",
            "CH         China    Beijing   9.597     1357.00            5\n",
            "SA  South Africa   Pretoria   1.221       52.98           12\n"
          ]
        }
      ]
    },
    {
      "cell_type": "code",
      "source": [
        "#printing countries and their capitals\n",
        "for lab, row in brics.iterrows():\n",
        "  print(lab + \": \" + row[\"capital\"])"
      ],
      "metadata": {
        "colab": {
          "base_uri": "https://localhost:8080/"
        },
        "id": "vmGUHRZexyKL",
        "outputId": "913075a2-3c66-4864-af80-ebb755d4649b"
      },
      "execution_count": 30,
      "outputs": [
        {
          "output_type": "stream",
          "name": "stdout",
          "text": [
            "BR: Brasilia\n",
            "RU: Moscow\n",
            "IN: New Delhi\n",
            "CH: Beijing\n",
            "SA: Pretoria\n"
          ]
        }
      ]
    }
  ]
}