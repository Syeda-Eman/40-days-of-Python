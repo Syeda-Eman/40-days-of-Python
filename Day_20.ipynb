{
  "nbformat": 4,
  "nbformat_minor": 0,
  "metadata": {
    "colab": {
      "provenance": [],
      "authorship_tag": "ABX9TyNYwuSEslu4X7PP02HC6A8h",
      "include_colab_link": true
    },
    "kernelspec": {
      "name": "python3",
      "display_name": "Python 3"
    },
    "language_info": {
      "name": "python"
    }
  },
  "cells": [
    {
      "cell_type": "markdown",
      "metadata": {
        "id": "view-in-github",
        "colab_type": "text"
      },
      "source": [
        "<a href=\"https://colab.research.google.com/github/Syeda-Eman/40-days-of-Python/blob/main/Day_20.ipynb\" target=\"_parent\"><img src=\"https://colab.research.google.com/assets/colab-badge.svg\" alt=\"Open In Colab\"/></a>"
      ]
    },
    {
      "cell_type": "markdown",
      "source": [
        "# **Loop Data Structures**"
      ],
      "metadata": {
        "id": "KhH_ii-ybBab"
      }
    },
    {
      "cell_type": "markdown",
      "source": [
        "### **Numpy**"
      ],
      "metadata": {
        "id": "HYy8rDyeojZa"
      }
    },
    {
      "cell_type": "code",
      "execution_count": 1,
      "metadata": {
        "id": "0mL18hLfRR8w"
      },
      "outputs": [],
      "source": [
        "world = {\"afghanistan\":30.55,\n",
        "         \"albania\":2.77,\n",
        "         \"algeria\":39.2}"
      ]
    },
    {
      "cell_type": "code",
      "source": [
        "for key, value in world.items():\n",
        "    print(key + \" -- \" + str(value))\n"
      ],
      "metadata": {
        "colab": {
          "base_uri": "https://localhost:8080/"
        },
        "id": "bH-7d_BSdWRm",
        "outputId": "53f08473-8804-4792-877b-3cd3387d8bf8"
      },
      "execution_count": 2,
      "outputs": [
        {
          "output_type": "stream",
          "name": "stdout",
          "text": [
            "afghanistan -- 30.55\n",
            "albania -- 2.77\n",
            "algeria -- 39.2\n"
          ]
        }
      ]
    },
    {
      "cell_type": "code",
      "source": [
        "for k, v in world.items():\n",
        "    print(k + \" -- \" + str(v))"
      ],
      "metadata": {
        "colab": {
          "base_uri": "https://localhost:8080/"
        },
        "id": "ygNXAbrIdLY9",
        "outputId": "4060ffee-a59d-4c76-9066-704efdc025f4"
      },
      "execution_count": 3,
      "outputs": [
        {
          "output_type": "stream",
          "name": "stdout",
          "text": [
            "afghanistan -- 30.55\n",
            "albania -- 2.77\n",
            "algeria -- 39.2\n"
          ]
        }
      ]
    },
    {
      "cell_type": "code",
      "source": [
        "import numpy as np\n",
        "np_height = np.array([1.73, 1.68, 1.71, 1.89, 1.79])\n",
        "np_weight = np.array([65.4, 59.2, 63.6, 88.4, 68.7])"
      ],
      "metadata": {
        "id": "uTKCjIp1dDhl"
      },
      "execution_count": 4,
      "outputs": []
    },
    {
      "cell_type": "code",
      "source": [
        "bmi = np_weight/np_height ** 2\n",
        "for val in bmi:\n",
        "    print(val)"
      ],
      "metadata": {
        "colab": {
          "base_uri": "https://localhost:8080/"
        },
        "id": "N6p2E3emc1hA",
        "outputId": "4c51ce21-d4c2-48f8-98ee-2c44f924dad2"
      },
      "execution_count": 5,
      "outputs": [
        {
          "output_type": "stream",
          "name": "stdout",
          "text": [
            "21.85171572722109\n",
            "20.97505668934241\n",
            "21.750282138093777\n",
            "24.74734749867025\n",
            "21.44127836209856\n"
          ]
        }
      ]
    },
    {
      "cell_type": "code",
      "source": [
        "meas = np.array([np_height, np_weight])\n",
        "for val in meas:\n",
        "  print(val)"
      ],
      "metadata": {
        "colab": {
          "base_uri": "https://localhost:8080/"
        },
        "id": "Pu5Bkne-gXfY",
        "outputId": "44aeaef3-a6df-4d75-9dc0-9318c70a9839"
      },
      "execution_count": 6,
      "outputs": [
        {
          "output_type": "stream",
          "name": "stdout",
          "text": [
            "[1.73 1.68 1.71 1.89 1.79]\n",
            "[65.4 59.2 63.6 88.4 68.7]\n"
          ]
        }
      ]
    },
    {
      "cell_type": "code",
      "source": [
        "meas = np.array([np_height, np_weight])\n",
        "for val in np.nditer(meas):\n",
        "    print(val)"
      ],
      "metadata": {
        "colab": {
          "base_uri": "https://localhost:8080/"
        },
        "id": "MtSsdD8ZbAPP",
        "outputId": "35898471-c8b5-4ab8-d885-c4895d84c53f"
      },
      "execution_count": 7,
      "outputs": [
        {
          "output_type": "stream",
          "name": "stdout",
          "text": [
            "1.73\n",
            "1.68\n",
            "1.71\n",
            "1.89\n",
            "1.79\n",
            "65.4\n",
            "59.2\n",
            "63.6\n",
            "88.4\n",
            "68.7\n"
          ]
        }
      ]
    },
    {
      "cell_type": "markdown",
      "source": [
        "### **Pandas**"
      ],
      "metadata": {
        "id": "WlfmbBvkolgn"
      }
    },
    {
      "cell_type": "code",
      "source": [
        "import pandas as pd\n",
        "brics = pd.read_csv(\"brics.csv\", index_col=0)"
      ],
      "metadata": {
        "id": "_F9TgLUypnAd"
      },
      "execution_count": 8,
      "outputs": []
    },
    {
      "cell_type": "code",
      "source": [
        "for val in brics:\n",
        "  print(val)"
      ],
      "metadata": {
        "colab": {
          "base_uri": "https://localhost:8080/"
        },
        "id": "a-lhCb5oxZFt",
        "outputId": "95bb9ab8-8188-4a44-e94e-8e60d1862400"
      },
      "execution_count": 9,
      "outputs": [
        {
          "output_type": "stream",
          "name": "stdout",
          "text": [
            "country\n",
            "capital\n",
            "area\n",
            "population\n"
          ]
        }
      ]
    },
    {
      "cell_type": "code",
      "source": [
        "for lab, row in brics.iterrows():\n",
        "    print(lab)\n",
        "    print(row)"
      ],
      "metadata": {
        "colab": {
          "base_uri": "https://localhost:8080/"
        },
        "id": "YYTeMvo0yNrT",
        "outputId": "1cb35440-d415-4a9b-cb11-670cfe5a0ab1"
      },
      "execution_count": 10,
      "outputs": [
        {
          "output_type": "stream",
          "name": "stdout",
          "text": [
            "BR\n",
            "country         Brazil\n",
            "capital       Brasilia\n",
            "area             8.516\n",
            "population       200.4\n",
            "Name: BR, dtype: object\n",
            "RU\n",
            "country       Russia\n",
            "capital       Moscow\n",
            "area            17.1\n",
            "population     143.5\n",
            "Name: RU, dtype: object\n",
            "IN\n",
            "country           India\n",
            "capital       New Delhi\n",
            "area              3.286\n",
            "population       1252.0\n",
            "Name: IN, dtype: object\n",
            "CH\n",
            "country         China\n",
            "capital       Beijing\n",
            "area            9.597\n",
            "population     1357.0\n",
            "Name: CH, dtype: object\n",
            "SA\n",
            "country       South Africa\n",
            "capital           Pretoria\n",
            "area                 1.221\n",
            "population           52.98\n",
            "Name: SA, dtype: object\n"
          ]
        }
      ]
    },
    {
      "cell_type": "code",
      "source": [
        "for lab, row in brics.iterrows():\n",
        "  brics.loc[lab, \"name_length\"] = len(row[\"country\"])\n",
        "print(brics)"
      ],
      "metadata": {
        "colab": {
          "base_uri": "https://localhost:8080/"
        },
        "id": "7Att-mMxyv0A",
        "outputId": "73d96942-e13a-40a1-f53d-9a301550f056"
      },
      "execution_count": 11,
      "outputs": [
        {
          "output_type": "stream",
          "name": "stdout",
          "text": [
            "         country    capital    area  population  name_length\n",
            "BR        Brazil   Brasilia   8.516      200.40          6.0\n",
            "RU        Russia     Moscow  17.100      143.50          6.0\n",
            "IN         India  New Delhi   3.286     1252.00          5.0\n",
            "CH         China    Beijing   9.597     1357.00          5.0\n",
            "SA  South Africa   Pretoria   1.221       52.98         12.0\n"
          ]
        }
      ]
    },
    {
      "cell_type": "code",
      "source": [
        "brics[\"name_length\"]=brics[\"country\"].apply(len)\n",
        "print(brics)"
      ],
      "metadata": {
        "colab": {
          "base_uri": "https://localhost:8080/"
        },
        "id": "jcHclZMt1ZuO",
        "outputId": "c8995e8e-8a51-4f7e-d257-a2ecf9178aea"
      },
      "execution_count": 12,
      "outputs": [
        {
          "output_type": "stream",
          "name": "stdout",
          "text": [
            "         country    capital    area  population  name_length\n",
            "BR        Brazil   Brasilia   8.516      200.40            6\n",
            "RU        Russia     Moscow  17.100      143.50            6\n",
            "IN         India  New Delhi   3.286     1252.00            5\n",
            "CH         China    Beijing   9.597     1357.00            5\n",
            "SA  South Africa   Pretoria   1.221       52.98           12\n"
          ]
        }
      ]
    },
    {
      "cell_type": "code",
      "source": [
        "for val in brics:\n",
        "  print(val)"
      ],
      "metadata": {
        "colab": {
          "base_uri": "https://localhost:8080/"
        },
        "id": "faj4bm2UxCo3",
        "outputId": "41c8c0c2-f0d6-48a2-ce66-d74452c1acc5"
      },
      "execution_count": 13,
      "outputs": [
        {
          "output_type": "stream",
          "name": "stdout",
          "text": [
            "country\n",
            "capital\n",
            "area\n",
            "population\n",
            "name_length\n"
          ]
        }
      ]
    },
    {
      "cell_type": "code",
      "source": [
        "for lab, row in brics.iterrows():\n",
        "  print(lab + \": \" + row[\"capital\"])"
      ],
      "metadata": {
        "colab": {
          "base_uri": "https://localhost:8080/"
        },
        "id": "vmGUHRZexyKL",
        "outputId": "ccebcf11-9212-45e7-fcd9-bc998d1352d2"
      },
      "execution_count": 14,
      "outputs": [
        {
          "output_type": "stream",
          "name": "stdout",
          "text": [
            "BR: Brasilia\n",
            "RU: Moscow\n",
            "IN: New Delhi\n",
            "CH: Beijing\n",
            "SA: Pretoria\n"
          ]
        }
      ]
    },
    {
      "cell_type": "code",
      "source": [
        "for lab, row in brics.iterrows():\n",
        "  brics.loc[lab, \"name_length\"] = len(row[\"country\"])\n",
        "print(brics)"
      ],
      "metadata": {
        "colab": {
          "base_uri": "https://localhost:8080/"
        },
        "id": "VsJk3kwXyTbl",
        "outputId": "84d4b496-9169-48fd-9002-5b924ffa5f0b"
      },
      "execution_count": 15,
      "outputs": [
        {
          "output_type": "stream",
          "name": "stdout",
          "text": [
            "         country    capital    area  population  name_length\n",
            "BR        Brazil   Brasilia   8.516      200.40            6\n",
            "RU        Russia     Moscow  17.100      143.50            6\n",
            "IN         India  New Delhi   3.286     1252.00            5\n",
            "CH         China    Beijing   9.597     1357.00            5\n",
            "SA  South Africa   Pretoria   1.221       52.98           12\n"
          ]
        }
      ]
    },
    {
      "cell_type": "code",
      "source": [
        "for lab, row in brics.iterrows():\n",
        "  brics.loc[lab, \"name_length\"] = len(row[\"country\"])\n",
        "print(brics)"
      ],
      "metadata": {
        "id": "ftj3-Mley4yt"
      },
      "execution_count": null,
      "outputs": []
    },
    {
      "cell_type": "code",
      "source": [
        "brics[\"name_length\"] = brics[\"country\"].apply(len)\n",
        "print(brics)"
      ],
      "metadata": {
        "colab": {
          "base_uri": "https://localhost:8080/"
        },
        "id": "LwL2j27Qy_wY",
        "outputId": "5bdc4228-992e-4da9-fa5d-d4c48f7c5503"
      },
      "execution_count": 16,
      "outputs": [
        {
          "output_type": "stream",
          "name": "stdout",
          "text": [
            "         country    capital    area  population  name_length\n",
            "BR        Brazil   Brasilia   8.516      200.40            6\n",
            "RU        Russia     Moscow  17.100      143.50            6\n",
            "IN         India  New Delhi   3.286     1252.00            5\n",
            "CH         China    Beijing   9.597     1357.00            5\n",
            "SA  South Africa   Pretoria   1.221       52.98           12\n"
          ]
        }
      ]
    }
  ]
}